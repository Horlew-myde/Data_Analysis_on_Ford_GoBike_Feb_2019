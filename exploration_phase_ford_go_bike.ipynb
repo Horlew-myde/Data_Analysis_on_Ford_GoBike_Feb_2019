{
 "cells": [
  {
   "cell_type": "markdown",
   "metadata": {},
   "source": [
    "# Part I : Ford GoBike System Data Explorartion\n",
    "## by Olumide Johnson Amune\n",
    "\n",
    "## Introduction\n",
    "\n",
    ">This data set is an information on customer and Subscribers rides made in Ford Gobike-sharing system covering the greater San Francisco Bay area updated to february 2019.\n",
    "\n",
    ">No dataset ever comes completely clean and this isn't an exception and would require a bit of data wrangling in order to make it tidy for the analysis we intend to carry out on it.\n",
    "\n",
    "> Finally this dataset is hosted on the Udacity Site(https://video.udacity-data.com/topher/2020/October/5f91cf38_201902-fordgobike-tripdata/201902-fordgobike-tripdata.csv). and this is a lirect link to the download\n",
    "\n",
    "\n",
    "#### *We intend to perform the follwing in  this data set\n",
    "\n",
    "- [Preliminary Wrangling](#wrangle)\n",
    "- [Univariate Explorations](#univariate)\n",
    "- [Bivariate Explorations](#bivariate)\n",
    "- [Multivariate Explorations](#multivariate)\n",
    "- [Conclusion](#conclusion)\n",
    "\n",
    "\n",
    "\n",
    "## Preliminary Wrangling\n"
   ]
  },
  {
   "cell_type": "code",
   "execution_count": 306,
   "metadata": {},
   "outputs": [],
   "source": [
    "# First we import all packages and set plots to be embedded inline:\n",
    "import numpy as np\n",
    "import pandas as pd\n",
    "import matplotlib.pyplot as plt\n",
    "import seaborn as sb\n",
    "\n",
    "%matplotlib inline\n",
    "import warnings\n",
    "warnings.filterwarnings('ignore')"
   ]
  },
  {
   "cell_type": "markdown",
   "metadata": {},
   "source": [
    "\n"
   ]
  },
  {
   "cell_type": "code",
   "execution_count": 307,
   "metadata": {},
   "outputs": [],
   "source": [
    "# now we want to load in the dataset using pandas dataframe.\n",
    "bike_df = pd.read_csv(\"201902-fordgobike-tripdata.csv\")"
   ]
  },
  {
   "cell_type": "code",
   "execution_count": 308,
   "metadata": {},
   "outputs": [
    {
     "data": {
      "text/plain": [
       "(183412, 16)"
      ]
     },
     "execution_count": 308,
     "metadata": {},
     "output_type": "execute_result"
    }
   ],
   "source": [
    "# Dataframe shape\n",
    "bike_df.shape"
   ]
  },
  {
   "cell_type": "code",
   "execution_count": 309,
   "metadata": {},
   "outputs": [
    {
     "data": {
      "text/plain": [
       "duration_sec                 int64\n",
       "start_time                  object\n",
       "end_time                    object\n",
       "start_station_id           float64\n",
       "start_station_name          object\n",
       "start_station_latitude     float64\n",
       "start_station_longitude    float64\n",
       "end_station_id             float64\n",
       "end_station_name            object\n",
       "end_station_latitude       float64\n",
       "end_station_longitude      float64\n",
       "bike_id                      int64\n",
       "user_type                   object\n",
       "member_birth_year          float64\n",
       "member_gender               object\n",
       "bike_share_for_all_trip     object\n",
       "dtype: object"
      ]
     },
     "execution_count": 309,
     "metadata": {},
     "output_type": "execute_result"
    }
   ],
   "source": [
    "# Data type\n",
    "bike_df.dtypes"
   ]
  },
  {
   "cell_type": "code",
   "execution_count": 310,
   "metadata": {},
   "outputs": [
    {
     "data": {
      "text/html": [
       "<div>\n",
       "<style scoped>\n",
       "    .dataframe tbody tr th:only-of-type {\n",
       "        vertical-align: middle;\n",
       "    }\n",
       "\n",
       "    .dataframe tbody tr th {\n",
       "        vertical-align: top;\n",
       "    }\n",
       "\n",
       "    .dataframe thead th {\n",
       "        text-align: right;\n",
       "    }\n",
       "</style>\n",
       "<table border=\"1\" class=\"dataframe\">\n",
       "  <thead>\n",
       "    <tr style=\"text-align: right;\">\n",
       "      <th></th>\n",
       "      <th>duration_sec</th>\n",
       "      <th>start_time</th>\n",
       "      <th>end_time</th>\n",
       "      <th>start_station_id</th>\n",
       "      <th>start_station_name</th>\n",
       "      <th>start_station_latitude</th>\n",
       "      <th>start_station_longitude</th>\n",
       "      <th>end_station_id</th>\n",
       "      <th>end_station_name</th>\n",
       "      <th>end_station_latitude</th>\n",
       "      <th>end_station_longitude</th>\n",
       "      <th>bike_id</th>\n",
       "      <th>user_type</th>\n",
       "      <th>member_birth_year</th>\n",
       "      <th>member_gender</th>\n",
       "      <th>bike_share_for_all_trip</th>\n",
       "    </tr>\n",
       "  </thead>\n",
       "  <tbody>\n",
       "    <tr>\n",
       "      <th>0</th>\n",
       "      <td>52185</td>\n",
       "      <td>2019-02-28 17:32:10.1450</td>\n",
       "      <td>2019-03-01 08:01:55.9750</td>\n",
       "      <td>21.0</td>\n",
       "      <td>Montgomery St BART Station (Market St at 2nd St)</td>\n",
       "      <td>37.789625</td>\n",
       "      <td>-122.400811</td>\n",
       "      <td>13.0</td>\n",
       "      <td>Commercial St at Montgomery St</td>\n",
       "      <td>37.794231</td>\n",
       "      <td>-122.402923</td>\n",
       "      <td>4902</td>\n",
       "      <td>Customer</td>\n",
       "      <td>1984.0</td>\n",
       "      <td>Male</td>\n",
       "      <td>No</td>\n",
       "    </tr>\n",
       "    <tr>\n",
       "      <th>1</th>\n",
       "      <td>42521</td>\n",
       "      <td>2019-02-28 18:53:21.7890</td>\n",
       "      <td>2019-03-01 06:42:03.0560</td>\n",
       "      <td>23.0</td>\n",
       "      <td>The Embarcadero at Steuart St</td>\n",
       "      <td>37.791464</td>\n",
       "      <td>-122.391034</td>\n",
       "      <td>81.0</td>\n",
       "      <td>Berry St at 4th St</td>\n",
       "      <td>37.775880</td>\n",
       "      <td>-122.393170</td>\n",
       "      <td>2535</td>\n",
       "      <td>Customer</td>\n",
       "      <td>NaN</td>\n",
       "      <td>NaN</td>\n",
       "      <td>No</td>\n",
       "    </tr>\n",
       "    <tr>\n",
       "      <th>2</th>\n",
       "      <td>61854</td>\n",
       "      <td>2019-02-28 12:13:13.2180</td>\n",
       "      <td>2019-03-01 05:24:08.1460</td>\n",
       "      <td>86.0</td>\n",
       "      <td>Market St at Dolores St</td>\n",
       "      <td>37.769305</td>\n",
       "      <td>-122.426826</td>\n",
       "      <td>3.0</td>\n",
       "      <td>Powell St BART Station (Market St at 4th St)</td>\n",
       "      <td>37.786375</td>\n",
       "      <td>-122.404904</td>\n",
       "      <td>5905</td>\n",
       "      <td>Customer</td>\n",
       "      <td>1972.0</td>\n",
       "      <td>Male</td>\n",
       "      <td>No</td>\n",
       "    </tr>\n",
       "    <tr>\n",
       "      <th>3</th>\n",
       "      <td>36490</td>\n",
       "      <td>2019-02-28 17:54:26.0100</td>\n",
       "      <td>2019-03-01 04:02:36.8420</td>\n",
       "      <td>375.0</td>\n",
       "      <td>Grove St at Masonic Ave</td>\n",
       "      <td>37.774836</td>\n",
       "      <td>-122.446546</td>\n",
       "      <td>70.0</td>\n",
       "      <td>Central Ave at Fell St</td>\n",
       "      <td>37.773311</td>\n",
       "      <td>-122.444293</td>\n",
       "      <td>6638</td>\n",
       "      <td>Subscriber</td>\n",
       "      <td>1989.0</td>\n",
       "      <td>Other</td>\n",
       "      <td>No</td>\n",
       "    </tr>\n",
       "    <tr>\n",
       "      <th>4</th>\n",
       "      <td>1585</td>\n",
       "      <td>2019-02-28 23:54:18.5490</td>\n",
       "      <td>2019-03-01 00:20:44.0740</td>\n",
       "      <td>7.0</td>\n",
       "      <td>Frank H Ogawa Plaza</td>\n",
       "      <td>37.804562</td>\n",
       "      <td>-122.271738</td>\n",
       "      <td>222.0</td>\n",
       "      <td>10th Ave at E 15th St</td>\n",
       "      <td>37.792714</td>\n",
       "      <td>-122.248780</td>\n",
       "      <td>4898</td>\n",
       "      <td>Subscriber</td>\n",
       "      <td>1974.0</td>\n",
       "      <td>Male</td>\n",
       "      <td>Yes</td>\n",
       "    </tr>\n",
       "  </tbody>\n",
       "</table>\n",
       "</div>"
      ],
      "text/plain": [
       "   duration_sec                start_time                  end_time  \\\n",
       "0         52185  2019-02-28 17:32:10.1450  2019-03-01 08:01:55.9750   \n",
       "1         42521  2019-02-28 18:53:21.7890  2019-03-01 06:42:03.0560   \n",
       "2         61854  2019-02-28 12:13:13.2180  2019-03-01 05:24:08.1460   \n",
       "3         36490  2019-02-28 17:54:26.0100  2019-03-01 04:02:36.8420   \n",
       "4          1585  2019-02-28 23:54:18.5490  2019-03-01 00:20:44.0740   \n",
       "\n",
       "   start_station_id                                start_station_name  \\\n",
       "0              21.0  Montgomery St BART Station (Market St at 2nd St)   \n",
       "1              23.0                     The Embarcadero at Steuart St   \n",
       "2              86.0                           Market St at Dolores St   \n",
       "3             375.0                           Grove St at Masonic Ave   \n",
       "4               7.0                               Frank H Ogawa Plaza   \n",
       "\n",
       "   start_station_latitude  start_station_longitude  end_station_id  \\\n",
       "0               37.789625              -122.400811            13.0   \n",
       "1               37.791464              -122.391034            81.0   \n",
       "2               37.769305              -122.426826             3.0   \n",
       "3               37.774836              -122.446546            70.0   \n",
       "4               37.804562              -122.271738           222.0   \n",
       "\n",
       "                               end_station_name  end_station_latitude  \\\n",
       "0                Commercial St at Montgomery St             37.794231   \n",
       "1                            Berry St at 4th St             37.775880   \n",
       "2  Powell St BART Station (Market St at 4th St)             37.786375   \n",
       "3                        Central Ave at Fell St             37.773311   \n",
       "4                         10th Ave at E 15th St             37.792714   \n",
       "\n",
       "   end_station_longitude  bike_id   user_type  member_birth_year  \\\n",
       "0            -122.402923     4902    Customer             1984.0   \n",
       "1            -122.393170     2535    Customer                NaN   \n",
       "2            -122.404904     5905    Customer             1972.0   \n",
       "3            -122.444293     6638  Subscriber             1989.0   \n",
       "4            -122.248780     4898  Subscriber             1974.0   \n",
       "\n",
       "  member_gender bike_share_for_all_trip  \n",
       "0          Male                      No  \n",
       "1           NaN                      No  \n",
       "2          Male                      No  \n",
       "3         Other                      No  \n",
       "4          Male                     Yes  "
      ]
     },
     "execution_count": 310,
     "metadata": {},
     "output_type": "execute_result"
    }
   ],
   "source": [
    "# top 10 row in the dataframe\n",
    "bike_df.head()\n",
    "# bike_df.tail()"
   ]
  },
  {
   "cell_type": "code",
   "execution_count": 311,
   "metadata": {},
   "outputs": [
    {
     "data": {
      "text/html": [
       "<div>\n",
       "<style scoped>\n",
       "    .dataframe tbody tr th:only-of-type {\n",
       "        vertical-align: middle;\n",
       "    }\n",
       "\n",
       "    .dataframe tbody tr th {\n",
       "        vertical-align: top;\n",
       "    }\n",
       "\n",
       "    .dataframe thead th {\n",
       "        text-align: right;\n",
       "    }\n",
       "</style>\n",
       "<table border=\"1\" class=\"dataframe\">\n",
       "  <thead>\n",
       "    <tr style=\"text-align: right;\">\n",
       "      <th></th>\n",
       "      <th>duration_sec</th>\n",
       "      <th>start_station_id</th>\n",
       "      <th>start_station_latitude</th>\n",
       "      <th>start_station_longitude</th>\n",
       "      <th>end_station_id</th>\n",
       "      <th>end_station_latitude</th>\n",
       "      <th>end_station_longitude</th>\n",
       "      <th>bike_id</th>\n",
       "      <th>member_birth_year</th>\n",
       "    </tr>\n",
       "  </thead>\n",
       "  <tbody>\n",
       "    <tr>\n",
       "      <th>count</th>\n",
       "      <td>183412.000000</td>\n",
       "      <td>183215.000000</td>\n",
       "      <td>183412.000000</td>\n",
       "      <td>183412.000000</td>\n",
       "      <td>183215.000000</td>\n",
       "      <td>183412.000000</td>\n",
       "      <td>183412.000000</td>\n",
       "      <td>183412.000000</td>\n",
       "      <td>175147.000000</td>\n",
       "    </tr>\n",
       "    <tr>\n",
       "      <th>mean</th>\n",
       "      <td>726.078435</td>\n",
       "      <td>138.590427</td>\n",
       "      <td>37.771223</td>\n",
       "      <td>-122.352664</td>\n",
       "      <td>136.249123</td>\n",
       "      <td>37.771427</td>\n",
       "      <td>-122.352250</td>\n",
       "      <td>4472.906375</td>\n",
       "      <td>1984.806437</td>\n",
       "    </tr>\n",
       "    <tr>\n",
       "      <th>std</th>\n",
       "      <td>1794.389780</td>\n",
       "      <td>111.778864</td>\n",
       "      <td>0.099581</td>\n",
       "      <td>0.117097</td>\n",
       "      <td>111.515131</td>\n",
       "      <td>0.099490</td>\n",
       "      <td>0.116673</td>\n",
       "      <td>1664.383394</td>\n",
       "      <td>10.116689</td>\n",
       "    </tr>\n",
       "    <tr>\n",
       "      <th>min</th>\n",
       "      <td>61.000000</td>\n",
       "      <td>3.000000</td>\n",
       "      <td>37.317298</td>\n",
       "      <td>-122.453704</td>\n",
       "      <td>3.000000</td>\n",
       "      <td>37.317298</td>\n",
       "      <td>-122.453704</td>\n",
       "      <td>11.000000</td>\n",
       "      <td>1878.000000</td>\n",
       "    </tr>\n",
       "    <tr>\n",
       "      <th>25%</th>\n",
       "      <td>325.000000</td>\n",
       "      <td>47.000000</td>\n",
       "      <td>37.770083</td>\n",
       "      <td>-122.412408</td>\n",
       "      <td>44.000000</td>\n",
       "      <td>37.770407</td>\n",
       "      <td>-122.411726</td>\n",
       "      <td>3777.000000</td>\n",
       "      <td>1980.000000</td>\n",
       "    </tr>\n",
       "    <tr>\n",
       "      <th>50%</th>\n",
       "      <td>514.000000</td>\n",
       "      <td>104.000000</td>\n",
       "      <td>37.780760</td>\n",
       "      <td>-122.398285</td>\n",
       "      <td>100.000000</td>\n",
       "      <td>37.781010</td>\n",
       "      <td>-122.398279</td>\n",
       "      <td>4958.000000</td>\n",
       "      <td>1987.000000</td>\n",
       "    </tr>\n",
       "    <tr>\n",
       "      <th>75%</th>\n",
       "      <td>796.000000</td>\n",
       "      <td>239.000000</td>\n",
       "      <td>37.797280</td>\n",
       "      <td>-122.286533</td>\n",
       "      <td>235.000000</td>\n",
       "      <td>37.797320</td>\n",
       "      <td>-122.288045</td>\n",
       "      <td>5502.000000</td>\n",
       "      <td>1992.000000</td>\n",
       "    </tr>\n",
       "    <tr>\n",
       "      <th>max</th>\n",
       "      <td>85444.000000</td>\n",
       "      <td>398.000000</td>\n",
       "      <td>37.880222</td>\n",
       "      <td>-121.874119</td>\n",
       "      <td>398.000000</td>\n",
       "      <td>37.880222</td>\n",
       "      <td>-121.874119</td>\n",
       "      <td>6645.000000</td>\n",
       "      <td>2001.000000</td>\n",
       "    </tr>\n",
       "  </tbody>\n",
       "</table>\n",
       "</div>"
      ],
      "text/plain": [
       "        duration_sec  start_station_id  start_station_latitude  \\\n",
       "count  183412.000000     183215.000000           183412.000000   \n",
       "mean      726.078435        138.590427               37.771223   \n",
       "std      1794.389780        111.778864                0.099581   \n",
       "min        61.000000          3.000000               37.317298   \n",
       "25%       325.000000         47.000000               37.770083   \n",
       "50%       514.000000        104.000000               37.780760   \n",
       "75%       796.000000        239.000000               37.797280   \n",
       "max     85444.000000        398.000000               37.880222   \n",
       "\n",
       "       start_station_longitude  end_station_id  end_station_latitude  \\\n",
       "count            183412.000000   183215.000000         183412.000000   \n",
       "mean               -122.352664      136.249123             37.771427   \n",
       "std                   0.117097      111.515131              0.099490   \n",
       "min                -122.453704        3.000000             37.317298   \n",
       "25%                -122.412408       44.000000             37.770407   \n",
       "50%                -122.398285      100.000000             37.781010   \n",
       "75%                -122.286533      235.000000             37.797320   \n",
       "max                -121.874119      398.000000             37.880222   \n",
       "\n",
       "       end_station_longitude        bike_id  member_birth_year  \n",
       "count          183412.000000  183412.000000      175147.000000  \n",
       "mean             -122.352250    4472.906375        1984.806437  \n",
       "std                 0.116673    1664.383394          10.116689  \n",
       "min              -122.453704      11.000000        1878.000000  \n",
       "25%              -122.411726    3777.000000        1980.000000  \n",
       "50%              -122.398279    4958.000000        1987.000000  \n",
       "75%              -122.288045    5502.000000        1992.000000  \n",
       "max              -121.874119    6645.000000        2001.000000  "
      ]
     },
     "execution_count": 311,
     "metadata": {},
     "output_type": "execute_result"
    }
   ],
   "source": [
    "bike_df.describe()"
   ]
  },
  {
   "cell_type": "code",
   "execution_count": 312,
   "metadata": {},
   "outputs": [
    {
     "data": {
      "text/plain": [
       "duration_sec                  0\n",
       "start_time                    0\n",
       "end_time                      0\n",
       "start_station_id            197\n",
       "start_station_name          197\n",
       "start_station_latitude        0\n",
       "start_station_longitude       0\n",
       "end_station_id              197\n",
       "end_station_name            197\n",
       "end_station_latitude          0\n",
       "end_station_longitude         0\n",
       "bike_id                       0\n",
       "user_type                     0\n",
       "member_birth_year          8265\n",
       "member_gender              8265\n",
       "bike_share_for_all_trip       0\n",
       "dtype: int64"
      ]
     },
     "execution_count": 312,
     "metadata": {},
     "output_type": "execute_result"
    }
   ],
   "source": [
    "# checking for null values\n",
    "bike_df.isnull().sum()"
   ]
  },
  {
   "cell_type": "code",
   "execution_count": 313,
   "metadata": {},
   "outputs": [
    {
     "data": {
      "text/plain": [
       "0"
      ]
     },
     "execution_count": 313,
     "metadata": {},
     "output_type": "execute_result"
    }
   ],
   "source": [
    "# check for duplicated values\n",
    "bike_df.duplicated().sum()"
   ]
  },
  {
   "cell_type": "code",
   "execution_count": 314,
   "metadata": {},
   "outputs": [
    {
     "name": "stdout",
     "output_type": "stream",
     "text": [
      "<class 'pandas.core.frame.DataFrame'>\n",
      "RangeIndex: 183412 entries, 0 to 183411\n",
      "Data columns (total 16 columns):\n",
      " #   Column                   Non-Null Count   Dtype  \n",
      "---  ------                   --------------   -----  \n",
      " 0   duration_sec             183412 non-null  int64  \n",
      " 1   start_time               183412 non-null  object \n",
      " 2   end_time                 183412 non-null  object \n",
      " 3   start_station_id         183215 non-null  float64\n",
      " 4   start_station_name       183215 non-null  object \n",
      " 5   start_station_latitude   183412 non-null  float64\n",
      " 6   start_station_longitude  183412 non-null  float64\n",
      " 7   end_station_id           183215 non-null  float64\n",
      " 8   end_station_name         183215 non-null  object \n",
      " 9   end_station_latitude     183412 non-null  float64\n",
      " 10  end_station_longitude    183412 non-null  float64\n",
      " 11  bike_id                  183412 non-null  int64  \n",
      " 12  user_type                183412 non-null  object \n",
      " 13  member_birth_year        175147 non-null  float64\n",
      " 14  member_gender            175147 non-null  object \n",
      " 15  bike_share_for_all_trip  183412 non-null  object \n",
      "dtypes: float64(7), int64(2), object(7)\n",
      "memory usage: 22.4+ MB\n"
     ]
    }
   ],
   "source": [
    "#Information about data\n",
    "bike_df.info()"
   ]
  },
  {
   "cell_type": "markdown",
   "metadata": {},
   "source": [
    " #### dataset structure:\n",
    " This dataset contains records of 183,411 trips, recorded between February and early March, details of its 16 columns contains info of the day, time of the day, what type of a user took the ride, when, where did they start and end the trip etc.\n"
   ]
  },
  {
   "cell_type": "markdown",
   "metadata": {},
   "source": [
    "#### Insight into Data Set\n",
    "There are 16 variables (columns) and 183,411 rows in this dataset.\n",
    "the following was observed:\n",
    "* `start_time` and `end_time` are the wrong data type - this should be datetime rather than object\n",
    "* `start_station_id` and `end_station_id` should not be floats - these can be amended to integers, however these represent locations (meaning that no numerical operations will be applied to these) they can be converted to objects.\n",
    "* `member_birth_year` should be a integer\n",
    "* `member_gender`, `bike_share_for_all_trip` and `user_type` should be category\n",
    "* Null values occurnece in the following columns:\n",
    "    - `start_station_id` and `start_station_name`\n",
    "    - `end_station_id` and `end_station_name`\n",
    "    - `member_birth_year` and `member_gender`\n",
    "* Drop the Following columns which aren't relevant to our analysis:\n",
    "    - `start_station_latitude` and `start_station_longitude`\n",
    "    - `end_station_latitude` and `end_station_longitude`"
   ]
  },
  {
   "cell_type": "markdown",
   "metadata": {},
   "source": [
    "#### Lets Start Cleaning!!"
   ]
  },
  {
   "cell_type": "markdown",
   "metadata": {},
   "source": [
    "#### Drop null values, change data types and drop unnecessary columns\n",
    "code:"
   ]
  },
  {
   "cell_type": "code",
   "execution_count": 315,
   "metadata": {},
   "outputs": [],
   "source": [
    "# First lets drop null values\n",
    "clean_df = bike_df.dropna()"
   ]
  },
  {
   "cell_type": "code",
   "execution_count": 316,
   "metadata": {},
   "outputs": [],
   "source": [
    "# Change member birth year type from float to int\n",
    "clean_df.member_birth_year = clean_df.member_birth_year.astype(int)"
   ]
  },
  {
   "cell_type": "code",
   "execution_count": 317,
   "metadata": {},
   "outputs": [],
   "source": [
    "# some columns are unnecessary for this analys so it will drop them\n",
    "clean_df.drop(columns=['start_station_id', 'start_station_name',\n",
    "                      'end_station_id', 'end_station_name', 'bike_id'], inplace=True)"
   ]
  },
  {
   "cell_type": "code",
   "execution_count": 318,
   "metadata": {},
   "outputs": [],
   "source": [
    "# lets Change the start_time, end_time to datetime data type\n",
    "clean_df['start_time'] = pd.to_datetime(clean_df['start_time'])\n",
    "clean_df['end_time'] = pd.to_datetime(clean_df['end_time'])"
   ]
  },
  {
   "cell_type": "code",
   "execution_count": 319,
   "metadata": {},
   "outputs": [
    {
     "data": {
      "text/plain": [
       "duration_sec                        int64\n",
       "start_time                 datetime64[ns]\n",
       "end_time                   datetime64[ns]\n",
       "start_station_latitude            float64\n",
       "start_station_longitude           float64\n",
       "end_station_latitude              float64\n",
       "end_station_longitude             float64\n",
       "user_type                          object\n",
       "member_birth_year                   int32\n",
       "member_gender                      object\n",
       "bike_share_for_all_trip            object\n",
       "dtype: object"
      ]
     },
     "execution_count": 319,
     "metadata": {},
     "output_type": "execute_result"
    }
   ],
   "source": [
    "# lets see if it worked!\n",
    "clean_df.dtypes"
   ]
  },
  {
   "cell_type": "markdown",
   "metadata": {},
   "source": [
    " #### Convert Longitude and Latitude to Distance"
   ]
  },
  {
   "cell_type": "code",
   "execution_count": 320,
   "metadata": {},
   "outputs": [],
   "source": [
    "# now lets Calculate Distance from the given latitude & longitude data\n",
    "# then we make a new column called 'distance'\n",
    "#source :(https://www.movable-type.co.uk/scripts/latlong.html)\n",
    "\n",
    "dLat = np.deg2rad(clean_df['end_station_latitude'] - clean_df['start_station_latitude'])\n",
    "dLon = np.deg2rad(clean_df['end_station_longitude'] - clean_df['start_station_longitude'])\n",
    "\n",
    "lat2 = np.deg2rad(clean_df['end_station_latitude'])\n",
    "lat1 = np.deg2rad(clean_df['start_station_latitude'])\n",
    "\n",
    "a = np.square(np.sin(dLat/2)) + np.cos(lat1)*np.cos(lat2)*np.square(np.sin(dLon/2))\n",
    "\n",
    "clean_df['distance'] = 6371e3*2*np.arctan2(np.sqrt(a), np.sqrt(1-a))"
   ]
  },
  {
   "cell_type": "code",
   "execution_count": 321,
   "metadata": {},
   "outputs": [
    {
     "data": {
      "text/html": [
       "<div>\n",
       "<style scoped>\n",
       "    .dataframe tbody tr th:only-of-type {\n",
       "        vertical-align: middle;\n",
       "    }\n",
       "\n",
       "    .dataframe tbody tr th {\n",
       "        vertical-align: top;\n",
       "    }\n",
       "\n",
       "    .dataframe thead th {\n",
       "        text-align: right;\n",
       "    }\n",
       "</style>\n",
       "<table border=\"1\" class=\"dataframe\">\n",
       "  <thead>\n",
       "    <tr style=\"text-align: right;\">\n",
       "      <th></th>\n",
       "      <th>duration_sec</th>\n",
       "      <th>start_time</th>\n",
       "      <th>end_time</th>\n",
       "      <th>start_station_latitude</th>\n",
       "      <th>start_station_longitude</th>\n",
       "      <th>end_station_latitude</th>\n",
       "      <th>end_station_longitude</th>\n",
       "      <th>user_type</th>\n",
       "      <th>member_birth_year</th>\n",
       "      <th>member_gender</th>\n",
       "      <th>bike_share_for_all_trip</th>\n",
       "      <th>distance</th>\n",
       "    </tr>\n",
       "  </thead>\n",
       "  <tbody>\n",
       "    <tr>\n",
       "      <th>0</th>\n",
       "      <td>52185</td>\n",
       "      <td>2019-02-28 17:32:10.145</td>\n",
       "      <td>2019-03-01 08:01:55.975</td>\n",
       "      <td>37.789625</td>\n",
       "      <td>-122.400811</td>\n",
       "      <td>37.794231</td>\n",
       "      <td>-122.402923</td>\n",
       "      <td>Customer</td>\n",
       "      <td>1984</td>\n",
       "      <td>Male</td>\n",
       "      <td>No</td>\n",
       "      <td>544.708503</td>\n",
       "    </tr>\n",
       "    <tr>\n",
       "      <th>2</th>\n",
       "      <td>61854</td>\n",
       "      <td>2019-02-28 12:13:13.218</td>\n",
       "      <td>2019-03-01 05:24:08.146</td>\n",
       "      <td>37.769305</td>\n",
       "      <td>-122.426826</td>\n",
       "      <td>37.786375</td>\n",
       "      <td>-122.404904</td>\n",
       "      <td>Customer</td>\n",
       "      <td>1972</td>\n",
       "      <td>Male</td>\n",
       "      <td>No</td>\n",
       "      <td>2704.545131</td>\n",
       "    </tr>\n",
       "    <tr>\n",
       "      <th>3</th>\n",
       "      <td>36490</td>\n",
       "      <td>2019-02-28 17:54:26.010</td>\n",
       "      <td>2019-03-01 04:02:36.842</td>\n",
       "      <td>37.774836</td>\n",
       "      <td>-122.446546</td>\n",
       "      <td>37.773311</td>\n",
       "      <td>-122.444293</td>\n",
       "      <td>Subscriber</td>\n",
       "      <td>1989</td>\n",
       "      <td>Other</td>\n",
       "      <td>No</td>\n",
       "      <td>260.738544</td>\n",
       "    </tr>\n",
       "    <tr>\n",
       "      <th>4</th>\n",
       "      <td>1585</td>\n",
       "      <td>2019-02-28 23:54:18.549</td>\n",
       "      <td>2019-03-01 00:20:44.074</td>\n",
       "      <td>37.804562</td>\n",
       "      <td>-122.271738</td>\n",
       "      <td>37.792714</td>\n",
       "      <td>-122.248780</td>\n",
       "      <td>Subscriber</td>\n",
       "      <td>1974</td>\n",
       "      <td>Male</td>\n",
       "      <td>Yes</td>\n",
       "      <td>2409.301416</td>\n",
       "    </tr>\n",
       "    <tr>\n",
       "      <th>5</th>\n",
       "      <td>1793</td>\n",
       "      <td>2019-02-28 23:49:58.632</td>\n",
       "      <td>2019-03-01 00:19:51.760</td>\n",
       "      <td>37.770407</td>\n",
       "      <td>-122.391198</td>\n",
       "      <td>37.798014</td>\n",
       "      <td>-122.405950</td>\n",
       "      <td>Subscriber</td>\n",
       "      <td>1959</td>\n",
       "      <td>Male</td>\n",
       "      <td>No</td>\n",
       "      <td>3332.202628</td>\n",
       "    </tr>\n",
       "  </tbody>\n",
       "</table>\n",
       "</div>"
      ],
      "text/plain": [
       "   duration_sec              start_time                end_time  \\\n",
       "0         52185 2019-02-28 17:32:10.145 2019-03-01 08:01:55.975   \n",
       "2         61854 2019-02-28 12:13:13.218 2019-03-01 05:24:08.146   \n",
       "3         36490 2019-02-28 17:54:26.010 2019-03-01 04:02:36.842   \n",
       "4          1585 2019-02-28 23:54:18.549 2019-03-01 00:20:44.074   \n",
       "5          1793 2019-02-28 23:49:58.632 2019-03-01 00:19:51.760   \n",
       "\n",
       "   start_station_latitude  start_station_longitude  end_station_latitude  \\\n",
       "0               37.789625              -122.400811             37.794231   \n",
       "2               37.769305              -122.426826             37.786375   \n",
       "3               37.774836              -122.446546             37.773311   \n",
       "4               37.804562              -122.271738             37.792714   \n",
       "5               37.770407              -122.391198             37.798014   \n",
       "\n",
       "   end_station_longitude   user_type  member_birth_year member_gender  \\\n",
       "0            -122.402923    Customer               1984          Male   \n",
       "2            -122.404904    Customer               1972          Male   \n",
       "3            -122.444293  Subscriber               1989         Other   \n",
       "4            -122.248780  Subscriber               1974          Male   \n",
       "5            -122.405950  Subscriber               1959          Male   \n",
       "\n",
       "  bike_share_for_all_trip     distance  \n",
       "0                      No   544.708503  \n",
       "2                      No  2704.545131  \n",
       "3                      No   260.738544  \n",
       "4                     Yes  2409.301416  \n",
       "5                      No  3332.202628  "
      ]
     },
     "execution_count": 321,
     "metadata": {},
     "output_type": "execute_result"
    }
   ],
   "source": [
    "clean_df.head()"
   ]
  },
  {
   "cell_type": "code",
   "execution_count": 322,
   "metadata": {},
   "outputs": [],
   "source": [
    "# next up... we want to get rid of dem no longer relevant columns\n",
    "clean_df.drop(['start_station_latitude', 'start_station_longitude', 'end_station_latitude',\n",
    "              'end_station_longitude'], axis=1, inplace=True)"
   ]
  },
  {
   "cell_type": "code",
   "execution_count": 323,
   "metadata": {
    "scrolled": true
   },
   "outputs": [
    {
     "name": "stdout",
     "output_type": "stream",
     "text": [
      "<class 'pandas.core.frame.DataFrame'>\n",
      "Int64Index: 174952 entries, 0 to 183411\n",
      "Data columns (total 8 columns):\n",
      " #   Column                   Non-Null Count   Dtype         \n",
      "---  ------                   --------------   -----         \n",
      " 0   duration_sec             174952 non-null  int64         \n",
      " 1   start_time               174952 non-null  datetime64[ns]\n",
      " 2   end_time                 174952 non-null  datetime64[ns]\n",
      " 3   user_type                174952 non-null  object        \n",
      " 4   member_birth_year        174952 non-null  int32         \n",
      " 5   member_gender            174952 non-null  object        \n",
      " 6   bike_share_for_all_trip  174952 non-null  object        \n",
      " 7   distance                 174952 non-null  float64       \n",
      "dtypes: datetime64[ns](2), float64(1), int32(1), int64(1), object(3)\n",
      "memory usage: 11.3+ MB\n"
     ]
    }
   ],
   "source": [
    "# lets see if it worked!\n",
    "clean_df.info()"
   ]
  },
  {
   "cell_type": "markdown",
   "metadata": {},
   "source": [
    "> Lets convert Time in seconds to minutes && Birth Year to Actual Age"
   ]
  },
  {
   "cell_type": "code",
   "execution_count": 324,
   "metadata": {},
   "outputs": [],
   "source": [
    "# lets convert birth date to age as at 2019\n",
    "clean_df['Age']= (2019 - clean_df['member_birth_year'])\n",
    "# lets convert duration to minutes from seconds\n",
    "clean_df['duration_minutes']= (clean_df['duration_sec']/60)\n",
    "clean_df['distance']= (clean_df['distance']/1000)"
   ]
  },
  {
   "cell_type": "code",
   "execution_count": 325,
   "metadata": {},
   "outputs": [],
   "source": [
    "# lets also convert data types for the following columns as category type"
   ]
  },
  {
   "cell_type": "code",
   "execution_count": 326,
   "metadata": {},
   "outputs": [],
   "source": [
    "clean_df['member_gender'] = clean_df['member_gender'].astype('category')\n",
    "clean_df['bike_share_for_all_trip']= clean_df['bike_share_for_all_trip'].astype('category')\n",
    "clean_df['user_type']= clean_df['user_type'].astype('category')"
   ]
  },
  {
   "cell_type": "code",
   "execution_count": 327,
   "metadata": {},
   "outputs": [
    {
     "data": {
      "text/plain": [
       "duration_sec                        int64\n",
       "start_time                 datetime64[ns]\n",
       "end_time                   datetime64[ns]\n",
       "user_type                        category\n",
       "member_birth_year                   int32\n",
       "member_gender                    category\n",
       "bike_share_for_all_trip          category\n",
       "distance                          float64\n",
       "Age                                 int32\n",
       "duration_minutes                  float64\n",
       "dtype: object"
      ]
     },
     "execution_count": 327,
     "metadata": {},
     "output_type": "execute_result"
    }
   ],
   "source": [
    "# Quick Check!!\n",
    "clean_df.dtypes"
   ]
  },
  {
   "cell_type": "markdown",
   "metadata": {},
   "source": [
    " #### Let's extract day and month information form start_time into new columns day and month"
   ]
  },
  {
   "cell_type": "code",
   "execution_count": 328,
   "metadata": {},
   "outputs": [],
   "source": [
    "#Code:\n",
    "clean_df['start_day'] = clean_df.start_time.dt.day_name()\n",
    "clean_df['end_day'] = clean_df.end_time.dt.day_name()\n",
    "clean_df['month'] = clean_df.start_time.dt.month_name()\n",
    "clean_df['end_month'] = clean_df.end_time.dt.month_name()"
   ]
  },
  {
   "cell_type": "code",
   "execution_count": 329,
   "metadata": {},
   "outputs": [],
   "source": [
    "#Code\n",
    "clean_df['start_hour'] = clean_df.start_time.dt.hour\n",
    "clean_df['end_hour'] = clean_df.end_time.dt.hour"
   ]
  },
  {
   "cell_type": "code",
   "execution_count": 330,
   "metadata": {},
   "outputs": [],
   "source": [
    "#lets group hour into time of the Day\n",
    "def getTimeOfDay(time):\n",
    "    hour = time.hour\n",
    "    if hour >= 12 and hour <= 16:\n",
    "        return 'Afternoon'\n",
    "    if hour > 16 and hour <= 19:\n",
    "        return 'Evening'\n",
    "    if hour >= 0 and hour < 6: \n",
    "        return 'Night'\n",
    "    if hour > 19 and hour <= 23:\n",
    "        return 'Night'\n",
    "    if hour >= 6 and hour < 12:\n",
    "        return 'Morning'"
   ]
  },
  {
   "cell_type": "code",
   "execution_count": 331,
   "metadata": {},
   "outputs": [],
   "source": [
    "# create a column for day time i.e evening/afternoon/evening/night\n",
    "clean_df['day_time'] = clean_df['start_time'].apply(lambda time: getTimeOfDay(time))\n",
    "clean_df['trip_end_time'] = clean_df['end_time'].apply(lambda time: getTimeOfDay(time))"
   ]
  },
  {
   "cell_type": "code",
   "execution_count": 332,
   "metadata": {
    "scrolled": false
   },
   "outputs": [
    {
     "data": {
      "text/html": [
       "<div>\n",
       "<style scoped>\n",
       "    .dataframe tbody tr th:only-of-type {\n",
       "        vertical-align: middle;\n",
       "    }\n",
       "\n",
       "    .dataframe tbody tr th {\n",
       "        vertical-align: top;\n",
       "    }\n",
       "\n",
       "    .dataframe thead th {\n",
       "        text-align: right;\n",
       "    }\n",
       "</style>\n",
       "<table border=\"1\" class=\"dataframe\">\n",
       "  <thead>\n",
       "    <tr style=\"text-align: right;\">\n",
       "      <th></th>\n",
       "      <th>duration_sec</th>\n",
       "      <th>start_time</th>\n",
       "      <th>end_time</th>\n",
       "      <th>user_type</th>\n",
       "      <th>member_birth_year</th>\n",
       "      <th>member_gender</th>\n",
       "      <th>bike_share_for_all_trip</th>\n",
       "      <th>distance</th>\n",
       "      <th>Age</th>\n",
       "      <th>duration_minutes</th>\n",
       "      <th>start_day</th>\n",
       "      <th>end_day</th>\n",
       "      <th>month</th>\n",
       "      <th>end_month</th>\n",
       "      <th>start_hour</th>\n",
       "      <th>end_hour</th>\n",
       "      <th>day_time</th>\n",
       "      <th>trip_end_time</th>\n",
       "    </tr>\n",
       "  </thead>\n",
       "  <tbody>\n",
       "    <tr>\n",
       "      <th>153125</th>\n",
       "      <td>621</td>\n",
       "      <td>2019-02-06 13:29:17.961</td>\n",
       "      <td>2019-02-06 13:39:39.822</td>\n",
       "      <td>Customer</td>\n",
       "      <td>1983</td>\n",
       "      <td>Female</td>\n",
       "      <td>No</td>\n",
       "      <td>1.413393</td>\n",
       "      <td>36</td>\n",
       "      <td>10.350000</td>\n",
       "      <td>Wednesday</td>\n",
       "      <td>Wednesday</td>\n",
       "      <td>February</td>\n",
       "      <td>February</td>\n",
       "      <td>13</td>\n",
       "      <td>13</td>\n",
       "      <td>Afternoon</td>\n",
       "      <td>Afternoon</td>\n",
       "    </tr>\n",
       "    <tr>\n",
       "      <th>100528</th>\n",
       "      <td>764</td>\n",
       "      <td>2019-02-14 18:11:36.774</td>\n",
       "      <td>2019-02-14 18:24:21.214</td>\n",
       "      <td>Subscriber</td>\n",
       "      <td>1993</td>\n",
       "      <td>Male</td>\n",
       "      <td>No</td>\n",
       "      <td>1.910193</td>\n",
       "      <td>26</td>\n",
       "      <td>12.733333</td>\n",
       "      <td>Thursday</td>\n",
       "      <td>Thursday</td>\n",
       "      <td>February</td>\n",
       "      <td>February</td>\n",
       "      <td>18</td>\n",
       "      <td>18</td>\n",
       "      <td>Evening</td>\n",
       "      <td>Evening</td>\n",
       "    </tr>\n",
       "    <tr>\n",
       "      <th>12974</th>\n",
       "      <td>1855</td>\n",
       "      <td>2019-02-27 16:40:47.275</td>\n",
       "      <td>2019-02-27 17:11:42.455</td>\n",
       "      <td>Subscriber</td>\n",
       "      <td>1996</td>\n",
       "      <td>Male</td>\n",
       "      <td>No</td>\n",
       "      <td>6.880416</td>\n",
       "      <td>23</td>\n",
       "      <td>30.916667</td>\n",
       "      <td>Wednesday</td>\n",
       "      <td>Wednesday</td>\n",
       "      <td>February</td>\n",
       "      <td>February</td>\n",
       "      <td>16</td>\n",
       "      <td>17</td>\n",
       "      <td>Afternoon</td>\n",
       "      <td>Evening</td>\n",
       "    </tr>\n",
       "    <tr>\n",
       "      <th>143339</th>\n",
       "      <td>577</td>\n",
       "      <td>2019-02-07 15:42:41.927</td>\n",
       "      <td>2019-02-07 15:52:19.402</td>\n",
       "      <td>Customer</td>\n",
       "      <td>1990</td>\n",
       "      <td>Female</td>\n",
       "      <td>No</td>\n",
       "      <td>2.366346</td>\n",
       "      <td>29</td>\n",
       "      <td>9.616667</td>\n",
       "      <td>Thursday</td>\n",
       "      <td>Thursday</td>\n",
       "      <td>February</td>\n",
       "      <td>February</td>\n",
       "      <td>15</td>\n",
       "      <td>15</td>\n",
       "      <td>Afternoon</td>\n",
       "      <td>Afternoon</td>\n",
       "    </tr>\n",
       "    <tr>\n",
       "      <th>146129</th>\n",
       "      <td>462</td>\n",
       "      <td>2019-02-07 08:58:50.630</td>\n",
       "      <td>2019-02-07 09:06:32.694</td>\n",
       "      <td>Subscriber</td>\n",
       "      <td>1972</td>\n",
       "      <td>Male</td>\n",
       "      <td>No</td>\n",
       "      <td>0.851870</td>\n",
       "      <td>47</td>\n",
       "      <td>7.700000</td>\n",
       "      <td>Thursday</td>\n",
       "      <td>Thursday</td>\n",
       "      <td>February</td>\n",
       "      <td>February</td>\n",
       "      <td>8</td>\n",
       "      <td>9</td>\n",
       "      <td>Morning</td>\n",
       "      <td>Morning</td>\n",
       "    </tr>\n",
       "  </tbody>\n",
       "</table>\n",
       "</div>"
      ],
      "text/plain": [
       "        duration_sec              start_time                end_time  \\\n",
       "153125           621 2019-02-06 13:29:17.961 2019-02-06 13:39:39.822   \n",
       "100528           764 2019-02-14 18:11:36.774 2019-02-14 18:24:21.214   \n",
       "12974           1855 2019-02-27 16:40:47.275 2019-02-27 17:11:42.455   \n",
       "143339           577 2019-02-07 15:42:41.927 2019-02-07 15:52:19.402   \n",
       "146129           462 2019-02-07 08:58:50.630 2019-02-07 09:06:32.694   \n",
       "\n",
       "         user_type  member_birth_year member_gender bike_share_for_all_trip  \\\n",
       "153125    Customer               1983        Female                      No   \n",
       "100528  Subscriber               1993          Male                      No   \n",
       "12974   Subscriber               1996          Male                      No   \n",
       "143339    Customer               1990        Female                      No   \n",
       "146129  Subscriber               1972          Male                      No   \n",
       "\n",
       "        distance  Age  duration_minutes  start_day    end_day     month  \\\n",
       "153125  1.413393   36         10.350000  Wednesday  Wednesday  February   \n",
       "100528  1.910193   26         12.733333   Thursday   Thursday  February   \n",
       "12974   6.880416   23         30.916667  Wednesday  Wednesday  February   \n",
       "143339  2.366346   29          9.616667   Thursday   Thursday  February   \n",
       "146129  0.851870   47          7.700000   Thursday   Thursday  February   \n",
       "\n",
       "       end_month  start_hour  end_hour   day_time trip_end_time  \n",
       "153125  February          13        13  Afternoon     Afternoon  \n",
       "100528  February          18        18    Evening       Evening  \n",
       "12974   February          16        17  Afternoon       Evening  \n",
       "143339  February          15        15  Afternoon     Afternoon  \n",
       "146129  February           8         9    Morning       Morning  "
      ]
     },
     "execution_count": 332,
     "metadata": {},
     "output_type": "execute_result"
    }
   ],
   "source": [
    "clean_df.sample(5)"
   ]
  },
  {
   "cell_type": "markdown",
   "metadata": {},
   "source": [
    "###### ReArrange Columns and Drop Unuseful columns"
   ]
  },
  {
   "cell_type": "code",
   "execution_count": 333,
   "metadata": {},
   "outputs": [],
   "source": [
    "#lets Re-Order the columns to our taste\n",
    "clean_df = clean_df[['user_type', 'member_gender', 'Age','start_day', 'day_time', 'distance', 'duration_minutes', \n",
    "                     'month', 'bike_share_for_all_trip', 'end_month', 'start_hour', 'end_hour', 'trip_end_time',\n",
    "                     'duration_sec', 'start_time', 'end_time', 'member_birth_year', 'end_day',]]"
   ]
  },
  {
   "cell_type": "code",
   "execution_count": 334,
   "metadata": {},
   "outputs": [
    {
     "data": {
      "text/html": [
       "<div>\n",
       "<style scoped>\n",
       "    .dataframe tbody tr th:only-of-type {\n",
       "        vertical-align: middle;\n",
       "    }\n",
       "\n",
       "    .dataframe tbody tr th {\n",
       "        vertical-align: top;\n",
       "    }\n",
       "\n",
       "    .dataframe thead th {\n",
       "        text-align: right;\n",
       "    }\n",
       "</style>\n",
       "<table border=\"1\" class=\"dataframe\">\n",
       "  <thead>\n",
       "    <tr style=\"text-align: right;\">\n",
       "      <th></th>\n",
       "      <th>user_type</th>\n",
       "      <th>member_gender</th>\n",
       "      <th>Age</th>\n",
       "      <th>start_day</th>\n",
       "      <th>day_time</th>\n",
       "      <th>distance</th>\n",
       "      <th>duration_minutes</th>\n",
       "      <th>month</th>\n",
       "      <th>bike_share_for_all_trip</th>\n",
       "      <th>end_month</th>\n",
       "      <th>start_hour</th>\n",
       "      <th>end_hour</th>\n",
       "      <th>trip_end_time</th>\n",
       "      <th>duration_sec</th>\n",
       "      <th>start_time</th>\n",
       "      <th>end_time</th>\n",
       "      <th>member_birth_year</th>\n",
       "      <th>end_day</th>\n",
       "    </tr>\n",
       "  </thead>\n",
       "  <tbody>\n",
       "    <tr>\n",
       "      <th>104788</th>\n",
       "      <td>Subscriber</td>\n",
       "      <td>Female</td>\n",
       "      <td>29</td>\n",
       "      <td>Thursday</td>\n",
       "      <td>Morning</td>\n",
       "      <td>1.611609</td>\n",
       "      <td>10.100000</td>\n",
       "      <td>February</td>\n",
       "      <td>No</td>\n",
       "      <td>February</td>\n",
       "      <td>8</td>\n",
       "      <td>8</td>\n",
       "      <td>Morning</td>\n",
       "      <td>606</td>\n",
       "      <td>2019-02-14 08:04:40.999</td>\n",
       "      <td>2019-02-14 08:14:47.030</td>\n",
       "      <td>1990</td>\n",
       "      <td>Thursday</td>\n",
       "    </tr>\n",
       "    <tr>\n",
       "      <th>151466</th>\n",
       "      <td>Subscriber</td>\n",
       "      <td>Male</td>\n",
       "      <td>31</td>\n",
       "      <td>Wednesday</td>\n",
       "      <td>Evening</td>\n",
       "      <td>0.417765</td>\n",
       "      <td>1.283333</td>\n",
       "      <td>February</td>\n",
       "      <td>No</td>\n",
       "      <td>February</td>\n",
       "      <td>17</td>\n",
       "      <td>17</td>\n",
       "      <td>Evening</td>\n",
       "      <td>77</td>\n",
       "      <td>2019-02-06 17:21:12.622</td>\n",
       "      <td>2019-02-06 17:22:29.685</td>\n",
       "      <td>1988</td>\n",
       "      <td>Wednesday</td>\n",
       "    </tr>\n",
       "    <tr>\n",
       "      <th>67772</th>\n",
       "      <td>Subscriber</td>\n",
       "      <td>Male</td>\n",
       "      <td>48</td>\n",
       "      <td>Wednesday</td>\n",
       "      <td>Morning</td>\n",
       "      <td>0.857372</td>\n",
       "      <td>4.416667</td>\n",
       "      <td>February</td>\n",
       "      <td>No</td>\n",
       "      <td>February</td>\n",
       "      <td>7</td>\n",
       "      <td>7</td>\n",
       "      <td>Morning</td>\n",
       "      <td>265</td>\n",
       "      <td>2019-02-20 07:34:04.405</td>\n",
       "      <td>2019-02-20 07:38:30.187</td>\n",
       "      <td>1971</td>\n",
       "      <td>Wednesday</td>\n",
       "    </tr>\n",
       "    <tr>\n",
       "      <th>176582</th>\n",
       "      <td>Subscriber</td>\n",
       "      <td>Male</td>\n",
       "      <td>43</td>\n",
       "      <td>Saturday</td>\n",
       "      <td>Morning</td>\n",
       "      <td>0.437951</td>\n",
       "      <td>5.100000</td>\n",
       "      <td>February</td>\n",
       "      <td>No</td>\n",
       "      <td>February</td>\n",
       "      <td>11</td>\n",
       "      <td>11</td>\n",
       "      <td>Morning</td>\n",
       "      <td>306</td>\n",
       "      <td>2019-02-02 11:04:15.379</td>\n",
       "      <td>2019-02-02 11:09:21.481</td>\n",
       "      <td>1976</td>\n",
       "      <td>Saturday</td>\n",
       "    </tr>\n",
       "    <tr>\n",
       "      <th>140064</th>\n",
       "      <td>Customer</td>\n",
       "      <td>Female</td>\n",
       "      <td>30</td>\n",
       "      <td>Thursday</td>\n",
       "      <td>Evening</td>\n",
       "      <td>1.623196</td>\n",
       "      <td>10.033333</td>\n",
       "      <td>February</td>\n",
       "      <td>No</td>\n",
       "      <td>February</td>\n",
       "      <td>19</td>\n",
       "      <td>19</td>\n",
       "      <td>Evening</td>\n",
       "      <td>602</td>\n",
       "      <td>2019-02-07 19:39:10.043</td>\n",
       "      <td>2019-02-07 19:49:13.014</td>\n",
       "      <td>1989</td>\n",
       "      <td>Thursday</td>\n",
       "    </tr>\n",
       "  </tbody>\n",
       "</table>\n",
       "</div>"
      ],
      "text/plain": [
       "         user_type member_gender  Age  start_day day_time  distance  \\\n",
       "104788  Subscriber        Female   29   Thursday  Morning  1.611609   \n",
       "151466  Subscriber          Male   31  Wednesday  Evening  0.417765   \n",
       "67772   Subscriber          Male   48  Wednesday  Morning  0.857372   \n",
       "176582  Subscriber          Male   43   Saturday  Morning  0.437951   \n",
       "140064    Customer        Female   30   Thursday  Evening  1.623196   \n",
       "\n",
       "        duration_minutes     month bike_share_for_all_trip end_month  \\\n",
       "104788         10.100000  February                      No  February   \n",
       "151466          1.283333  February                      No  February   \n",
       "67772           4.416667  February                      No  February   \n",
       "176582          5.100000  February                      No  February   \n",
       "140064         10.033333  February                      No  February   \n",
       "\n",
       "        start_hour  end_hour trip_end_time  duration_sec  \\\n",
       "104788           8         8       Morning           606   \n",
       "151466          17        17       Evening            77   \n",
       "67772            7         7       Morning           265   \n",
       "176582          11        11       Morning           306   \n",
       "140064          19        19       Evening           602   \n",
       "\n",
       "                    start_time                end_time  member_birth_year  \\\n",
       "104788 2019-02-14 08:04:40.999 2019-02-14 08:14:47.030               1990   \n",
       "151466 2019-02-06 17:21:12.622 2019-02-06 17:22:29.685               1988   \n",
       "67772  2019-02-20 07:34:04.405 2019-02-20 07:38:30.187               1971   \n",
       "176582 2019-02-02 11:04:15.379 2019-02-02 11:09:21.481               1976   \n",
       "140064 2019-02-07 19:39:10.043 2019-02-07 19:49:13.014               1989   \n",
       "\n",
       "          end_day  \n",
       "104788   Thursday  \n",
       "151466  Wednesday  \n",
       "67772   Wednesday  \n",
       "176582   Saturday  \n",
       "140064   Thursday  "
      ]
     },
     "execution_count": 334,
     "metadata": {},
     "output_type": "execute_result"
    }
   ],
   "source": [
    "# Check :\n",
    "clean_df.sample(5)"
   ]
  },
  {
   "cell_type": "code",
   "execution_count": 335,
   "metadata": {},
   "outputs": [],
   "source": [
    "#lets further drop some more columns we don't probably need \n",
    "clean_df.drop(['end_month', 'end_hour', 'trip_end_time', 'end_month', 'duration_sec', \n",
    "               'start_time', 'end_time', 'member_birth_year', 'end_day'], axis=1, inplace=True)"
   ]
  },
  {
   "cell_type": "code",
   "execution_count": 336,
   "metadata": {},
   "outputs": [
    {
     "data": {
      "text/html": [
       "<div>\n",
       "<style scoped>\n",
       "    .dataframe tbody tr th:only-of-type {\n",
       "        vertical-align: middle;\n",
       "    }\n",
       "\n",
       "    .dataframe tbody tr th {\n",
       "        vertical-align: top;\n",
       "    }\n",
       "\n",
       "    .dataframe thead th {\n",
       "        text-align: right;\n",
       "    }\n",
       "</style>\n",
       "<table border=\"1\" class=\"dataframe\">\n",
       "  <thead>\n",
       "    <tr style=\"text-align: right;\">\n",
       "      <th></th>\n",
       "      <th>user_type</th>\n",
       "      <th>member_gender</th>\n",
       "      <th>Age</th>\n",
       "      <th>start_day</th>\n",
       "      <th>day_time</th>\n",
       "      <th>distance</th>\n",
       "      <th>duration_minutes</th>\n",
       "      <th>month</th>\n",
       "      <th>bike_share_for_all_trip</th>\n",
       "      <th>start_hour</th>\n",
       "    </tr>\n",
       "  </thead>\n",
       "  <tbody>\n",
       "    <tr>\n",
       "      <th>180828</th>\n",
       "      <td>Subscriber</td>\n",
       "      <td>Male</td>\n",
       "      <td>26</td>\n",
       "      <td>Friday</td>\n",
       "      <td>Morning</td>\n",
       "      <td>1.197415</td>\n",
       "      <td>7.300000</td>\n",
       "      <td>February</td>\n",
       "      <td>No</td>\n",
       "      <td>10</td>\n",
       "    </tr>\n",
       "    <tr>\n",
       "      <th>179034</th>\n",
       "      <td>Subscriber</td>\n",
       "      <td>Male</td>\n",
       "      <td>36</td>\n",
       "      <td>Friday</td>\n",
       "      <td>Afternoon</td>\n",
       "      <td>0.963968</td>\n",
       "      <td>7.050000</td>\n",
       "      <td>February</td>\n",
       "      <td>No</td>\n",
       "      <td>15</td>\n",
       "    </tr>\n",
       "    <tr>\n",
       "      <th>147987</th>\n",
       "      <td>Subscriber</td>\n",
       "      <td>Female</td>\n",
       "      <td>39</td>\n",
       "      <td>Thursday</td>\n",
       "      <td>Morning</td>\n",
       "      <td>1.847785</td>\n",
       "      <td>8.600000</td>\n",
       "      <td>February</td>\n",
       "      <td>No</td>\n",
       "      <td>6</td>\n",
       "    </tr>\n",
       "    <tr>\n",
       "      <th>159334</th>\n",
       "      <td>Subscriber</td>\n",
       "      <td>Female</td>\n",
       "      <td>33</td>\n",
       "      <td>Tuesday</td>\n",
       "      <td>Evening</td>\n",
       "      <td>2.007867</td>\n",
       "      <td>10.883333</td>\n",
       "      <td>February</td>\n",
       "      <td>No</td>\n",
       "      <td>18</td>\n",
       "    </tr>\n",
       "    <tr>\n",
       "      <th>23410</th>\n",
       "      <td>Subscriber</td>\n",
       "      <td>Other</td>\n",
       "      <td>43</td>\n",
       "      <td>Monday</td>\n",
       "      <td>Night</td>\n",
       "      <td>1.893651</td>\n",
       "      <td>8.350000</td>\n",
       "      <td>February</td>\n",
       "      <td>No</td>\n",
       "      <td>20</td>\n",
       "    </tr>\n",
       "  </tbody>\n",
       "</table>\n",
       "</div>"
      ],
      "text/plain": [
       "         user_type member_gender  Age start_day   day_time  distance  \\\n",
       "180828  Subscriber          Male   26    Friday    Morning  1.197415   \n",
       "179034  Subscriber          Male   36    Friday  Afternoon  0.963968   \n",
       "147987  Subscriber        Female   39  Thursday    Morning  1.847785   \n",
       "159334  Subscriber        Female   33   Tuesday    Evening  2.007867   \n",
       "23410   Subscriber         Other   43    Monday      Night  1.893651   \n",
       "\n",
       "        duration_minutes     month bike_share_for_all_trip  start_hour  \n",
       "180828          7.300000  February                      No          10  \n",
       "179034          7.050000  February                      No          15  \n",
       "147987          8.600000  February                      No           6  \n",
       "159334         10.883333  February                      No          18  \n",
       "23410           8.350000  February                      No          20  "
      ]
     },
     "execution_count": 336,
     "metadata": {},
     "output_type": "execute_result"
    }
   ],
   "source": [
    "# Check:\n",
    "clean_df.sample(5)"
   ]
  },
  {
   "cell_type": "code",
   "execution_count": 337,
   "metadata": {},
   "outputs": [
    {
     "data": {
      "text/plain": [
       "user_type                  category\n",
       "member_gender              category\n",
       "Age                           int32\n",
       "start_day                    object\n",
       "day_time                     object\n",
       "distance                    float64\n",
       "duration_minutes            float64\n",
       "month                        object\n",
       "bike_share_for_all_trip    category\n",
       "start_hour                    int64\n",
       "dtype: object"
      ]
     },
     "execution_count": 337,
     "metadata": {},
     "output_type": "execute_result"
    }
   ],
   "source": [
    "clean_df.dtypes"
   ]
  },
  {
   "cell_type": "markdown",
   "metadata": {},
   "source": [
    "###### Final Data cleaning (data type fix)"
   ]
  },
  {
   "cell_type": "code",
   "execution_count": 338,
   "metadata": {},
   "outputs": [],
   "source": [
    "#Data Type Hot Fix!\n",
    "clean_df['start_day'] = clean_df['start_day'].astype('category')\n",
    "clean_df['day_time'] = clean_df['day_time'].astype('category')\n",
    "# clean_df.distance = clean_df.distance.astype(int)\n",
    "clean_df.duration_minutes = clean_df.duration_minutes.astype(int)\n",
    "clean_df['month'] = clean_df['month'].astype('category')"
   ]
  },
  {
   "cell_type": "code",
   "execution_count": 339,
   "metadata": {},
   "outputs": [
    {
     "data": {
      "text/plain": [
       "user_type                  category\n",
       "member_gender              category\n",
       "Age                           int32\n",
       "start_day                  category\n",
       "day_time                   category\n",
       "distance                    float64\n",
       "duration_minutes              int32\n",
       "month                      category\n",
       "bike_share_for_all_trip    category\n",
       "start_hour                    int64\n",
       "dtype: object"
      ]
     },
     "execution_count": 339,
     "metadata": {},
     "output_type": "execute_result"
    }
   ],
   "source": [
    "# Check:\n",
    "clean_df.dtypes"
   ]
  },
  {
   "cell_type": "code",
   "execution_count": 340,
   "metadata": {},
   "outputs": [
    {
     "data": {
      "text/html": [
       "<div>\n",
       "<style scoped>\n",
       "    .dataframe tbody tr th:only-of-type {\n",
       "        vertical-align: middle;\n",
       "    }\n",
       "\n",
       "    .dataframe tbody tr th {\n",
       "        vertical-align: top;\n",
       "    }\n",
       "\n",
       "    .dataframe thead th {\n",
       "        text-align: right;\n",
       "    }\n",
       "</style>\n",
       "<table border=\"1\" class=\"dataframe\">\n",
       "  <thead>\n",
       "    <tr style=\"text-align: right;\">\n",
       "      <th></th>\n",
       "      <th>user_type</th>\n",
       "      <th>member_gender</th>\n",
       "      <th>Age</th>\n",
       "      <th>start_day</th>\n",
       "      <th>day_time</th>\n",
       "      <th>distance</th>\n",
       "      <th>duration_minutes</th>\n",
       "      <th>month</th>\n",
       "      <th>bike_share_for_all_trip</th>\n",
       "      <th>start_hour</th>\n",
       "    </tr>\n",
       "  </thead>\n",
       "  <tbody>\n",
       "    <tr>\n",
       "      <th>56252</th>\n",
       "      <td>Subscriber</td>\n",
       "      <td>Male</td>\n",
       "      <td>35</td>\n",
       "      <td>Thursday</td>\n",
       "      <td>Morning</td>\n",
       "      <td>1.380621</td>\n",
       "      <td>6</td>\n",
       "      <td>February</td>\n",
       "      <td>No</td>\n",
       "      <td>9</td>\n",
       "    </tr>\n",
       "    <tr>\n",
       "      <th>95615</th>\n",
       "      <td>Subscriber</td>\n",
       "      <td>Male</td>\n",
       "      <td>25</td>\n",
       "      <td>Friday</td>\n",
       "      <td>Afternoon</td>\n",
       "      <td>1.613447</td>\n",
       "      <td>9</td>\n",
       "      <td>February</td>\n",
       "      <td>No</td>\n",
       "      <td>13</td>\n",
       "    </tr>\n",
       "    <tr>\n",
       "      <th>169511</th>\n",
       "      <td>Subscriber</td>\n",
       "      <td>Male</td>\n",
       "      <td>26</td>\n",
       "      <td>Monday</td>\n",
       "      <td>Morning</td>\n",
       "      <td>1.542708</td>\n",
       "      <td>8</td>\n",
       "      <td>February</td>\n",
       "      <td>No</td>\n",
       "      <td>9</td>\n",
       "    </tr>\n",
       "    <tr>\n",
       "      <th>172051</th>\n",
       "      <td>Subscriber</td>\n",
       "      <td>Male</td>\n",
       "      <td>28</td>\n",
       "      <td>Sunday</td>\n",
       "      <td>Evening</td>\n",
       "      <td>0.992817</td>\n",
       "      <td>3</td>\n",
       "      <td>February</td>\n",
       "      <td>No</td>\n",
       "      <td>17</td>\n",
       "    </tr>\n",
       "    <tr>\n",
       "      <th>74233</th>\n",
       "      <td>Subscriber</td>\n",
       "      <td>Male</td>\n",
       "      <td>55</td>\n",
       "      <td>Tuesday</td>\n",
       "      <td>Morning</td>\n",
       "      <td>1.010388</td>\n",
       "      <td>7</td>\n",
       "      <td>February</td>\n",
       "      <td>No</td>\n",
       "      <td>11</td>\n",
       "    </tr>\n",
       "    <tr>\n",
       "      <th>42693</th>\n",
       "      <td>Subscriber</td>\n",
       "      <td>Male</td>\n",
       "      <td>33</td>\n",
       "      <td>Friday</td>\n",
       "      <td>Evening</td>\n",
       "      <td>1.413281</td>\n",
       "      <td>7</td>\n",
       "      <td>February</td>\n",
       "      <td>No</td>\n",
       "      <td>17</td>\n",
       "    </tr>\n",
       "    <tr>\n",
       "      <th>108359</th>\n",
       "      <td>Subscriber</td>\n",
       "      <td>Other</td>\n",
       "      <td>31</td>\n",
       "      <td>Wednesday</td>\n",
       "      <td>Morning</td>\n",
       "      <td>0.507682</td>\n",
       "      <td>2</td>\n",
       "      <td>February</td>\n",
       "      <td>Yes</td>\n",
       "      <td>8</td>\n",
       "    </tr>\n",
       "    <tr>\n",
       "      <th>65574</th>\n",
       "      <td>Subscriber</td>\n",
       "      <td>Male</td>\n",
       "      <td>34</td>\n",
       "      <td>Wednesday</td>\n",
       "      <td>Morning</td>\n",
       "      <td>0.977619</td>\n",
       "      <td>5</td>\n",
       "      <td>February</td>\n",
       "      <td>No</td>\n",
       "      <td>9</td>\n",
       "    </tr>\n",
       "    <tr>\n",
       "      <th>40914</th>\n",
       "      <td>Subscriber</td>\n",
       "      <td>Male</td>\n",
       "      <td>51</td>\n",
       "      <td>Friday</td>\n",
       "      <td>Evening</td>\n",
       "      <td>1.341918</td>\n",
       "      <td>9</td>\n",
       "      <td>February</td>\n",
       "      <td>No</td>\n",
       "      <td>19</td>\n",
       "    </tr>\n",
       "    <tr>\n",
       "      <th>83588</th>\n",
       "      <td>Subscriber</td>\n",
       "      <td>Male</td>\n",
       "      <td>32</td>\n",
       "      <td>Sunday</td>\n",
       "      <td>Night</td>\n",
       "      <td>1.612483</td>\n",
       "      <td>5</td>\n",
       "      <td>February</td>\n",
       "      <td>No</td>\n",
       "      <td>22</td>\n",
       "    </tr>\n",
       "    <tr>\n",
       "      <th>141009</th>\n",
       "      <td>Subscriber</td>\n",
       "      <td>Male</td>\n",
       "      <td>21</td>\n",
       "      <td>Thursday</td>\n",
       "      <td>Evening</td>\n",
       "      <td>0.701179</td>\n",
       "      <td>5</td>\n",
       "      <td>February</td>\n",
       "      <td>No</td>\n",
       "      <td>18</td>\n",
       "    </tr>\n",
       "    <tr>\n",
       "      <th>86597</th>\n",
       "      <td>Subscriber</td>\n",
       "      <td>Female</td>\n",
       "      <td>44</td>\n",
       "      <td>Sunday</td>\n",
       "      <td>Afternoon</td>\n",
       "      <td>2.050660</td>\n",
       "      <td>19</td>\n",
       "      <td>February</td>\n",
       "      <td>Yes</td>\n",
       "      <td>12</td>\n",
       "    </tr>\n",
       "    <tr>\n",
       "      <th>55710</th>\n",
       "      <td>Subscriber</td>\n",
       "      <td>Male</td>\n",
       "      <td>60</td>\n",
       "      <td>Thursday</td>\n",
       "      <td>Morning</td>\n",
       "      <td>2.871582</td>\n",
       "      <td>12</td>\n",
       "      <td>February</td>\n",
       "      <td>No</td>\n",
       "      <td>9</td>\n",
       "    </tr>\n",
       "    <tr>\n",
       "      <th>123510</th>\n",
       "      <td>Subscriber</td>\n",
       "      <td>Male</td>\n",
       "      <td>24</td>\n",
       "      <td>Monday</td>\n",
       "      <td>Morning</td>\n",
       "      <td>3.660186</td>\n",
       "      <td>17</td>\n",
       "      <td>February</td>\n",
       "      <td>No</td>\n",
       "      <td>9</td>\n",
       "    </tr>\n",
       "    <tr>\n",
       "      <th>164330</th>\n",
       "      <td>Subscriber</td>\n",
       "      <td>Male</td>\n",
       "      <td>25</td>\n",
       "      <td>Tuesday</td>\n",
       "      <td>Morning</td>\n",
       "      <td>2.091947</td>\n",
       "      <td>10</td>\n",
       "      <td>February</td>\n",
       "      <td>No</td>\n",
       "      <td>8</td>\n",
       "    </tr>\n",
       "    <tr>\n",
       "      <th>163998</th>\n",
       "      <td>Subscriber</td>\n",
       "      <td>Male</td>\n",
       "      <td>29</td>\n",
       "      <td>Tuesday</td>\n",
       "      <td>Morning</td>\n",
       "      <td>1.365336</td>\n",
       "      <td>5</td>\n",
       "      <td>February</td>\n",
       "      <td>No</td>\n",
       "      <td>8</td>\n",
       "    </tr>\n",
       "    <tr>\n",
       "      <th>124664</th>\n",
       "      <td>Subscriber</td>\n",
       "      <td>Male</td>\n",
       "      <td>37</td>\n",
       "      <td>Monday</td>\n",
       "      <td>Morning</td>\n",
       "      <td>2.143716</td>\n",
       "      <td>8</td>\n",
       "      <td>February</td>\n",
       "      <td>No</td>\n",
       "      <td>8</td>\n",
       "    </tr>\n",
       "  </tbody>\n",
       "</table>\n",
       "</div>"
      ],
      "text/plain": [
       "         user_type member_gender  Age  start_day   day_time  distance  \\\n",
       "56252   Subscriber          Male   35   Thursday    Morning  1.380621   \n",
       "95615   Subscriber          Male   25     Friday  Afternoon  1.613447   \n",
       "169511  Subscriber          Male   26     Monday    Morning  1.542708   \n",
       "172051  Subscriber          Male   28     Sunday    Evening  0.992817   \n",
       "74233   Subscriber          Male   55    Tuesday    Morning  1.010388   \n",
       "42693   Subscriber          Male   33     Friday    Evening  1.413281   \n",
       "108359  Subscriber         Other   31  Wednesday    Morning  0.507682   \n",
       "65574   Subscriber          Male   34  Wednesday    Morning  0.977619   \n",
       "40914   Subscriber          Male   51     Friday    Evening  1.341918   \n",
       "83588   Subscriber          Male   32     Sunday      Night  1.612483   \n",
       "141009  Subscriber          Male   21   Thursday    Evening  0.701179   \n",
       "86597   Subscriber        Female   44     Sunday  Afternoon  2.050660   \n",
       "55710   Subscriber          Male   60   Thursday    Morning  2.871582   \n",
       "123510  Subscriber          Male   24     Monday    Morning  3.660186   \n",
       "164330  Subscriber          Male   25    Tuesday    Morning  2.091947   \n",
       "163998  Subscriber          Male   29    Tuesday    Morning  1.365336   \n",
       "124664  Subscriber          Male   37     Monday    Morning  2.143716   \n",
       "\n",
       "        duration_minutes     month bike_share_for_all_trip  start_hour  \n",
       "56252                  6  February                      No           9  \n",
       "95615                  9  February                      No          13  \n",
       "169511                 8  February                      No           9  \n",
       "172051                 3  February                      No          17  \n",
       "74233                  7  February                      No          11  \n",
       "42693                  7  February                      No          17  \n",
       "108359                 2  February                     Yes           8  \n",
       "65574                  5  February                      No           9  \n",
       "40914                  9  February                      No          19  \n",
       "83588                  5  February                      No          22  \n",
       "141009                 5  February                      No          18  \n",
       "86597                 19  February                     Yes          12  \n",
       "55710                 12  February                      No           9  \n",
       "123510                17  February                      No           9  \n",
       "164330                10  February                      No           8  \n",
       "163998                 5  February                      No           8  \n",
       "124664                 8  February                      No           8  "
      ]
     },
     "execution_count": 340,
     "metadata": {},
     "output_type": "execute_result"
    }
   ],
   "source": [
    "# clean_df.head(7)\n",
    "# clean_df.tail(7)\n",
    "clean_df.sample(17)"
   ]
  },
  {
   "cell_type": "code",
   "execution_count": 341,
   "metadata": {},
   "outputs": [],
   "source": [
    "# save the clean dataset for future use\n",
    "clean_df.to_csv('Ford_GoBike(2019_feb).csv', index=False)"
   ]
  },
  {
   "cell_type": "code",
   "execution_count": null,
   "metadata": {},
   "outputs": [],
   "source": []
  },
  {
   "cell_type": "markdown",
   "metadata": {},
   "source": [
    "## Univariate Exploration"
   ]
  },
  {
   "cell_type": "code",
   "execution_count": 342,
   "metadata": {},
   "outputs": [],
   "source": [
    "# explore how distance of ride distribution looks like,\n",
    "# how riders took rides relative to distance they wanted to cover"
   ]
  },
  {
   "cell_type": "code",
   "execution_count": 343,
   "metadata": {},
   "outputs": [],
   "source": [
    "# first lets set the default colour and method to avoid duplicated code\n",
    "def x_y_t(xL,yL,title):\n",
    "    plt.title(title, fontsize=16)\n",
    "    plt.xlabel(xL, fontsize=12)\n",
    "    plt.ylabel(yL, fontsize=12)"
   ]
  },
  {
   "cell_type": "markdown",
   "metadata": {},
   "source": [
    "##### Can we check distance commonly implored for the Bike Service ?\n",
    "\n",
    "> To do this we'll plot a Distance versus Ride Frequency "
   ]
  },
  {
   "cell_type": "code",
   "execution_count": 344,
   "metadata": {},
   "outputs": [
    {
     "data": {
      "image/png": "[encoded data removed]",
      "text/plain": [
       "<Figure size 576x432 with 1 Axes>"
      ]
     },
     "metadata": {
      "needs_background": "light"
     },
     "output_type": "display_data"
    }
   ],
   "source": [
    "plt.figure(figsize=[8, 6])\n",
    "clean_df.distance.hist(bins=50, log=True)\n",
    "plt.grid(b=None)\n",
    "x_y_t('Distance in meters', 'Rides Frequency','Distance completed while using Bike Service' )"
   ]
  },
  {
   "cell_type": "markdown",
   "metadata": {},
   "source": [
    "from the plot above, the plot is skewed mor to the left, thus we observe that most riders used Ford GoBike for less than 10km journeys"
   ]
  },
  {
   "cell_type": "markdown",
   "metadata": {},
   "source": [
    "##### can we also explore the amount of time the riders spent before completing their rides while making use of the services?\n",
    "\n",
    "> we'll plot a time verus rides freqeuncy graph to accomplish this"
   ]
  },
  {
   "cell_type": "code",
   "execution_count": 345,
   "metadata": {},
   "outputs": [
    {
     "data": {
      "image/png": "[encoded data removed]",
      "text/plain": [
       "<Figure size 576x432 with 1 Axes>"
      ]
     },
     "metadata": {
      "needs_background": "light"
     },
     "output_type": "display_data"
    }
   ],
   "source": [
    "plt.figure(figsize=[8, 6])\n",
    "clean_df.duration_minutes.hist(bins=50, log=True)\n",
    "plt.grid(b=None)\n",
    "x_y_t('Time in minutes', 'Rides Frequency','Number of rides completed in minutes' )"
   ]
  },
  {
   "cell_type": "markdown",
   "metadata": {},
   "source": [
    "> from the Above plot, most rides were completed in the first 1  hour (20 - 40 minutes)!"
   ]
  },
  {
   "cell_type": "markdown",
   "metadata": {},
   "source": [
    "#### Week Analysis\n",
    "\n",
    "> next is can we check the days with the highest number bike services demand??\n",
    "\n",
    "> we'll plot a Day of the week versus rides frequency plot to solve this"
   ]
  },
  {
   "cell_type": "code",
   "execution_count": 346,
   "metadata": {},
   "outputs": [
    {
     "data": {
      "image/png": "[encoded data removed]",
      "text/plain": [
       "<Figure size 576x432 with 1 Axes>"
      ]
     },
     "metadata": {
      "needs_background": "light"
     },
     "output_type": "display_data"
    }
   ],
   "source": [
    "# plot a graph to see how many rides were taken on different weekdays\n",
    "plt.figure(figsize=[8, 6])\n",
    "clean_df.groupby('start_day').count().sort_values('duration_minutes', ascending=False).duration_minutes.plot(kind='bar')\n",
    "x_y_t('Day of week', 'Number of rides','Number of rides on days of week' )"
   ]
  },
  {
   "cell_type": "markdown",
   "metadata": {},
   "source": [
    "from the above plot, saturdays and sundays were the least days where the bike services wasn't in demand and its quite understanable cos its falls within the weekend, while Thursday and Tuesday possesing the highest demand "
   ]
  },
  {
   "cell_type": "markdown",
   "metadata": {},
   "source": [
    "###### Now we know the days with the highest demand, next thing is can  we check what time of the day demand had higher activities?\n",
    "\n",
    "> next is to plot a time of the Day graph versus Rides Frequency chart to solve this"
   ]
  },
  {
   "cell_type": "code",
   "execution_count": 347,
   "metadata": {},
   "outputs": [
    {
     "data": {
      "image/png": "[encoded data removed]",
      "text/plain": [
       "<Figure size 576x432 with 1 Axes>"
      ]
     },
     "metadata": {
      "needs_background": "light"
     },
     "output_type": "display_data"
    }
   ],
   "source": [
    "# plot a graph to see how many rides were taken on different weekdays\n",
    "plt.figure(figsize=[8, 6])\n",
    "clean_df.groupby('day_time').count().sort_values('duration_minutes', ascending=False).duration_minutes.plot(kind='bar')\n",
    "x_y_t('Time of the Day', 'Number of rides','Number of rides on days of week' )"
   ]
  },
  {
   "cell_type": "markdown",
   "metadata": {},
   "source": [
    "Morning times are have the highest traffic / Demand as people are trying to get somewhere, while the Afternoon and Evening times are almost evenly distributed signifying different close times from work during weekdays."
   ]
  },
  {
   "cell_type": "markdown",
   "metadata": {},
   "source": [
    "##### Riders Insight\n",
    "\n",
    "> can we check the the proportion of customer versus active Subcribers ??  "
   ]
  },
  {
   "cell_type": "code",
   "execution_count": 348,
   "metadata": {},
   "outputs": [
    {
     "data": {
      "image/png": "[encoded data removed]",
      "text/plain": [
       "<Figure size 576x360 with 1 Axes>"
      ]
     },
     "metadata": {
      "needs_background": "light"
     },
     "output_type": "display_data"
    }
   ],
   "source": [
    "plt.figure(figsize=[8,5])\n",
    "base_color = sb.color_palette()[0]\n",
    "sb.countplot(data = clean_df, x = 'user_type', color = base_color)\n",
    "plt.title('Number of Trips by User Type')\n",
    "plt.xlabel('User Type')\n",
    "\n",
    "n_points = clean_df.shape[0]\n",
    "user_counts = clean_df['user_type'].value_counts()\n",
    "locs, labels = plt.xticks()\n",
    "\n",
    "for loc, label in zip(locs, labels):\n",
    "    count = user_counts[label.get_text()]\n",
    "    pct_string = '{:0.1f}%'.format(100*count/n_points)\n",
    "    plt.text(loc, count-8, pct_string, ha='center', color='b')\n",
    "\n",
    "plt.show()"
   ]
  },
  {
   "cell_type": "markdown",
   "metadata": {},
   "source": [
    "the above data clearly shows 90.5% o riders/ users were Subcribers with 9.5% for customers... most customers enjoy the services and are therefore subcribe to the GoBike Services!!"
   ]
  },
  {
   "cell_type": "code",
   "execution_count": 349,
   "metadata": {},
   "outputs": [],
   "source": [
    "# binsize = 10\n",
    "# bins = np.arange(0, clean_df['duration_minutes'].max()+binsize, binsize)\n",
    "\n",
    "# plt.figure(figsize=[8, 5])\n",
    "# plt.hist(data = clean_df, x = 'duration_minutes', bins = bins)\n",
    "# plt.xlim(0, 100)\n",
    "# plt.xlabel('Trip Duration (minutes)')\n",
    "# plt.title('Distribution of Trip Duration');"
   ]
  },
  {
   "cell_type": "markdown",
   "metadata": {},
   "source": [
    "###### Up next, we want to zero in to the gender distribution of both customers and subcribers"
   ]
  },
  {
   "cell_type": "code",
   "execution_count": 350,
   "metadata": {},
   "outputs": [
    {
     "data": {
      "image/png": "[encoded data removed]",
      "text/plain": [
       "<Figure size 576x360 with 1 Axes>"
      ]
     },
     "metadata": {
      "needs_background": "light"
     },
     "output_type": "display_data"
    }
   ],
   "source": [
    "#bar plot of Gender\n",
    "plt.figure(figsize=[8, 5])\n",
    "\n",
    "base_color = sb.color_palette()[0]\n",
    "sb.countplot(data = clean_df, x = 'member_gender', color = base_color)\n",
    "plt.title('Number of Trips by Gender')\n",
    "plt.xlabel('Gender')\n",
    "\n",
    "n_points = clean_df.shape[0]\n",
    "gender_counts = clean_df['member_gender'].value_counts()\n",
    "locs, labels = plt.xticks()\n",
    "\n",
    "for loc, label in zip(locs, labels):\n",
    "    count = gender_counts[label.get_text()]\n",
    "    pct_string = '{:0.1f}%'.format(100*count/n_points)\n",
    "    plt.text(loc, count-8, pct_string, ha='center', color='b')\n",
    "\n",
    "plt.show()"
   ]
  },
  {
   "cell_type": "markdown",
   "metadata": {},
   "source": [
    "this plot shows users are more of the Male gender(74.6%) and 23.3% of Female while  LGBtQ+ / no identity people might be among the others "
   ]
  },
  {
   "cell_type": "markdown",
   "metadata": {},
   "source": [
    "> we want to also know the popular age group between our customers and subribers...."
   ]
  },
  {
   "cell_type": "code",
   "execution_count": 351,
   "metadata": {},
   "outputs": [
    {
     "data": {
      "image/png": "[encoded data removed]",
      "text/plain": [
       "<Figure size 576x360 with 1 Axes>"
      ]
     },
     "metadata": {
      "needs_background": "light"
     },
     "output_type": "display_data"
    }
   ],
   "source": [
    "binsize = 5\n",
    "bins = np.arange(0, clean_df['Age'].max()+binsize, binsize)\n",
    "\n",
    "plt.figure(figsize=[8, 5])\n",
    "plt.hist(data = clean_df, x = 'Age', bins = bins)\n",
    "plt.xlim(0, 90)\n",
    "plt.xlabel('Age of User')\n",
    "plt.title('Distribution of User Age');"
   ]
  },
  {
   "cell_type": "markdown",
   "metadata": {},
   "source": [
    "we can observe that most users are between their mid 20s to mid 30s"
   ]
  },
  {
   "cell_type": "markdown",
   "metadata": {},
   "source": [
    "## Bivariate Exploration\n"
   ]
  },
  {
   "cell_type": "markdown",
   "metadata": {},
   "source": [
    "###### Can we isolate the an age group and view their activities and how long they took to complete their trip??"
   ]
  },
  {
   "cell_type": "code",
   "execution_count": 352,
   "metadata": {},
   "outputs": [],
   "source": [
    "def Ax_Ay_At(xL,yL,title):\n",
    "    plt.title(title)\n",
    "    plt.xlabel(xL)\n",
    "    plt.ylabel(yL)"
   ]
  },
  {
   "cell_type": "code",
   "execution_count": 353,
   "metadata": {},
   "outputs": [
    {
     "data": {
      "image/png": "[encoded data removed]",
      "text/plain": [
       "<Figure size 864x576 with 1 Axes>"
      ]
     },
     "metadata": {
      "needs_background": "light"
     },
     "output_type": "display_data"
    }
   ],
   "source": [
    "# scatter plot of duration vs. age\n",
    "plt.figure(figsize = [12, 8])\n",
    "plt.scatter(data = clean_df, x = 'Age', y = 'duration_minutes', alpha = 0.4)\n",
    "plt.xlim(18, 60)\n",
    "Ax_Ay_At('Age','Trip Duration in minutes','Trip Duration VS User Age')"
   ]
  },
  {
   "cell_type": "markdown",
   "metadata": {},
   "source": [
    "> When we take the 18 - 60 years old age bracket, we can see that most trip duration lasted under 200 minutes, across the board with ligth occurences after 200 minutes "
   ]
  },
  {
   "cell_type": "markdown",
   "metadata": {},
   "source": [
    "###### can we see the density of the distance covered in relation to time??"
   ]
  },
  {
   "cell_type": "code",
   "execution_count": 354,
   "metadata": {},
   "outputs": [
    {
     "data": {
      "image/png": "[encoded data removed]",
      "text/plain": [
       "<Figure size 720x432 with 1 Axes>"
      ]
     },
     "metadata": {
      "needs_background": "light"
     },
     "output_type": "display_data"
    }
   ],
   "source": [
    "# due to the distance outliers the relation between distance and duration_minutes is not as clear.\n",
    "# Lets drop the outliers and create a plot \n",
    "df_dis_dur = clean_df.query(\"distance < 20\")\n",
    "plt.figure(figsize=[10, 6])\n",
    "plt.scatter(data = df_dis_dur, x = 'distance', y = 'duration_minutes', alpha = 0.3)\n",
    "x_y_t('Distance in km', 'Duration in minutes', 'Duration vs Distance')"
   ]
  },
  {
   "cell_type": "markdown",
   "metadata": {},
   "source": [
    "> from the above scatter plot we can observe that the most distances ranging from 2 to almost 10km were mostly completed in under 200 minutes  "
   ]
  },
  {
   "cell_type": "markdown",
   "metadata": {},
   "source": [
    "###### can we zoom in into the active time of the day in each day of the week??"
   ]
  },
  {
   "cell_type": "code",
   "execution_count": 355,
   "metadata": {},
   "outputs": [],
   "source": [
    "# lets set the day order we want:\n",
    "day =[\"Monday\", \"Tuesday\", \"Wednesday\", \"Thursday\", \"Friday\", \"Saturday\", \"Sunday\"]"
   ]
  },
  {
   "cell_type": "code",
   "execution_count": 356,
   "metadata": {},
   "outputs": [
    {
     "data": {
      "image/png": "[encoded data removed]",
      "text/plain": [
       "<Figure size 864x576 with 1 Axes>"
      ]
     },
     "metadata": {
      "needs_background": "light"
     },
     "output_type": "display_data"
    }
   ],
   "source": [
    "# plot a graph to see what time of the day rides are taken for each day of the week\n",
    "plt.figure(figsize=[12, 8])\n",
    "sb.countplot(data = clean_df, x = 'start_day', order= day, hue = 'day_time')\n",
    "x_y_t('Days of week', 'Number of rides', 'Number of rides each day of week and time of the day')\n",
    "plt.legend(title = 'Time of the day');"
   ]
  },
  {
   "cell_type": "markdown",
   "metadata": {},
   "source": [
    ">here we can see a well detailed info for specific times of each days o the week for example, the busiest times are tuesday, thursday and friday mornings, followed by tuesday, wednesday and thursday evening for the evening time, \n",
    "whilst the afternoon times remained fairly equal throughout the whole week"
   ]
  },
  {
   "cell_type": "markdown",
   "metadata": {},
   "source": [
    "###### can we also compare and contrast between customer and subcriber durin the days of the week??"
   ]
  },
  {
   "cell_type": "code",
   "execution_count": 357,
   "metadata": {},
   "outputs": [
    {
     "data": {
      "image/png": "[encoded data removed]",
      "text/plain": [
       "<Figure size 864x576 with 1 Axes>"
      ]
     },
     "metadata": {
      "needs_background": "light"
     },
     "output_type": "display_data"
    }
   ],
   "source": [
    "# plot a graph to see how different user types ride each day of week\n",
    "plt.figure(figsize=[12, 8])\n",
    "sb.countplot(data = clean_df, x = 'start_day',order= day, hue = 'user_type')\n",
    "x_y_t('Type of user', 'Number of rides', 'Number of rides on different weekday by user type')\n",
    "plt.legend(title = 'Type of user');"
   ]
  },
  {
   "cell_type": "markdown",
   "metadata": {},
   "source": [
    "> from the plot above we can observe clearly that the subcribers are more active and more in numbers than the cutomer, and that the customers number / frequency remain fairly constant throughout the week, even during weekends when subcribers trips exeprience a sharp drop"
   ]
  },
  {
   "cell_type": "markdown",
   "metadata": {},
   "source": [
    "###### Are there any correlation between these variables ?"
   ]
  },
  {
   "cell_type": "code",
   "execution_count": 358,
   "metadata": {},
   "outputs": [
    {
     "data": {
      "image/png": "[encoded data removed]",
      "text/plain": [
       "<Figure size 576x576 with 2 Axes>"
      ]
     },
     "metadata": {
      "needs_background": "light"
     },
     "output_type": "display_data"
    }
   ],
   "source": [
    "plt.figure(figsize=(8,8))\n",
    "ax = sb.heatmap(clean_df.corr(), cmap = 'RdBu',  square=True, vmin=-1, vmax=1, annot=True, fmt = '.3f');\n",
    "bottom, top = ax.get_ylim()\n",
    "ax.set_ylim(bottom + 0.5, top - 0.5)\n",
    "plt.title('Correlation b/w features');"
   ]
  },
  {
   "cell_type": "markdown",
   "metadata": {},
   "source": [
    "from the above heat map, we can see the correlation relationship between varaibles, for example, the start hour has a low (-0.64) relationship to the age of the user, meaning age not really affected by time users start their trip, unlike age vs Duration which show a fairly low positive correlation, meaning younger people dont significantly tend to finish their rides faster than the older ones "
   ]
  },
  {
   "cell_type": "markdown",
   "metadata": {},
   "source": [
    "###### on an average, how long does the Subriber and Customer rides take?? "
   ]
  },
  {
   "cell_type": "code",
   "execution_count": 359,
   "metadata": {},
   "outputs": [
    {
     "data": {
      "image/png": "[encoded data removed]",
      "text/plain": [
       "<Figure size 432x288 with 1 Axes>"
      ]
     },
     "metadata": {
      "needs_background": "light"
     },
     "output_type": "display_data"
    }
   ],
   "source": [
    "clean_df.groupby('user_type').duration_minutes.mean().plot(kind='barh');\n",
    "plt.title('Mean Ride duration for User');\n",
    "plt.xlabel('Mean Ride duration');"
   ]
  },
  {
   "cell_type": "markdown",
   "metadata": {},
   "source": [
    "for some reason the Customer rides takes more trip times when compared to the  trip times of the subcriber which is less than half of the customer\"s time on an average"
   ]
  },
  {
   "cell_type": "markdown",
   "metadata": {},
   "source": [
    "###### Can we zoom into the the hourly activities of both subribers and customers? "
   ]
  },
  {
   "cell_type": "code",
   "execution_count": 360,
   "metadata": {},
   "outputs": [
    {
     "data": {
      "image/png": "[encoded data removed]",
      "text/plain": [
       "<Figure size 576x432 with 1 Axes>"
      ]
     },
     "metadata": {
      "needs_background": "light"
     },
     "output_type": "display_data"
    }
   ],
   "source": [
    "plt.figure(figsize=(8,6))\n",
    "sb.countplot(data = clean_df, x = 'start_hour', hue='user_type');\n",
    "plt.ylabel('No. of Rides');\n",
    "plt.title('Ride Distribution');"
   ]
  },
  {
   "cell_type": "code",
   "execution_count": 361,
   "metadata": {},
   "outputs": [
    {
     "data": {
      "image/png": "[encoded data removed]",
      "text/plain": [
       "<Figure size 1080x720 with 2 Axes>"
      ]
     },
     "metadata": {
      "needs_background": "light"
     },
     "output_type": "display_data"
    }
   ],
   "source": [
    "plt.figure(figsize=(15,10))\n",
    "plt.subplot(2, 1, 1)\n",
    "sb.countplot(data = clean_df, x='start_hour', hue= 'start_day', palette = 'Blues');\n",
    "\n",
    "Ax_Ay_At('Hour', 'No. of Rides', 'Relation b/w Rides and Week, Hour')\n",
    "\n",
    "plt.subplot(2, 1, 2)\n",
    "sb.countplot(data = clean_df, x='start_hour', hue='user_type', palette = 'Greens');\n",
    "Ax_Ay_At('Hour', 'No. of Rides', 'Relation b/w Rides and user type, Hour')"
   ]
  },
  {
   "cell_type": "markdown",
   "metadata": {},
   "source": [
    "> from the 3 plots above, we can see that activities of both customers and subcribers have same type of pattern, even though there's a huge gap between them whenit comes to numbers, but their activities similar, starting by 6 am, peaking by 8am ,then dropping 9am, and fairly constant till close houurs of 4(16hr), 5(17hr) and 6pm(18hr) when people start to return."
   ]
  },
  {
   "cell_type": "markdown",
   "metadata": {},
   "source": [
    "###### can we use a violin plots to substantiate Trip times between users??"
   ]
  },
  {
   "cell_type": "code",
   "execution_count": 362,
   "metadata": {},
   "outputs": [
    {
     "data": {
      "image/png": "[encoded data removed]",
      "text/plain": [
       "<Figure size 432x288 with 1 Axes>"
      ]
     },
     "metadata": {
      "needs_background": "light"
     },
     "output_type": "display_data"
    }
   ],
   "source": [
    "#will take a subset of the data where duaration was less than an hour.\n",
    "clean_df = clean_df.query(\"duration_minutes < 60\")\n",
    "base_color = sb.color_palette()[0]\n",
    "sb.violinplot(data=clean_df, x='user_type', y='duration_minutes', color=base_color, inner='quartile')\n",
    "Ax_Ay_At('User Type', 'No. of Rides''Duration (minutes)', 'Duration Against User Type')"
   ]
  },
  {
   "cell_type": "markdown",
   "metadata": {},
   "source": [
    "> from the violin plots, we see that the more subcribers are more likely to finish 10 minutes and really reduces before we get to 20 minutes, while Customers have a significant number of persons finishing well over 20 minutes, whci conirms our previous plots"
   ]
  },
  {
   "cell_type": "code",
   "execution_count": 363,
   "metadata": {},
   "outputs": [],
   "source": [
    "# clean_df.groupby('user_type')['duration_minutes'].describe()"
   ]
  },
  {
   "cell_type": "markdown",
   "metadata": {},
   "source": [
    "###### can we use a violin plots to substantiate our previous plot between gender??"
   ]
  },
  {
   "cell_type": "code",
   "execution_count": 364,
   "metadata": {},
   "outputs": [
    {
     "data": {
      "image/png": "[encoded data removed]",
      "text/plain": [
       "<Figure size 432x288 with 1 Axes>"
      ]
     },
     "metadata": {
      "needs_background": "light"
     },
     "output_type": "display_data"
    }
   ],
   "source": [
    "base_color = sb.color_palette()[0]\n",
    "sb.violinplot(data= clean_df, x='member_gender', y='duration_minutes', color=base_color, inner='quartile')\n",
    "Ax_Ay_At('Gender', 'Duration (minutes)', 'Duration Against User Gender')"
   ]
  },
  {
   "cell_type": "markdown",
   "metadata": {},
   "source": [
    "> From the above plot, Gender differnce isnt a real factor that affect trip times......"
   ]
  },
  {
   "cell_type": "markdown",
   "metadata": {},
   "source": [
    "###### lets check out the popular age range between users type...... "
   ]
  },
  {
   "cell_type": "code",
   "execution_count": 365,
   "metadata": {},
   "outputs": [
    {
     "data": {
      "image/png": "[encoded data removed]",
      "text/plain": [
       "<Figure size 432x288 with 1 Axes>"
      ]
     },
     "metadata": {
      "needs_background": "light"
     },
     "output_type": "display_data"
    }
   ],
   "source": [
    "sb.boxplot(data=clean_df, x='user_type',y='Age',color=base_color)\n",
    "Ax_Ay_At('User Type', 'Age', 'Age against User Type')"
   ]
  },
  {
   "cell_type": "code",
   "execution_count": 366,
   "metadata": {},
   "outputs": [
    {
     "data": {
      "text/html": [
       "<div>\n",
       "<style scoped>\n",
       "    .dataframe tbody tr th:only-of-type {\n",
       "        vertical-align: middle;\n",
       "    }\n",
       "\n",
       "    .dataframe tbody tr th {\n",
       "        vertical-align: top;\n",
       "    }\n",
       "\n",
       "    .dataframe thead th {\n",
       "        text-align: right;\n",
       "    }\n",
       "</style>\n",
       "<table border=\"1\" class=\"dataframe\">\n",
       "  <thead>\n",
       "    <tr style=\"text-align: right;\">\n",
       "      <th></th>\n",
       "      <th>count</th>\n",
       "      <th>mean</th>\n",
       "      <th>std</th>\n",
       "      <th>min</th>\n",
       "      <th>25%</th>\n",
       "      <th>50%</th>\n",
       "      <th>75%</th>\n",
       "      <th>max</th>\n",
       "    </tr>\n",
       "    <tr>\n",
       "      <th>user_type</th>\n",
       "      <th></th>\n",
       "      <th></th>\n",
       "      <th></th>\n",
       "      <th></th>\n",
       "      <th></th>\n",
       "      <th></th>\n",
       "      <th></th>\n",
       "      <th></th>\n",
       "    </tr>\n",
       "  </thead>\n",
       "  <tbody>\n",
       "    <tr>\n",
       "      <th>Customer</th>\n",
       "      <td>15864.0</td>\n",
       "      <td>33.644793</td>\n",
       "      <td>9.461973</td>\n",
       "      <td>18.0</td>\n",
       "      <td>27.0</td>\n",
       "      <td>32.0</td>\n",
       "      <td>38.0</td>\n",
       "      <td>141.0</td>\n",
       "    </tr>\n",
       "    <tr>\n",
       "      <th>Subscriber</th>\n",
       "      <td>157702.0</td>\n",
       "      <td>34.246617</td>\n",
       "      <td>10.178865</td>\n",
       "      <td>18.0</td>\n",
       "      <td>27.0</td>\n",
       "      <td>32.0</td>\n",
       "      <td>39.0</td>\n",
       "      <td>119.0</td>\n",
       "    </tr>\n",
       "  </tbody>\n",
       "</table>\n",
       "</div>"
      ],
      "text/plain": [
       "               count       mean        std   min   25%   50%   75%    max\n",
       "user_type                                                                \n",
       "Customer     15864.0  33.644793   9.461973  18.0  27.0  32.0  38.0  141.0\n",
       "Subscriber  157702.0  34.246617  10.178865  18.0  27.0  32.0  39.0  119.0"
      ]
     },
     "execution_count": 366,
     "metadata": {},
     "output_type": "execute_result"
    }
   ],
   "source": [
    "clean_df.groupby('user_type')['Age'].describe()"
   ]
  },
  {
   "cell_type": "markdown",
   "metadata": {},
   "source": [
    "> from the above we can observe that both customers ans subcribers have fairly similar age range in Go_bike usage both show popularity amongst mid 30s Users"
   ]
  },
  {
   "cell_type": "markdown",
   "metadata": {},
   "source": [
    "##### Can we see the behavioural pattern for each Age???"
   ]
  },
  {
   "cell_type": "code",
   "execution_count": 367,
   "metadata": {},
   "outputs": [
    {
     "data": {
      "image/png": "[encoded data removed]",
      "text/plain": [
       "<Figure size 1440x288 with 1 Axes>"
      ]
     },
     "metadata": {
      "needs_background": "light"
     },
     "output_type": "display_data"
    }
   ],
   "source": [
    "# let plot another type of plot (Point plot) for this:\n",
    "plt.figure(figsize=[20, 4])\n",
    "\n",
    "sb.pointplot(data=clean_df, x='Age', y='duration_minutes', errwidth=0)\n",
    "plt.xticks(rotation=90)\n",
    "Ax_Ay_At('Age', 'Avg. Duration (m)', 'Average duration vs Age')"
   ]
  },
  {
   "cell_type": "markdown",
   "metadata": {},
   "source": [
    "> From the plot above We can also observe again the usage of the 18 yr olds in terms of trip minutes Duration on an average, while the time is quiet stable from 20 year olds to the 46 yrs old, from there it fluters between ages, due to the occurence of few users in those age range, so the data might not reall be able to give an insight into the behavioural pattern of those age group and this is shown below in the age count code"
   ]
  },
  {
   "cell_type": "code",
   "execution_count": 368,
   "metadata": {},
   "outputs": [
    {
     "data": {
      "text/plain": [
       "119    53\n",
       "71     51\n",
       "76     30\n",
       "18     29\n",
       "77     21\n",
       "86     20\n",
       "73     19\n",
       "80     11\n",
       "117    11\n",
       "78      8\n",
       "118     6\n",
       "99      3\n",
       "81      3\n",
       "75      2\n",
       "85      2\n",
       "91      1\n",
       "141     1\n",
       "89      1\n",
       "109     1\n",
       "92      1\n",
       "Name: Age, dtype: int64"
      ]
     },
     "execution_count": 368,
     "metadata": {},
     "output_type": "execute_result"
    }
   ],
   "source": [
    "# clean_df.Age.describe()\n",
    "clean_df.Age.value_counts().tail(20)"
   ]
  },
  {
   "cell_type": "code",
   "execution_count": 369,
   "metadata": {},
   "outputs": [],
   "source": [
    "# # relationship between member_gender and user type\n",
    "# sb.countplot(data=clean_df, x='member_gender', hue='user_type')\n",
    "# plt.xlabel('Gender')\n",
    "# plt.legend(title='User Type')\n",
    "# plt.title('User type');"
   ]
  },
  {
   "cell_type": "code",
   "execution_count": 370,
   "metadata": {},
   "outputs": [],
   "source": [
    "# sb.heatmap(clean_df[['distance', 'duration_minutes']].corr(), annot = True, fmt = '.3f',\n",
    "#            cmap = 'vlag_r', center = 0)\n",
    "# plt.title('Duration vs Distance');"
   ]
  },
  {
   "cell_type": "code",
   "execution_count": null,
   "metadata": {},
   "outputs": [],
   "source": []
  },
  {
   "cell_type": "markdown",
   "metadata": {},
   "source": [
    "### Some of the relationships observed in this part of the investigation. Including feature(s) of interest vary with other features in the dataset.\n",
    "\n",
    "> when we observe the mean duration plot between customers and subcribers, we notice that Customer uses the bike for more duration on average than Subscribers.\n",
    "\n",
    "> when we take into account the 'Number of rides each day of week and time of the day' plot we can see that the most active days are tuesdays wednesdays and thursdays with the Morning time having most activities, something interesting is the afternoon rides whic are fairly consistent throughout the week including weekends (saturdays and sunday) all ranging bettween over 6k to less than 8k rides, while there are always less night rides meaning riders are less likel to want a ride after 7pm in the evening.\n",
    "\n",
    "> 7AM - 9AM && 4PM - 6PM are peak times, in between that (10AM - 3PM) have a almost horizontal line in demand. while other times quite as you get further away frm these active times.\n",
    "\n",
    "> in the Duration Against User Type violin plot, there's just a little diference between both gender in times of duration of time used to complete rides. so Gender did not really affect the length of the trip duration.\n",
    "\n",
    ">In addition, we could see that a user who subscribes to the GoBike service on average takes shorter journeys than one-off customers. However as the subscriber user is more regular then the customer user is more likely to be affected by random trips."
   ]
  },
  {
   "cell_type": "markdown",
   "metadata": {},
   "source": [
    "## Multivariate Exploration"
   ]
  },
  {
   "cell_type": "markdown",
   "metadata": {},
   "source": [
    "#### can we check the usage pattern across age group in both Gender??"
   ]
  },
  {
   "cell_type": "code",
   "execution_count": 371,
   "metadata": {},
   "outputs": [],
   "source": [
    "#Split into groups as this may make it easier\n",
    "age_bins = [0, 19, 29, 39, 49, 59,\n",
    "            69, 79, 89, 99]\n",
    "age_labels = ['10 - 19', '20 - 29', '30 - 39', '40 - 49', '50 - 59',\n",
    "              '60 - 69', '70 - 79', '80 - 89', '90 - 99']\n",
    "\n",
    "clean_df['age_group'] = pd.cut(clean_df['Age'], bins = age_bins, labels = age_labels, right = False)"
   ]
  },
  {
   "cell_type": "code",
   "execution_count": 372,
   "metadata": {},
   "outputs": [],
   "source": [
    "#taking a subset\n",
    "clean_df_Age = clean_df[clean_df['Age']<=60]"
   ]
  },
  {
   "cell_type": "code",
   "execution_count": 373,
   "metadata": {},
   "outputs": [
    {
     "data": {
      "image/png": "[encoded data removed]",
      "text/plain": [
       "<Figure size 864x576 with 1 Axes>"
      ]
     },
     "metadata": {
      "needs_background": "light"
     },
     "output_type": "display_data"
    }
   ],
   "source": [
    "plt.figure(figsize = [12, 8])\n",
    "ax = sb.barplot(x='member_gender', y = 'duration_minutes', hue='age_group', data=clean_df_Age.sort_values(by= 'age_group'))\n",
    "plt.title('Trip Duration Across Gender and Age Group')\n",
    "plt.xlabel('Gender')\n",
    "plt.ylabel('Duration in minutes')\n",
    "leg = ax.legend()"
   ]
  },
  {
   "cell_type": "markdown",
   "metadata": {},
   "source": [
    "> from our previous plot, we was the efect of the 18 year olds in Trip duration, and in the plot above we can see that same occurence, with the female gender slightly more over the 25 minute mark and the male gender just under the 25 minute mark, further more, when could also see that older women tend to take significantly more time in completiing their trip when compaired to their male counterparts "
   ]
  },
  {
   "cell_type": "markdown",
   "metadata": {},
   "source": [
    "##### Can we also see the Age compairison between Users???"
   ]
  },
  {
   "cell_type": "code",
   "execution_count": 374,
   "metadata": {},
   "outputs": [
    {
     "data": {
      "image/png": "[encoded data removed]",
      "text/plain": [
       "<Figure size 576x576 with 1 Axes>"
      ]
     },
     "metadata": {
      "needs_background": "light"
     },
     "output_type": "display_data"
    }
   ],
   "source": [
    "plt.figure(figsize = [8, 8])\n",
    "ax = sb.barplot(x='user_type', y = 'duration_minutes', hue='age_group', data=clean_df_Age.sort_values(by= 'age_group'))\n",
    "plt.title('Trip Duration Across Gender and Age Group')\n",
    "plt.xlabel('user_type')\n",
    "plt.ylabel('Duration (minutes)')\n",
    "leg = ax.legend()"
   ]
  },
  {
   "cell_type": "markdown",
   "metadata": {},
   "source": [
    "> From the plot abve we can observe that its the 18 - 19 yr old Customers that are responsible for the higer drip duration in that age group, while customers tend to use more time completing their rides on the average than the normal Subcriber"
   ]
  },
  {
   "cell_type": "code",
   "execution_count": 375,
   "metadata": {},
   "outputs": [],
   "source": [
    "# clean_df.head(1)"
   ]
  },
  {
   "cell_type": "code",
   "execution_count": 376,
   "metadata": {},
   "outputs": [],
   "source": [
    "# # create a data set for different user type with total distance travelled throughout the month of february\n",
    "# df_distance  = clean_df.groupby(['user_type', 'start_day'])\n",
    "# dis_sum = df_distance.distance.sum()\n",
    "# user_type = df_distance[['user_type']].first()\n",
    "# month = df_distance[['start_day']].first()\n",
    "# df_distance = pd.concat([dis_sum, user_type, month], 1)"
   ]
  },
  {
   "cell_type": "code",
   "execution_count": 377,
   "metadata": {},
   "outputs": [],
   "source": [
    "# df_distance"
   ]
  },
  {
   "cell_type": "code",
   "execution_count": 378,
   "metadata": {},
   "outputs": [],
   "source": [
    "# # create a data set for different user type with total duration in minutes on each weekday\n",
    "# df_duration  = clean_df.groupby(['start_day', 'user_type'])\n",
    "# dur_sum = df_duration.duration_minutes.sum()\n",
    "# user_type = df_duration[['user_type']].first()\n",
    "# day = df_duration[['start_day']].first()\n",
    "# df_duration = pd.concat([dur_sum, user_type, day], 1)\n",
    "# df_duration"
   ]
  },
  {
   "cell_type": "markdown",
   "metadata": {},
   "source": [
    "##### Can we also check the activity / behaviour of the Subcribers versus the customer??"
   ]
  },
  {
   "cell_type": "code",
   "execution_count": 379,
   "metadata": {},
   "outputs": [],
   "source": [
    "day =[\"Monday\", \"Tuesday\", \"Wednesday\", \"Thursday\", \"Friday\", \"Saturday\", \"Sunday\"]\n",
    "def x_y_t(xL,yL,title):\n",
    "    plt.title(title, fontsize=16)\n",
    "    plt.xlabel(xL, fontsize=12)\n",
    "    plt.ylabel(yL, fontsize=12)"
   ]
  },
  {
   "cell_type": "code",
   "execution_count": 380,
   "metadata": {},
   "outputs": [
    {
     "data": {
      "image/png": "[encoded data removed]",
      "text/plain": [
       "<Figure size 864x576 with 1 Axes>"
      ]
     },
     "metadata": {
      "needs_background": "light"
     },
     "output_type": "display_data"
    }
   ],
   "source": [
    "# plot a graph to see how different user types ride each Day of the week\n",
    "plt.figure(figsize=[12, 8])\n",
    "sb.countplot(data = clean_df.query('user_type == \"Subscriber\"'), x = 'start_day', order= day, hue = 'day_time')\n",
    "x_y_t('Days of the week', 'Number of rides', 'Number of rides for a week on a daily bases by subscribers')\n",
    "plt.legend(title = 'Time of the Day');"
   ]
  },
  {
   "cell_type": "code",
   "execution_count": 381,
   "metadata": {},
   "outputs": [
    {
     "data": {
      "image/png": "[encoded data removed]",
      "text/plain": [
       "<Figure size 864x576 with 1 Axes>"
      ]
     },
     "metadata": {
      "needs_background": "light"
     },
     "output_type": "display_data"
    }
   ],
   "source": [
    "# plot a graph to see how different user types ride each day of the week\n",
    "plt.figure(figsize=[12, 8])\n",
    "sb.countplot(data = clean_df.query('user_type == \"Customer\"'), x = 'start_day', order= day, hue = 'day_time')\n",
    "x_y_t('Days of the week', 'Number of rides', 'Number of rides every month on a day of week by Customers')\n",
    "plt.legend(title = 'Time of the Day');"
   ]
  },
  {
   "cell_type": "markdown",
   "metadata": {},
   "source": [
    "> While Tuesday, Thursday, Friday mornings are the most active times for subcribers, customers are more active Friday mornings, saturday and sunday Afternoons, whereas weekday and weekend afternoons are fairly constant between Subcribers "
   ]
  },
  {
   "cell_type": "code",
   "execution_count": 382,
   "metadata": {},
   "outputs": [],
   "source": [
    "clean_df.to_csv('for_exlporation_analysis.csv', index=False)"
   ]
  },
  {
   "cell_type": "markdown",
   "metadata": {},
   "source": [
    "#### Some of the relationships observed in the Multivariate Exploration:\n",
    "\n",
    "> when we group Gender by Ages, Across both male and female within member_gender, users between the age of 10 and 19 took trips that lasted longer than the other ages groups. dues to youthful vigour, exuberance, fitness level etc. also this same age group (10 to 19 year old) who were one off customers took the longest trips. This could be due to the individual using it for recreational purposes or going to school as examples\n",
    "\n",
    "> The further analysis strengthened the initial observation of short duration rides and shorter distances. Also subscribers using the bike more than customers. The weekdays account for most of the rides. \n",
    "\n",
    "> The customer has the highest duration and the male customer has the highest proportion and the customer has the highest duration and the other gender is riding more in the basis of start day of week\n",
    "\n",
    "> Something interesting is The spike in demand for bikes by Customers during saturday and Sunday Afternoon alongside friday mornings and its high drop in subcribers during same time in weekends . Also it looks like Tuesdays, thursdays and Fridays mornings have the highest demands in general.\n",
    "\n",
    "> Also older age groups (50 - 69) took  more time to complete their rides across genders. You could assume that those in retirement have more time to spare to take longer trips."
   ]
  },
  {
   "cell_type": "markdown",
   "metadata": {},
   "source": [
    "### Conclusions:\n",
    "After the analysis we can make following observations:  \n",
    "\n",
    "- Most of the users are subscribers.\n",
    "\n",
    "- Ridership is almost constant on weekdays (Mon-Fri) then decreses on weekends.\n",
    "\n",
    "- Highest bike demands on 8:00 and 17:00 on weekdays, suggests that users might office commuters.\n",
    "\n",
    "- Customer uses the bike for more duration on average than Subscribers.\n",
    "\n",
    "- The no. of rides by customer increases as the no. of rides by subscribers decreases. At 14:00 the subscribers ridership is min (local) while the customer ridership is at maximum.\n",
    "\n",
    "- On weekdays ridership increased at 8:00, and 17:00 while on weekends the ridership increases between 11:00 to 15:00\n",
    "\n",
    "- Also distance and the duration have a very small correlation, customers ride longer than the subscribers. Saturday and sundays are the days with longer ride duration and the female customers average ride duration is the highest."
   ]
  },
  {
   "cell_type": "markdown",
   "metadata": {},
   "source": [
    "\n",
    "\n"
   ]
  }
 ],
 "metadata": {
  "kernelspec": {
   "display_name": "Python 3 (ipykernel)",
   "language": "python",
   "name": "python3"
  },
  "language_info": {
   "codemirror_mode": {
    "name": "ipython",
    "version": 3
   },
   "file_extension": ".py",
   "mimetype": "text/x-python",
   "name": "python",
   "nbconvert_exporter": "python",
   "pygments_lexer": "ipython3",
   "version": "3.9.12"
  }
 },
 "nbformat": 4,
 "nbformat_minor": 2
}
