{
 "cells": [
  {
   "cell_type": "markdown",
   "metadata": {},
   "source": [
    "# Part I : Ford GoBike System Data Explorartion\n",
    "## by Olumide Johnson Amune\n",
    "\n",
    "## Introduction\n",
    "\n",
    ">This data set is an information on customer and Subscribers rides made in Ford Gobike-sharing system covering the greater San Francisco Bay area updated to february 2019.\n",
    "\n",
    ">No dataset ever comes completely clean and this isn't an exception and would require a bit of data wrangling in order to make it tidy for the analysis we intend to carry out on it.\n",
    "\n",
    "> Finally this dataset is hosted on the Udacity Site(https://video.udacity-data.com/topher/2020/October/5f91cf38_201902-fordgobike-tripdata/201902-fordgobike-tripdata.csv). and this is a lirect link to the download\n",
    "\n",
    "\n",
    "#### *We intend to perform the follwing in  this data set\n",
    "\n",
    "- [Preliminary Wrangling](#wrangle)\n",
    "- [Univariate Explorations](#univariate)\n",
    "- [Bivariate Explorations](#bivariate)\n",
    "- [Multivariate Explorations](#multivariate)\n",
    "- [Conclusion](#conclusion)\n",
    "- [References](#references)\n",
    "\n",
    "\n",
    "\n",
    "## Preliminary Wrangling\n"
   ]
  },
  {
   "cell_type": "code",
   "execution_count": 130,
   "metadata": {},
   "outputs": [],
   "source": [
    "# First we import all packages and set plots to be embedded inline:\n",
    "import numpy as np\n",
    "import pandas as pd\n",
    "import matplotlib.pyplot as plt\n",
    "import seaborn as sb\n",
    "\n",
    "%matplotlib inline\n",
    "import warnings\n",
    "warnings.filterwarnings('ignore')"
   ]
  },
  {
   "cell_type": "markdown",
   "metadata": {},
   "source": [
    "\n"
   ]
  },
  {
   "cell_type": "code",
   "execution_count": 131,
   "metadata": {},
   "outputs": [],
   "source": [
    "# now we want to load in the dataset using pandas dataframe.\n",
    "bike_df = pd.read_csv(\"201902-fordgobike-tripdata.csv\")"
   ]
  },
  {
   "cell_type": "code",
   "execution_count": 132,
   "metadata": {},
   "outputs": [
    {
     "data": {
      "text/plain": [
       "(183412, 16)"
      ]
     },
     "execution_count": 132,
     "metadata": {},
     "output_type": "execute_result"
    }
   ],
   "source": [
    "# Dataframe shape\n",
    "bike_df.shape"
   ]
  },
  {
   "cell_type": "code",
   "execution_count": 133,
   "metadata": {},
   "outputs": [
    {
     "data": {
      "text/plain": [
       "duration_sec                 int64\n",
       "start_time                  object\n",
       "end_time                    object\n",
       "start_station_id           float64\n",
       "start_station_name          object\n",
       "start_station_latitude     float64\n",
       "start_station_longitude    float64\n",
       "end_station_id             float64\n",
       "end_station_name            object\n",
       "end_station_latitude       float64\n",
       "end_station_longitude      float64\n",
       "bike_id                      int64\n",
       "user_type                   object\n",
       "member_birth_year          float64\n",
       "member_gender               object\n",
       "bike_share_for_all_trip     object\n",
       "dtype: object"
      ]
     },
     "execution_count": 133,
     "metadata": {},
     "output_type": "execute_result"
    }
   ],
   "source": [
    "# Data type\n",
    "bike_df.dtypes"
   ]
  },
  {
   "cell_type": "code",
   "execution_count": 134,
   "metadata": {},
   "outputs": [
    {
     "data": {
      "text/html": [
       "<div>\n",
       "<style scoped>\n",
       "    .dataframe tbody tr th:only-of-type {\n",
       "        vertical-align: middle;\n",
       "    }\n",
       "\n",
       "    .dataframe tbody tr th {\n",
       "        vertical-align: top;\n",
       "    }\n",
       "\n",
       "    .dataframe thead th {\n",
       "        text-align: right;\n",
       "    }\n",
       "</style>\n",
       "<table border=\"1\" class=\"dataframe\">\n",
       "  <thead>\n",
       "    <tr style=\"text-align: right;\">\n",
       "      <th></th>\n",
       "      <th>duration_sec</th>\n",
       "      <th>start_time</th>\n",
       "      <th>end_time</th>\n",
       "      <th>start_station_id</th>\n",
       "      <th>start_station_name</th>\n",
       "      <th>start_station_latitude</th>\n",
       "      <th>start_station_longitude</th>\n",
       "      <th>end_station_id</th>\n",
       "      <th>end_station_name</th>\n",
       "      <th>end_station_latitude</th>\n",
       "      <th>end_station_longitude</th>\n",
       "      <th>bike_id</th>\n",
       "      <th>user_type</th>\n",
       "      <th>member_birth_year</th>\n",
       "      <th>member_gender</th>\n",
       "      <th>bike_share_for_all_trip</th>\n",
       "    </tr>\n",
       "  </thead>\n",
       "  <tbody>\n",
       "    <tr>\n",
       "      <th>0</th>\n",
       "      <td>52185</td>\n",
       "      <td>2019-02-28 17:32:10.1450</td>\n",
       "      <td>2019-03-01 08:01:55.9750</td>\n",
       "      <td>21.0</td>\n",
       "      <td>Montgomery St BART Station (Market St at 2nd St)</td>\n",
       "      <td>37.789625</td>\n",
       "      <td>-122.400811</td>\n",
       "      <td>13.0</td>\n",
       "      <td>Commercial St at Montgomery St</td>\n",
       "      <td>37.794231</td>\n",
       "      <td>-122.402923</td>\n",
       "      <td>4902</td>\n",
       "      <td>Customer</td>\n",
       "      <td>1984.0</td>\n",
       "      <td>Male</td>\n",
       "      <td>No</td>\n",
       "    </tr>\n",
       "    <tr>\n",
       "      <th>1</th>\n",
       "      <td>42521</td>\n",
       "      <td>2019-02-28 18:53:21.7890</td>\n",
       "      <td>2019-03-01 06:42:03.0560</td>\n",
       "      <td>23.0</td>\n",
       "      <td>The Embarcadero at Steuart St</td>\n",
       "      <td>37.791464</td>\n",
       "      <td>-122.391034</td>\n",
       "      <td>81.0</td>\n",
       "      <td>Berry St at 4th St</td>\n",
       "      <td>37.775880</td>\n",
       "      <td>-122.393170</td>\n",
       "      <td>2535</td>\n",
       "      <td>Customer</td>\n",
       "      <td>NaN</td>\n",
       "      <td>NaN</td>\n",
       "      <td>No</td>\n",
       "    </tr>\n",
       "    <tr>\n",
       "      <th>2</th>\n",
       "      <td>61854</td>\n",
       "      <td>2019-02-28 12:13:13.2180</td>\n",
       "      <td>2019-03-01 05:24:08.1460</td>\n",
       "      <td>86.0</td>\n",
       "      <td>Market St at Dolores St</td>\n",
       "      <td>37.769305</td>\n",
       "      <td>-122.426826</td>\n",
       "      <td>3.0</td>\n",
       "      <td>Powell St BART Station (Market St at 4th St)</td>\n",
       "      <td>37.786375</td>\n",
       "      <td>-122.404904</td>\n",
       "      <td>5905</td>\n",
       "      <td>Customer</td>\n",
       "      <td>1972.0</td>\n",
       "      <td>Male</td>\n",
       "      <td>No</td>\n",
       "    </tr>\n",
       "    <tr>\n",
       "      <th>3</th>\n",
       "      <td>36490</td>\n",
       "      <td>2019-02-28 17:54:26.0100</td>\n",
       "      <td>2019-03-01 04:02:36.8420</td>\n",
       "      <td>375.0</td>\n",
       "      <td>Grove St at Masonic Ave</td>\n",
       "      <td>37.774836</td>\n",
       "      <td>-122.446546</td>\n",
       "      <td>70.0</td>\n",
       "      <td>Central Ave at Fell St</td>\n",
       "      <td>37.773311</td>\n",
       "      <td>-122.444293</td>\n",
       "      <td>6638</td>\n",
       "      <td>Subscriber</td>\n",
       "      <td>1989.0</td>\n",
       "      <td>Other</td>\n",
       "      <td>No</td>\n",
       "    </tr>\n",
       "    <tr>\n",
       "      <th>4</th>\n",
       "      <td>1585</td>\n",
       "      <td>2019-02-28 23:54:18.5490</td>\n",
       "      <td>2019-03-01 00:20:44.0740</td>\n",
       "      <td>7.0</td>\n",
       "      <td>Frank H Ogawa Plaza</td>\n",
       "      <td>37.804562</td>\n",
       "      <td>-122.271738</td>\n",
       "      <td>222.0</td>\n",
       "      <td>10th Ave at E 15th St</td>\n",
       "      <td>37.792714</td>\n",
       "      <td>-122.248780</td>\n",
       "      <td>4898</td>\n",
       "      <td>Subscriber</td>\n",
       "      <td>1974.0</td>\n",
       "      <td>Male</td>\n",
       "      <td>Yes</td>\n",
       "    </tr>\n",
       "  </tbody>\n",
       "</table>\n",
       "</div>"
      ],
      "text/plain": [
       "   duration_sec                start_time                  end_time  \\\n",
       "0         52185  2019-02-28 17:32:10.1450  2019-03-01 08:01:55.9750   \n",
       "1         42521  2019-02-28 18:53:21.7890  2019-03-01 06:42:03.0560   \n",
       "2         61854  2019-02-28 12:13:13.2180  2019-03-01 05:24:08.1460   \n",
       "3         36490  2019-02-28 17:54:26.0100  2019-03-01 04:02:36.8420   \n",
       "4          1585  2019-02-28 23:54:18.5490  2019-03-01 00:20:44.0740   \n",
       "\n",
       "   start_station_id                                start_station_name  \\\n",
       "0              21.0  Montgomery St BART Station (Market St at 2nd St)   \n",
       "1              23.0                     The Embarcadero at Steuart St   \n",
       "2              86.0                           Market St at Dolores St   \n",
       "3             375.0                           Grove St at Masonic Ave   \n",
       "4               7.0                               Frank H Ogawa Plaza   \n",
       "\n",
       "   start_station_latitude  start_station_longitude  end_station_id  \\\n",
       "0               37.789625              -122.400811            13.0   \n",
       "1               37.791464              -122.391034            81.0   \n",
       "2               37.769305              -122.426826             3.0   \n",
       "3               37.774836              -122.446546            70.0   \n",
       "4               37.804562              -122.271738           222.0   \n",
       "\n",
       "                               end_station_name  end_station_latitude  \\\n",
       "0                Commercial St at Montgomery St             37.794231   \n",
       "1                            Berry St at 4th St             37.775880   \n",
       "2  Powell St BART Station (Market St at 4th St)             37.786375   \n",
       "3                        Central Ave at Fell St             37.773311   \n",
       "4                         10th Ave at E 15th St             37.792714   \n",
       "\n",
       "   end_station_longitude  bike_id   user_type  member_birth_year  \\\n",
       "0            -122.402923     4902    Customer             1984.0   \n",
       "1            -122.393170     2535    Customer                NaN   \n",
       "2            -122.404904     5905    Customer             1972.0   \n",
       "3            -122.444293     6638  Subscriber             1989.0   \n",
       "4            -122.248780     4898  Subscriber             1974.0   \n",
       "\n",
       "  member_gender bike_share_for_all_trip  \n",
       "0          Male                      No  \n",
       "1           NaN                      No  \n",
       "2          Male                      No  \n",
       "3         Other                      No  \n",
       "4          Male                     Yes  "
      ]
     },
     "execution_count": 134,
     "metadata": {},
     "output_type": "execute_result"
    }
   ],
   "source": [
    "# top 10 row in the dataframe\n",
    "bike_df.head()\n",
    "# bike_df.tail()"
   ]
  },
  {
   "cell_type": "code",
   "execution_count": 135,
   "metadata": {},
   "outputs": [
    {
     "data": {
      "text/html": [
       "<div>\n",
       "<style scoped>\n",
       "    .dataframe tbody tr th:only-of-type {\n",
       "        vertical-align: middle;\n",
       "    }\n",
       "\n",
       "    .dataframe tbody tr th {\n",
       "        vertical-align: top;\n",
       "    }\n",
       "\n",
       "    .dataframe thead th {\n",
       "        text-align: right;\n",
       "    }\n",
       "</style>\n",
       "<table border=\"1\" class=\"dataframe\">\n",
       "  <thead>\n",
       "    <tr style=\"text-align: right;\">\n",
       "      <th></th>\n",
       "      <th>duration_sec</th>\n",
       "      <th>start_station_id</th>\n",
       "      <th>start_station_latitude</th>\n",
       "      <th>start_station_longitude</th>\n",
       "      <th>end_station_id</th>\n",
       "      <th>end_station_latitude</th>\n",
       "      <th>end_station_longitude</th>\n",
       "      <th>bike_id</th>\n",
       "      <th>member_birth_year</th>\n",
       "    </tr>\n",
       "  </thead>\n",
       "  <tbody>\n",
       "    <tr>\n",
       "      <th>count</th>\n",
       "      <td>183412.000000</td>\n",
       "      <td>183215.000000</td>\n",
       "      <td>183412.000000</td>\n",
       "      <td>183412.000000</td>\n",
       "      <td>183215.000000</td>\n",
       "      <td>183412.000000</td>\n",
       "      <td>183412.000000</td>\n",
       "      <td>183412.000000</td>\n",
       "      <td>175147.000000</td>\n",
       "    </tr>\n",
       "    <tr>\n",
       "      <th>mean</th>\n",
       "      <td>726.078435</td>\n",
       "      <td>138.590427</td>\n",
       "      <td>37.771223</td>\n",
       "      <td>-122.352664</td>\n",
       "      <td>136.249123</td>\n",
       "      <td>37.771427</td>\n",
       "      <td>-122.352250</td>\n",
       "      <td>4472.906375</td>\n",
       "      <td>1984.806437</td>\n",
       "    </tr>\n",
       "    <tr>\n",
       "      <th>std</th>\n",
       "      <td>1794.389780</td>\n",
       "      <td>111.778864</td>\n",
       "      <td>0.099581</td>\n",
       "      <td>0.117097</td>\n",
       "      <td>111.515131</td>\n",
       "      <td>0.099490</td>\n",
       "      <td>0.116673</td>\n",
       "      <td>1664.383394</td>\n",
       "      <td>10.116689</td>\n",
       "    </tr>\n",
       "    <tr>\n",
       "      <th>min</th>\n",
       "      <td>61.000000</td>\n",
       "      <td>3.000000</td>\n",
       "      <td>37.317298</td>\n",
       "      <td>-122.453704</td>\n",
       "      <td>3.000000</td>\n",
       "      <td>37.317298</td>\n",
       "      <td>-122.453704</td>\n",
       "      <td>11.000000</td>\n",
       "      <td>1878.000000</td>\n",
       "    </tr>\n",
       "    <tr>\n",
       "      <th>25%</th>\n",
       "      <td>325.000000</td>\n",
       "      <td>47.000000</td>\n",
       "      <td>37.770083</td>\n",
       "      <td>-122.412408</td>\n",
       "      <td>44.000000</td>\n",
       "      <td>37.770407</td>\n",
       "      <td>-122.411726</td>\n",
       "      <td>3777.000000</td>\n",
       "      <td>1980.000000</td>\n",
       "    </tr>\n",
       "    <tr>\n",
       "      <th>50%</th>\n",
       "      <td>514.000000</td>\n",
       "      <td>104.000000</td>\n",
       "      <td>37.780760</td>\n",
       "      <td>-122.398285</td>\n",
       "      <td>100.000000</td>\n",
       "      <td>37.781010</td>\n",
       "      <td>-122.398279</td>\n",
       "      <td>4958.000000</td>\n",
       "      <td>1987.000000</td>\n",
       "    </tr>\n",
       "    <tr>\n",
       "      <th>75%</th>\n",
       "      <td>796.000000</td>\n",
       "      <td>239.000000</td>\n",
       "      <td>37.797280</td>\n",
       "      <td>-122.286533</td>\n",
       "      <td>235.000000</td>\n",
       "      <td>37.797320</td>\n",
       "      <td>-122.288045</td>\n",
       "      <td>5502.000000</td>\n",
       "      <td>1992.000000</td>\n",
       "    </tr>\n",
       "    <tr>\n",
       "      <th>max</th>\n",
       "      <td>85444.000000</td>\n",
       "      <td>398.000000</td>\n",
       "      <td>37.880222</td>\n",
       "      <td>-121.874119</td>\n",
       "      <td>398.000000</td>\n",
       "      <td>37.880222</td>\n",
       "      <td>-121.874119</td>\n",
       "      <td>6645.000000</td>\n",
       "      <td>2001.000000</td>\n",
       "    </tr>\n",
       "  </tbody>\n",
       "</table>\n",
       "</div>"
      ],
      "text/plain": [
       "        duration_sec  start_station_id  start_station_latitude  \\\n",
       "count  183412.000000     183215.000000           183412.000000   \n",
       "mean      726.078435        138.590427               37.771223   \n",
       "std      1794.389780        111.778864                0.099581   \n",
       "min        61.000000          3.000000               37.317298   \n",
       "25%       325.000000         47.000000               37.770083   \n",
       "50%       514.000000        104.000000               37.780760   \n",
       "75%       796.000000        239.000000               37.797280   \n",
       "max     85444.000000        398.000000               37.880222   \n",
       "\n",
       "       start_station_longitude  end_station_id  end_station_latitude  \\\n",
       "count            183412.000000   183215.000000         183412.000000   \n",
       "mean               -122.352664      136.249123             37.771427   \n",
       "std                   0.117097      111.515131              0.099490   \n",
       "min                -122.453704        3.000000             37.317298   \n",
       "25%                -122.412408       44.000000             37.770407   \n",
       "50%                -122.398285      100.000000             37.781010   \n",
       "75%                -122.286533      235.000000             37.797320   \n",
       "max                -121.874119      398.000000             37.880222   \n",
       "\n",
       "       end_station_longitude        bike_id  member_birth_year  \n",
       "count          183412.000000  183412.000000      175147.000000  \n",
       "mean             -122.352250    4472.906375        1984.806437  \n",
       "std                 0.116673    1664.383394          10.116689  \n",
       "min              -122.453704      11.000000        1878.000000  \n",
       "25%              -122.411726    3777.000000        1980.000000  \n",
       "50%              -122.398279    4958.000000        1987.000000  \n",
       "75%              -122.288045    5502.000000        1992.000000  \n",
       "max              -121.874119    6645.000000        2001.000000  "
      ]
     },
     "execution_count": 135,
     "metadata": {},
     "output_type": "execute_result"
    }
   ],
   "source": [
    "bike_df.describe()"
   ]
  },
  {
   "cell_type": "code",
   "execution_count": 136,
   "metadata": {},
   "outputs": [
    {
     "data": {
      "text/plain": [
       "duration_sec                  0\n",
       "start_time                    0\n",
       "end_time                      0\n",
       "start_station_id            197\n",
       "start_station_name          197\n",
       "start_station_latitude        0\n",
       "start_station_longitude       0\n",
       "end_station_id              197\n",
       "end_station_name            197\n",
       "end_station_latitude          0\n",
       "end_station_longitude         0\n",
       "bike_id                       0\n",
       "user_type                     0\n",
       "member_birth_year          8265\n",
       "member_gender              8265\n",
       "bike_share_for_all_trip       0\n",
       "dtype: int64"
      ]
     },
     "execution_count": 136,
     "metadata": {},
     "output_type": "execute_result"
    }
   ],
   "source": [
    "# checking for null values\n",
    "bike_df.isnull().sum()"
   ]
  },
  {
   "cell_type": "code",
   "execution_count": 137,
   "metadata": {},
   "outputs": [
    {
     "data": {
      "text/plain": [
       "0"
      ]
     },
     "execution_count": 137,
     "metadata": {},
     "output_type": "execute_result"
    }
   ],
   "source": [
    "# check for duplicated values\n",
    "bike_df.duplicated().sum()"
   ]
  },
  {
   "cell_type": "code",
   "execution_count": 138,
   "metadata": {},
   "outputs": [
    {
     "name": "stdout",
     "output_type": "stream",
     "text": [
      "<class 'pandas.core.frame.DataFrame'>\n",
      "RangeIndex: 183412 entries, 0 to 183411\n",
      "Data columns (total 16 columns):\n",
      " #   Column                   Non-Null Count   Dtype  \n",
      "---  ------                   --------------   -----  \n",
      " 0   duration_sec             183412 non-null  int64  \n",
      " 1   start_time               183412 non-null  object \n",
      " 2   end_time                 183412 non-null  object \n",
      " 3   start_station_id         183215 non-null  float64\n",
      " 4   start_station_name       183215 non-null  object \n",
      " 5   start_station_latitude   183412 non-null  float64\n",
      " 6   start_station_longitude  183412 non-null  float64\n",
      " 7   end_station_id           183215 non-null  float64\n",
      " 8   end_station_name         183215 non-null  object \n",
      " 9   end_station_latitude     183412 non-null  float64\n",
      " 10  end_station_longitude    183412 non-null  float64\n",
      " 11  bike_id                  183412 non-null  int64  \n",
      " 12  user_type                183412 non-null  object \n",
      " 13  member_birth_year        175147 non-null  float64\n",
      " 14  member_gender            175147 non-null  object \n",
      " 15  bike_share_for_all_trip  183412 non-null  object \n",
      "dtypes: float64(7), int64(2), object(7)\n",
      "memory usage: 22.4+ MB\n"
     ]
    }
   ],
   "source": [
    "#Information about data\n",
    "bike_df.info()"
   ]
  },
  {
   "cell_type": "markdown",
   "metadata": {},
   "source": [
    " #### dataset structure:\n",
    " This dataset contains records of 183,411 trips, recorded between February and early March, details of its 16 columns contains info of the day, time of the day, what type of a user took the ride, when, where did they start and end the trip etc.\n"
   ]
  },
  {
   "cell_type": "markdown",
   "metadata": {},
   "source": [
    "#### Insight into Data Set\n",
    "There are 16 variables (columns) and 183,411 rows in this dataset.\n",
    "the following was observed:\n",
    "* `start_time` and `end_time` are the wrong data type - this should be datetime rather than object\n",
    "* `start_station_id` and `end_station_id` should not be floats - these can be amended to integers, however these represent locations (meaning that no numerical operations will be applied to these) they can be converted to objects.\n",
    "* `member_birth_year` should be a integer\n",
    "* `member_gender`, `bike_share_for_all_trip` and `user_type` should be category\n",
    "* Null values occurnece in the following columns:\n",
    "    - `start_station_id` and `start_station_name`\n",
    "    - `end_station_id` and `end_station_name`\n",
    "    - `member_birth_year` and `member_gender`\n",
    "* Drop the Following columns which aren't relevant to our analysis:\n",
    "    - `start_station_latitude` and `start_station_longitude`\n",
    "    - `end_station_latitude` and `end_station_longitude`"
   ]
  },
  {
   "cell_type": "markdown",
   "metadata": {},
   "source": [
    "#### Lets Start Cleaning!!"
   ]
  },
  {
   "cell_type": "markdown",
   "metadata": {},
   "source": [
    "#### Drop null values, change data types and drop unnecessary columns\n",
    "code:"
   ]
  },
  {
   "cell_type": "code",
   "execution_count": 139,
   "metadata": {},
   "outputs": [],
   "source": [
    "# First lets drop null values\n",
    "clean_df = bike_df.dropna()"
   ]
  },
  {
   "cell_type": "code",
   "execution_count": 140,
   "metadata": {},
   "outputs": [],
   "source": [
    "# Change member birth year type from float to int\n",
    "clean_df.member_birth_year = clean_df.member_birth_year.astype(int)"
   ]
  },
  {
   "cell_type": "code",
   "execution_count": 141,
   "metadata": {},
   "outputs": [],
   "source": [
    "# some columns are unnecessary for this analys so it will drop them\n",
    "clean_df.drop(columns=['start_station_id', 'start_station_name',\n",
    "                      'end_station_id', 'end_station_name', 'bike_id'], inplace=True)"
   ]
  },
  {
   "cell_type": "code",
   "execution_count": 142,
   "metadata": {},
   "outputs": [],
   "source": [
    "# lets Change the start_time, end_time to datetime data type\n",
    "clean_df['start_time'] = pd.to_datetime(clean_df['start_time'])\n",
    "clean_df['end_time'] = pd.to_datetime(clean_df['end_time'])"
   ]
  },
  {
   "cell_type": "code",
   "execution_count": 143,
   "metadata": {},
   "outputs": [
    {
     "data": {
      "text/plain": [
       "duration_sec                        int64\n",
       "start_time                 datetime64[ns]\n",
       "end_time                   datetime64[ns]\n",
       "start_station_latitude            float64\n",
       "start_station_longitude           float64\n",
       "end_station_latitude              float64\n",
       "end_station_longitude             float64\n",
       "user_type                          object\n",
       "member_birth_year                   int32\n",
       "member_gender                      object\n",
       "bike_share_for_all_trip            object\n",
       "dtype: object"
      ]
     },
     "execution_count": 143,
     "metadata": {},
     "output_type": "execute_result"
    }
   ],
   "source": [
    "# lets see if it worked!\n",
    "clean_df.dtypes"
   ]
  },
  {
   "cell_type": "markdown",
   "metadata": {},
   "source": [
    " #### Convert Longitude and Latitude to Distance"
   ]
  },
  {
   "cell_type": "code",
   "execution_count": 144,
   "metadata": {},
   "outputs": [],
   "source": [
    "# now lets Calculate Distance from the given latitude & longitude data\n",
    "# then we make a new column called 'distance'\n",
    "#source :(https://www.movable-type.co.uk/scripts/latlong.html)\n",
    "\n",
    "dLat = np.deg2rad(clean_df['end_station_latitude'] - clean_df['start_station_latitude'])\n",
    "dLon = np.deg2rad(clean_df['end_station_longitude'] - clean_df['start_station_longitude'])\n",
    "\n",
    "lat2 = np.deg2rad(clean_df['end_station_latitude'])\n",
    "lat1 = np.deg2rad(clean_df['start_station_latitude'])\n",
    "\n",
    "a = np.square(np.sin(dLat/2)) + np.cos(lat1)*np.cos(lat2)*np.square(np.sin(dLon/2))\n",
    "\n",
    "clean_df['distance'] = 6371e3*2*np.arctan2(np.sqrt(a), np.sqrt(1-a))"
   ]
  },
  {
   "cell_type": "code",
   "execution_count": 145,
   "metadata": {},
   "outputs": [
    {
     "data": {
      "text/html": [
       "<div>\n",
       "<style scoped>\n",
       "    .dataframe tbody tr th:only-of-type {\n",
       "        vertical-align: middle;\n",
       "    }\n",
       "\n",
       "    .dataframe tbody tr th {\n",
       "        vertical-align: top;\n",
       "    }\n",
       "\n",
       "    .dataframe thead th {\n",
       "        text-align: right;\n",
       "    }\n",
       "</style>\n",
       "<table border=\"1\" class=\"dataframe\">\n",
       "  <thead>\n",
       "    <tr style=\"text-align: right;\">\n",
       "      <th></th>\n",
       "      <th>duration_sec</th>\n",
       "      <th>start_time</th>\n",
       "      <th>end_time</th>\n",
       "      <th>start_station_latitude</th>\n",
       "      <th>start_station_longitude</th>\n",
       "      <th>end_station_latitude</th>\n",
       "      <th>end_station_longitude</th>\n",
       "      <th>user_type</th>\n",
       "      <th>member_birth_year</th>\n",
       "      <th>member_gender</th>\n",
       "      <th>bike_share_for_all_trip</th>\n",
       "      <th>distance</th>\n",
       "    </tr>\n",
       "  </thead>\n",
       "  <tbody>\n",
       "    <tr>\n",
       "      <th>0</th>\n",
       "      <td>52185</td>\n",
       "      <td>2019-02-28 17:32:10.145</td>\n",
       "      <td>2019-03-01 08:01:55.975</td>\n",
       "      <td>37.789625</td>\n",
       "      <td>-122.400811</td>\n",
       "      <td>37.794231</td>\n",
       "      <td>-122.402923</td>\n",
       "      <td>Customer</td>\n",
       "      <td>1984</td>\n",
       "      <td>Male</td>\n",
       "      <td>No</td>\n",
       "      <td>544.708503</td>\n",
       "    </tr>\n",
       "    <tr>\n",
       "      <th>2</th>\n",
       "      <td>61854</td>\n",
       "      <td>2019-02-28 12:13:13.218</td>\n",
       "      <td>2019-03-01 05:24:08.146</td>\n",
       "      <td>37.769305</td>\n",
       "      <td>-122.426826</td>\n",
       "      <td>37.786375</td>\n",
       "      <td>-122.404904</td>\n",
       "      <td>Customer</td>\n",
       "      <td>1972</td>\n",
       "      <td>Male</td>\n",
       "      <td>No</td>\n",
       "      <td>2704.545131</td>\n",
       "    </tr>\n",
       "    <tr>\n",
       "      <th>3</th>\n",
       "      <td>36490</td>\n",
       "      <td>2019-02-28 17:54:26.010</td>\n",
       "      <td>2019-03-01 04:02:36.842</td>\n",
       "      <td>37.774836</td>\n",
       "      <td>-122.446546</td>\n",
       "      <td>37.773311</td>\n",
       "      <td>-122.444293</td>\n",
       "      <td>Subscriber</td>\n",
       "      <td>1989</td>\n",
       "      <td>Other</td>\n",
       "      <td>No</td>\n",
       "      <td>260.738544</td>\n",
       "    </tr>\n",
       "    <tr>\n",
       "      <th>4</th>\n",
       "      <td>1585</td>\n",
       "      <td>2019-02-28 23:54:18.549</td>\n",
       "      <td>2019-03-01 00:20:44.074</td>\n",
       "      <td>37.804562</td>\n",
       "      <td>-122.271738</td>\n",
       "      <td>37.792714</td>\n",
       "      <td>-122.248780</td>\n",
       "      <td>Subscriber</td>\n",
       "      <td>1974</td>\n",
       "      <td>Male</td>\n",
       "      <td>Yes</td>\n",
       "      <td>2409.301416</td>\n",
       "    </tr>\n",
       "    <tr>\n",
       "      <th>5</th>\n",
       "      <td>1793</td>\n",
       "      <td>2019-02-28 23:49:58.632</td>\n",
       "      <td>2019-03-01 00:19:51.760</td>\n",
       "      <td>37.770407</td>\n",
       "      <td>-122.391198</td>\n",
       "      <td>37.798014</td>\n",
       "      <td>-122.405950</td>\n",
       "      <td>Subscriber</td>\n",
       "      <td>1959</td>\n",
       "      <td>Male</td>\n",
       "      <td>No</td>\n",
       "      <td>3332.202628</td>\n",
       "    </tr>\n",
       "  </tbody>\n",
       "</table>\n",
       "</div>"
      ],
      "text/plain": [
       "   duration_sec              start_time                end_time  \\\n",
       "0         52185 2019-02-28 17:32:10.145 2019-03-01 08:01:55.975   \n",
       "2         61854 2019-02-28 12:13:13.218 2019-03-01 05:24:08.146   \n",
       "3         36490 2019-02-28 17:54:26.010 2019-03-01 04:02:36.842   \n",
       "4          1585 2019-02-28 23:54:18.549 2019-03-01 00:20:44.074   \n",
       "5          1793 2019-02-28 23:49:58.632 2019-03-01 00:19:51.760   \n",
       "\n",
       "   start_station_latitude  start_station_longitude  end_station_latitude  \\\n",
       "0               37.789625              -122.400811             37.794231   \n",
       "2               37.769305              -122.426826             37.786375   \n",
       "3               37.774836              -122.446546             37.773311   \n",
       "4               37.804562              -122.271738             37.792714   \n",
       "5               37.770407              -122.391198             37.798014   \n",
       "\n",
       "   end_station_longitude   user_type  member_birth_year member_gender  \\\n",
       "0            -122.402923    Customer               1984          Male   \n",
       "2            -122.404904    Customer               1972          Male   \n",
       "3            -122.444293  Subscriber               1989         Other   \n",
       "4            -122.248780  Subscriber               1974          Male   \n",
       "5            -122.405950  Subscriber               1959          Male   \n",
       "\n",
       "  bike_share_for_all_trip     distance  \n",
       "0                      No   544.708503  \n",
       "2                      No  2704.545131  \n",
       "3                      No   260.738544  \n",
       "4                     Yes  2409.301416  \n",
       "5                      No  3332.202628  "
      ]
     },
     "execution_count": 145,
     "metadata": {},
     "output_type": "execute_result"
    }
   ],
   "source": [
    "clean_df.head()"
   ]
  },
  {
   "cell_type": "code",
   "execution_count": 146,
   "metadata": {},
   "outputs": [],
   "source": [
    "# next up... we want to get rid of dem no longer relevant columns\n",
    "clean_df.drop(['start_station_latitude', 'start_station_longitude', 'end_station_latitude',\n",
    "              'end_station_longitude'], axis=1, inplace=True)"
   ]
  },
  {
   "cell_type": "code",
   "execution_count": 147,
   "metadata": {
    "scrolled": true
   },
   "outputs": [
    {
     "name": "stdout",
     "output_type": "stream",
     "text": [
      "<class 'pandas.core.frame.DataFrame'>\n",
      "Int64Index: 174952 entries, 0 to 183411\n",
      "Data columns (total 8 columns):\n",
      " #   Column                   Non-Null Count   Dtype         \n",
      "---  ------                   --------------   -----         \n",
      " 0   duration_sec             174952 non-null  int64         \n",
      " 1   start_time               174952 non-null  datetime64[ns]\n",
      " 2   end_time                 174952 non-null  datetime64[ns]\n",
      " 3   user_type                174952 non-null  object        \n",
      " 4   member_birth_year        174952 non-null  int32         \n",
      " 5   member_gender            174952 non-null  object        \n",
      " 6   bike_share_for_all_trip  174952 non-null  object        \n",
      " 7   distance                 174952 non-null  float64       \n",
      "dtypes: datetime64[ns](2), float64(1), int32(1), int64(1), object(3)\n",
      "memory usage: 11.3+ MB\n"
     ]
    }
   ],
   "source": [
    "# lets see if it worked!\n",
    "clean_df.info()"
   ]
  },
  {
   "cell_type": "markdown",
   "metadata": {},
   "source": [
    "> Lets convert Time in seconds to minutes && Birth Year to Actual Age"
   ]
  },
  {
   "cell_type": "code",
   "execution_count": 148,
   "metadata": {},
   "outputs": [],
   "source": [
    "# lets convert birth date to age as at 2019\n",
    "clean_df['Age']= (2019 - clean_df['member_birth_year'])\n",
    "# lets convert duration to minutes from seconds\n",
    "clean_df['duration_minutes']= (clean_df['duration_sec']/60)\n",
    "clean_df['distance']= (clean_df['distance']/1000)"
   ]
  },
  {
   "cell_type": "code",
   "execution_count": 149,
   "metadata": {},
   "outputs": [],
   "source": [
    "# lets also convert data types for the following columns as category type"
   ]
  },
  {
   "cell_type": "code",
   "execution_count": 150,
   "metadata": {},
   "outputs": [],
   "source": [
    "clean_df['member_gender'] = clean_df['member_gender'].astype('category')\n",
    "clean_df['bike_share_for_all_trip']= clean_df['bike_share_for_all_trip'].astype('category')\n",
    "clean_df['user_type']= clean_df['user_type'].astype('category')"
   ]
  },
  {
   "cell_type": "code",
   "execution_count": 151,
   "metadata": {},
   "outputs": [
    {
     "data": {
      "text/plain": [
       "duration_sec                        int64\n",
       "start_time                 datetime64[ns]\n",
       "end_time                   datetime64[ns]\n",
       "user_type                        category\n",
       "member_birth_year                   int32\n",
       "member_gender                    category\n",
       "bike_share_for_all_trip          category\n",
       "distance                          float64\n",
       "Age                                 int32\n",
       "duration_minutes                  float64\n",
       "dtype: object"
      ]
     },
     "execution_count": 151,
     "metadata": {},
     "output_type": "execute_result"
    }
   ],
   "source": [
    "# Quick Check!!\n",
    "clean_df.dtypes"
   ]
  },
  {
   "cell_type": "markdown",
   "metadata": {},
   "source": [
    " #### Let's extract day and month information form start_time into new columns day and month"
   ]
  },
  {
   "cell_type": "code",
   "execution_count": 152,
   "metadata": {},
   "outputs": [],
   "source": [
    "#Code:\n",
    "clean_df['start_day'] = clean_df.start_time.dt.day_name()\n",
    "clean_df['end_day'] = clean_df.end_time.dt.day_name()\n",
    "clean_df['month'] = clean_df.start_time.dt.month_name()\n",
    "clean_df['end_month'] = clean_df.end_time.dt.month_name()"
   ]
  },
  {
   "cell_type": "code",
   "execution_count": 153,
   "metadata": {},
   "outputs": [],
   "source": [
    "#Code\n",
    "clean_df['start_hour'] = clean_df.start_time.dt.hour\n",
    "clean_df['end_hour'] = clean_df.end_time.dt.hour"
   ]
  },
  {
   "cell_type": "code",
   "execution_count": 154,
   "metadata": {},
   "outputs": [],
   "source": [
    "#lets group hour into time of the Day\n",
    "def getTimeOfDay(time):\n",
    "    hour = time.hour\n",
    "    if hour >= 12 and hour <= 16:\n",
    "        return 'Afternoon'\n",
    "    if hour > 16 and hour <= 19:\n",
    "        return 'Evening'\n",
    "    if hour >= 0 and hour < 6: \n",
    "        return 'Night'\n",
    "    if hour > 19 and hour <= 23:\n",
    "        return 'Night'\n",
    "    if hour >= 6 and hour < 12:\n",
    "        return 'Morning'"
   ]
  },
  {
   "cell_type": "code",
   "execution_count": 155,
   "metadata": {},
   "outputs": [],
   "source": [
    "# create a column for day time i.e evening/afternoon/evening/night\n",
    "clean_df['day_time'] = clean_df['start_time'].apply(lambda time: getTimeOfDay(time))\n",
    "clean_df['trip_end_time'] = clean_df['end_time'].apply(lambda time: getTimeOfDay(time))"
   ]
  },
  {
   "cell_type": "code",
   "execution_count": 156,
   "metadata": {
    "scrolled": false
   },
   "outputs": [
    {
     "data": {
      "text/html": [
       "<div>\n",
       "<style scoped>\n",
       "    .dataframe tbody tr th:only-of-type {\n",
       "        vertical-align: middle;\n",
       "    }\n",
       "\n",
       "    .dataframe tbody tr th {\n",
       "        vertical-align: top;\n",
       "    }\n",
       "\n",
       "    .dataframe thead th {\n",
       "        text-align: right;\n",
       "    }\n",
       "</style>\n",
       "<table border=\"1\" class=\"dataframe\">\n",
       "  <thead>\n",
       "    <tr style=\"text-align: right;\">\n",
       "      <th></th>\n",
       "      <th>duration_sec</th>\n",
       "      <th>start_time</th>\n",
       "      <th>end_time</th>\n",
       "      <th>user_type</th>\n",
       "      <th>member_birth_year</th>\n",
       "      <th>member_gender</th>\n",
       "      <th>bike_share_for_all_trip</th>\n",
       "      <th>distance</th>\n",
       "      <th>Age</th>\n",
       "      <th>duration_minutes</th>\n",
       "      <th>start_day</th>\n",
       "      <th>end_day</th>\n",
       "      <th>month</th>\n",
       "      <th>end_month</th>\n",
       "      <th>start_hour</th>\n",
       "      <th>end_hour</th>\n",
       "      <th>day_time</th>\n",
       "      <th>trip_end_time</th>\n",
       "    </tr>\n",
       "  </thead>\n",
       "  <tbody>\n",
       "    <tr>\n",
       "      <th>149657</th>\n",
       "      <td>1061</td>\n",
       "      <td>2019-02-06 18:50:39.428</td>\n",
       "      <td>2019-02-06 19:08:21.369</td>\n",
       "      <td>Subscriber</td>\n",
       "      <td>1991</td>\n",
       "      <td>Male</td>\n",
       "      <td>No</td>\n",
       "      <td>3.331235</td>\n",
       "      <td>28</td>\n",
       "      <td>17.683333</td>\n",
       "      <td>Wednesday</td>\n",
       "      <td>Wednesday</td>\n",
       "      <td>February</td>\n",
       "      <td>February</td>\n",
       "      <td>18</td>\n",
       "      <td>19</td>\n",
       "      <td>Evening</td>\n",
       "      <td>Evening</td>\n",
       "    </tr>\n",
       "    <tr>\n",
       "      <th>171920</th>\n",
       "      <td>638</td>\n",
       "      <td>2019-02-03 18:11:05.194</td>\n",
       "      <td>2019-02-03 18:21:44.022</td>\n",
       "      <td>Subscriber</td>\n",
       "      <td>1977</td>\n",
       "      <td>Female</td>\n",
       "      <td>No</td>\n",
       "      <td>2.436693</td>\n",
       "      <td>42</td>\n",
       "      <td>10.633333</td>\n",
       "      <td>Sunday</td>\n",
       "      <td>Sunday</td>\n",
       "      <td>February</td>\n",
       "      <td>February</td>\n",
       "      <td>18</td>\n",
       "      <td>18</td>\n",
       "      <td>Evening</td>\n",
       "      <td>Evening</td>\n",
       "    </tr>\n",
       "    <tr>\n",
       "      <th>24018</th>\n",
       "      <td>158</td>\n",
       "      <td>2019-02-25 19:01:52.980</td>\n",
       "      <td>2019-02-25 19:04:31.586</td>\n",
       "      <td>Subscriber</td>\n",
       "      <td>1992</td>\n",
       "      <td>Male</td>\n",
       "      <td>No</td>\n",
       "      <td>0.650840</td>\n",
       "      <td>27</td>\n",
       "      <td>2.633333</td>\n",
       "      <td>Monday</td>\n",
       "      <td>Monday</td>\n",
       "      <td>February</td>\n",
       "      <td>February</td>\n",
       "      <td>19</td>\n",
       "      <td>19</td>\n",
       "      <td>Evening</td>\n",
       "      <td>Evening</td>\n",
       "    </tr>\n",
       "    <tr>\n",
       "      <th>110204</th>\n",
       "      <td>311</td>\n",
       "      <td>2019-02-12 18:13:38.565</td>\n",
       "      <td>2019-02-12 18:18:50.350</td>\n",
       "      <td>Customer</td>\n",
       "      <td>1988</td>\n",
       "      <td>Male</td>\n",
       "      <td>No</td>\n",
       "      <td>0.751839</td>\n",
       "      <td>31</td>\n",
       "      <td>5.183333</td>\n",
       "      <td>Tuesday</td>\n",
       "      <td>Tuesday</td>\n",
       "      <td>February</td>\n",
       "      <td>February</td>\n",
       "      <td>18</td>\n",
       "      <td>18</td>\n",
       "      <td>Evening</td>\n",
       "      <td>Evening</td>\n",
       "    </tr>\n",
       "    <tr>\n",
       "      <th>59224</th>\n",
       "      <td>1385</td>\n",
       "      <td>2019-02-20 20:34:32.597</td>\n",
       "      <td>2019-02-20 20:57:37.765</td>\n",
       "      <td>Subscriber</td>\n",
       "      <td>1995</td>\n",
       "      <td>Male</td>\n",
       "      <td>No</td>\n",
       "      <td>2.397284</td>\n",
       "      <td>24</td>\n",
       "      <td>23.083333</td>\n",
       "      <td>Wednesday</td>\n",
       "      <td>Wednesday</td>\n",
       "      <td>February</td>\n",
       "      <td>February</td>\n",
       "      <td>20</td>\n",
       "      <td>20</td>\n",
       "      <td>Night</td>\n",
       "      <td>Night</td>\n",
       "    </tr>\n",
       "  </tbody>\n",
       "</table>\n",
       "</div>"
      ],
      "text/plain": [
       "        duration_sec              start_time                end_time  \\\n",
       "149657          1061 2019-02-06 18:50:39.428 2019-02-06 19:08:21.369   \n",
       "171920           638 2019-02-03 18:11:05.194 2019-02-03 18:21:44.022   \n",
       "24018            158 2019-02-25 19:01:52.980 2019-02-25 19:04:31.586   \n",
       "110204           311 2019-02-12 18:13:38.565 2019-02-12 18:18:50.350   \n",
       "59224           1385 2019-02-20 20:34:32.597 2019-02-20 20:57:37.765   \n",
       "\n",
       "         user_type  member_birth_year member_gender bike_share_for_all_trip  \\\n",
       "149657  Subscriber               1991          Male                      No   \n",
       "171920  Subscriber               1977        Female                      No   \n",
       "24018   Subscriber               1992          Male                      No   \n",
       "110204    Customer               1988          Male                      No   \n",
       "59224   Subscriber               1995          Male                      No   \n",
       "\n",
       "        distance  Age  duration_minutes  start_day    end_day     month  \\\n",
       "149657  3.331235   28         17.683333  Wednesday  Wednesday  February   \n",
       "171920  2.436693   42         10.633333     Sunday     Sunday  February   \n",
       "24018   0.650840   27          2.633333     Monday     Monday  February   \n",
       "110204  0.751839   31          5.183333    Tuesday    Tuesday  February   \n",
       "59224   2.397284   24         23.083333  Wednesday  Wednesday  February   \n",
       "\n",
       "       end_month  start_hour  end_hour day_time trip_end_time  \n",
       "149657  February          18        19  Evening       Evening  \n",
       "171920  February          18        18  Evening       Evening  \n",
       "24018   February          19        19  Evening       Evening  \n",
       "110204  February          18        18  Evening       Evening  \n",
       "59224   February          20        20    Night         Night  "
      ]
     },
     "execution_count": 156,
     "metadata": {},
     "output_type": "execute_result"
    }
   ],
   "source": [
    "clean_df.sample(5)"
   ]
  },
  {
   "cell_type": "markdown",
   "metadata": {},
   "source": [
    "###### ReArrange Columns and Drop Unuseful columns"
   ]
  },
  {
   "cell_type": "code",
   "execution_count": 157,
   "metadata": {},
   "outputs": [],
   "source": [
    "#lets Re-Order the columns to our taste\n",
    "clean_df = clean_df[['user_type', 'member_gender', 'Age','start_day', 'day_time', 'distance', 'duration_minutes', \n",
    "                     'month', 'bike_share_for_all_trip', 'end_month', 'start_hour', 'end_hour', 'trip_end_time',\n",
    "                     'duration_sec', 'start_time', 'end_time', 'member_birth_year', 'end_day',]]"
   ]
  },
  {
   "cell_type": "code",
   "execution_count": 158,
   "metadata": {},
   "outputs": [
    {
     "data": {
      "text/html": [
       "<div>\n",
       "<style scoped>\n",
       "    .dataframe tbody tr th:only-of-type {\n",
       "        vertical-align: middle;\n",
       "    }\n",
       "\n",
       "    .dataframe tbody tr th {\n",
       "        vertical-align: top;\n",
       "    }\n",
       "\n",
       "    .dataframe thead th {\n",
       "        text-align: right;\n",
       "    }\n",
       "</style>\n",
       "<table border=\"1\" class=\"dataframe\">\n",
       "  <thead>\n",
       "    <tr style=\"text-align: right;\">\n",
       "      <th></th>\n",
       "      <th>user_type</th>\n",
       "      <th>member_gender</th>\n",
       "      <th>Age</th>\n",
       "      <th>start_day</th>\n",
       "      <th>day_time</th>\n",
       "      <th>distance</th>\n",
       "      <th>duration_minutes</th>\n",
       "      <th>month</th>\n",
       "      <th>bike_share_for_all_trip</th>\n",
       "      <th>end_month</th>\n",
       "      <th>start_hour</th>\n",
       "      <th>end_hour</th>\n",
       "      <th>trip_end_time</th>\n",
       "      <th>duration_sec</th>\n",
       "      <th>start_time</th>\n",
       "      <th>end_time</th>\n",
       "      <th>member_birth_year</th>\n",
       "      <th>end_day</th>\n",
       "    </tr>\n",
       "  </thead>\n",
       "  <tbody>\n",
       "    <tr>\n",
       "      <th>19816</th>\n",
       "      <td>Subscriber</td>\n",
       "      <td>Male</td>\n",
       "      <td>33</td>\n",
       "      <td>Tuesday</td>\n",
       "      <td>Afternoon</td>\n",
       "      <td>2.069628</td>\n",
       "      <td>10.183333</td>\n",
       "      <td>February</td>\n",
       "      <td>No</td>\n",
       "      <td>February</td>\n",
       "      <td>15</td>\n",
       "      <td>15</td>\n",
       "      <td>Afternoon</td>\n",
       "      <td>611</td>\n",
       "      <td>2019-02-26 15:41:33.133</td>\n",
       "      <td>2019-02-26 15:51:45.045</td>\n",
       "      <td>1986</td>\n",
       "      <td>Tuesday</td>\n",
       "    </tr>\n",
       "    <tr>\n",
       "      <th>60046</th>\n",
       "      <td>Subscriber</td>\n",
       "      <td>Male</td>\n",
       "      <td>55</td>\n",
       "      <td>Wednesday</td>\n",
       "      <td>Evening</td>\n",
       "      <td>1.147922</td>\n",
       "      <td>9.283333</td>\n",
       "      <td>February</td>\n",
       "      <td>No</td>\n",
       "      <td>February</td>\n",
       "      <td>19</td>\n",
       "      <td>19</td>\n",
       "      <td>Evening</td>\n",
       "      <td>557</td>\n",
       "      <td>2019-02-20 19:05:28.053</td>\n",
       "      <td>2019-02-20 19:14:45.723</td>\n",
       "      <td>1964</td>\n",
       "      <td>Wednesday</td>\n",
       "    </tr>\n",
       "    <tr>\n",
       "      <th>166189</th>\n",
       "      <td>Subscriber</td>\n",
       "      <td>Male</td>\n",
       "      <td>35</td>\n",
       "      <td>Monday</td>\n",
       "      <td>Evening</td>\n",
       "      <td>1.514036</td>\n",
       "      <td>9.766667</td>\n",
       "      <td>February</td>\n",
       "      <td>No</td>\n",
       "      <td>February</td>\n",
       "      <td>19</td>\n",
       "      <td>19</td>\n",
       "      <td>Evening</td>\n",
       "      <td>586</td>\n",
       "      <td>2019-02-04 19:30:30.728</td>\n",
       "      <td>2019-02-04 19:40:17.639</td>\n",
       "      <td>1984</td>\n",
       "      <td>Monday</td>\n",
       "    </tr>\n",
       "    <tr>\n",
       "      <th>165939</th>\n",
       "      <td>Subscriber</td>\n",
       "      <td>Female</td>\n",
       "      <td>42</td>\n",
       "      <td>Monday</td>\n",
       "      <td>Night</td>\n",
       "      <td>1.483849</td>\n",
       "      <td>9.883333</td>\n",
       "      <td>February</td>\n",
       "      <td>No</td>\n",
       "      <td>February</td>\n",
       "      <td>20</td>\n",
       "      <td>21</td>\n",
       "      <td>Night</td>\n",
       "      <td>593</td>\n",
       "      <td>2019-02-04 20:58:48.527</td>\n",
       "      <td>2019-02-04 21:08:42.490</td>\n",
       "      <td>1977</td>\n",
       "      <td>Monday</td>\n",
       "    </tr>\n",
       "    <tr>\n",
       "      <th>135538</th>\n",
       "      <td>Subscriber</td>\n",
       "      <td>Male</td>\n",
       "      <td>37</td>\n",
       "      <td>Friday</td>\n",
       "      <td>Afternoon</td>\n",
       "      <td>2.653077</td>\n",
       "      <td>15.683333</td>\n",
       "      <td>February</td>\n",
       "      <td>No</td>\n",
       "      <td>February</td>\n",
       "      <td>12</td>\n",
       "      <td>12</td>\n",
       "      <td>Afternoon</td>\n",
       "      <td>941</td>\n",
       "      <td>2019-02-08 12:24:51.232</td>\n",
       "      <td>2019-02-08 12:40:33.132</td>\n",
       "      <td>1982</td>\n",
       "      <td>Friday</td>\n",
       "    </tr>\n",
       "  </tbody>\n",
       "</table>\n",
       "</div>"
      ],
      "text/plain": [
       "         user_type member_gender  Age  start_day   day_time  distance  \\\n",
       "19816   Subscriber          Male   33    Tuesday  Afternoon  2.069628   \n",
       "60046   Subscriber          Male   55  Wednesday    Evening  1.147922   \n",
       "166189  Subscriber          Male   35     Monday    Evening  1.514036   \n",
       "165939  Subscriber        Female   42     Monday      Night  1.483849   \n",
       "135538  Subscriber          Male   37     Friday  Afternoon  2.653077   \n",
       "\n",
       "        duration_minutes     month bike_share_for_all_trip end_month  \\\n",
       "19816          10.183333  February                      No  February   \n",
       "60046           9.283333  February                      No  February   \n",
       "166189          9.766667  February                      No  February   \n",
       "165939          9.883333  February                      No  February   \n",
       "135538         15.683333  February                      No  February   \n",
       "\n",
       "        start_hour  end_hour trip_end_time  duration_sec  \\\n",
       "19816           15        15     Afternoon           611   \n",
       "60046           19        19       Evening           557   \n",
       "166189          19        19       Evening           586   \n",
       "165939          20        21         Night           593   \n",
       "135538          12        12     Afternoon           941   \n",
       "\n",
       "                    start_time                end_time  member_birth_year  \\\n",
       "19816  2019-02-26 15:41:33.133 2019-02-26 15:51:45.045               1986   \n",
       "60046  2019-02-20 19:05:28.053 2019-02-20 19:14:45.723               1964   \n",
       "166189 2019-02-04 19:30:30.728 2019-02-04 19:40:17.639               1984   \n",
       "165939 2019-02-04 20:58:48.527 2019-02-04 21:08:42.490               1977   \n",
       "135538 2019-02-08 12:24:51.232 2019-02-08 12:40:33.132               1982   \n",
       "\n",
       "          end_day  \n",
       "19816     Tuesday  \n",
       "60046   Wednesday  \n",
       "166189     Monday  \n",
       "165939     Monday  \n",
       "135538     Friday  "
      ]
     },
     "execution_count": 158,
     "metadata": {},
     "output_type": "execute_result"
    }
   ],
   "source": [
    "# Check :\n",
    "clean_df.sample(5)"
   ]
  },
  {
   "cell_type": "code",
   "execution_count": 159,
   "metadata": {},
   "outputs": [],
   "source": [
    "#lets further drop some more columns we don't probably need \n",
    "clean_df.drop(['end_month', 'end_hour', 'trip_end_time', 'end_month', 'duration_sec', \n",
    "               'start_time', 'end_time', 'member_birth_year', 'end_day'], axis=1, inplace=True)"
   ]
  },
  {
   "cell_type": "code",
   "execution_count": 160,
   "metadata": {},
   "outputs": [
    {
     "data": {
      "text/html": [
       "<div>\n",
       "<style scoped>\n",
       "    .dataframe tbody tr th:only-of-type {\n",
       "        vertical-align: middle;\n",
       "    }\n",
       "\n",
       "    .dataframe tbody tr th {\n",
       "        vertical-align: top;\n",
       "    }\n",
       "\n",
       "    .dataframe thead th {\n",
       "        text-align: right;\n",
       "    }\n",
       "</style>\n",
       "<table border=\"1\" class=\"dataframe\">\n",
       "  <thead>\n",
       "    <tr style=\"text-align: right;\">\n",
       "      <th></th>\n",
       "      <th>user_type</th>\n",
       "      <th>member_gender</th>\n",
       "      <th>Age</th>\n",
       "      <th>start_day</th>\n",
       "      <th>day_time</th>\n",
       "      <th>distance</th>\n",
       "      <th>duration_minutes</th>\n",
       "      <th>month</th>\n",
       "      <th>bike_share_for_all_trip</th>\n",
       "      <th>start_hour</th>\n",
       "    </tr>\n",
       "  </thead>\n",
       "  <tbody>\n",
       "    <tr>\n",
       "      <th>161356</th>\n",
       "      <td>Subscriber</td>\n",
       "      <td>Male</td>\n",
       "      <td>29</td>\n",
       "      <td>Tuesday</td>\n",
       "      <td>Afternoon</td>\n",
       "      <td>3.196053</td>\n",
       "      <td>14.016667</td>\n",
       "      <td>February</td>\n",
       "      <td>No</td>\n",
       "      <td>15</td>\n",
       "    </tr>\n",
       "    <tr>\n",
       "      <th>146425</th>\n",
       "      <td>Subscriber</td>\n",
       "      <td>Male</td>\n",
       "      <td>29</td>\n",
       "      <td>Thursday</td>\n",
       "      <td>Morning</td>\n",
       "      <td>1.000762</td>\n",
       "      <td>6.683333</td>\n",
       "      <td>February</td>\n",
       "      <td>No</td>\n",
       "      <td>8</td>\n",
       "    </tr>\n",
       "    <tr>\n",
       "      <th>118959</th>\n",
       "      <td>Subscriber</td>\n",
       "      <td>Male</td>\n",
       "      <td>35</td>\n",
       "      <td>Monday</td>\n",
       "      <td>Evening</td>\n",
       "      <td>1.239349</td>\n",
       "      <td>5.033333</td>\n",
       "      <td>February</td>\n",
       "      <td>No</td>\n",
       "      <td>18</td>\n",
       "    </tr>\n",
       "    <tr>\n",
       "      <th>3844</th>\n",
       "      <td>Subscriber</td>\n",
       "      <td>Male</td>\n",
       "      <td>51</td>\n",
       "      <td>Thursday</td>\n",
       "      <td>Afternoon</td>\n",
       "      <td>1.741356</td>\n",
       "      <td>11.733333</td>\n",
       "      <td>February</td>\n",
       "      <td>No</td>\n",
       "      <td>16</td>\n",
       "    </tr>\n",
       "    <tr>\n",
       "      <th>132441</th>\n",
       "      <td>Subscriber</td>\n",
       "      <td>Male</td>\n",
       "      <td>24</td>\n",
       "      <td>Saturday</td>\n",
       "      <td>Night</td>\n",
       "      <td>0.087226</td>\n",
       "      <td>21.000000</td>\n",
       "      <td>February</td>\n",
       "      <td>No</td>\n",
       "      <td>4</td>\n",
       "    </tr>\n",
       "  </tbody>\n",
       "</table>\n",
       "</div>"
      ],
      "text/plain": [
       "         user_type member_gender  Age start_day   day_time  distance  \\\n",
       "161356  Subscriber          Male   29   Tuesday  Afternoon  3.196053   \n",
       "146425  Subscriber          Male   29  Thursday    Morning  1.000762   \n",
       "118959  Subscriber          Male   35    Monday    Evening  1.239349   \n",
       "3844    Subscriber          Male   51  Thursday  Afternoon  1.741356   \n",
       "132441  Subscriber          Male   24  Saturday      Night  0.087226   \n",
       "\n",
       "        duration_minutes     month bike_share_for_all_trip  start_hour  \n",
       "161356         14.016667  February                      No          15  \n",
       "146425          6.683333  February                      No           8  \n",
       "118959          5.033333  February                      No          18  \n",
       "3844           11.733333  February                      No          16  \n",
       "132441         21.000000  February                      No           4  "
      ]
     },
     "execution_count": 160,
     "metadata": {},
     "output_type": "execute_result"
    }
   ],
   "source": [
    "# Check:\n",
    "clean_df.sample(5)"
   ]
  },
  {
   "cell_type": "code",
   "execution_count": 161,
   "metadata": {},
   "outputs": [
    {
     "data": {
      "text/plain": [
       "user_type                  category\n",
       "member_gender              category\n",
       "Age                           int32\n",
       "start_day                    object\n",
       "day_time                     object\n",
       "distance                    float64\n",
       "duration_minutes            float64\n",
       "month                        object\n",
       "bike_share_for_all_trip    category\n",
       "start_hour                    int64\n",
       "dtype: object"
      ]
     },
     "execution_count": 161,
     "metadata": {},
     "output_type": "execute_result"
    }
   ],
   "source": [
    "clean_df.dtypes"
   ]
  },
  {
   "cell_type": "markdown",
   "metadata": {},
   "source": [
    "###### Final Data cleaning (data type fix)"
   ]
  },
  {
   "cell_type": "code",
   "execution_count": 162,
   "metadata": {},
   "outputs": [],
   "source": [
    "#Data Type Hot Fix!\n",
    "clean_df['start_day'] = clean_df['start_day'].astype('category')\n",
    "clean_df['day_time'] = clean_df['day_time'].astype('category')\n",
    "# clean_df.distance = clean_df.distance.astype(int)\n",
    "clean_df.duration_minutes = clean_df.duration_minutes.astype(int)\n",
    "clean_df['month'] = clean_df['month'].astype('category')"
   ]
  },
  {
   "cell_type": "code",
   "execution_count": 163,
   "metadata": {},
   "outputs": [
    {
     "data": {
      "text/plain": [
       "user_type                  category\n",
       "member_gender              category\n",
       "Age                           int32\n",
       "start_day                  category\n",
       "day_time                   category\n",
       "distance                    float64\n",
       "duration_minutes              int32\n",
       "month                      category\n",
       "bike_share_for_all_trip    category\n",
       "start_hour                    int64\n",
       "dtype: object"
      ]
     },
     "execution_count": 163,
     "metadata": {},
     "output_type": "execute_result"
    }
   ],
   "source": [
    "# Check:\n",
    "clean_df.dtypes"
   ]
  },
  {
   "cell_type": "code",
   "execution_count": 164,
   "metadata": {},
   "outputs": [
    {
     "data": {
      "text/html": [
       "<div>\n",
       "<style scoped>\n",
       "    .dataframe tbody tr th:only-of-type {\n",
       "        vertical-align: middle;\n",
       "    }\n",
       "\n",
       "    .dataframe tbody tr th {\n",
       "        vertical-align: top;\n",
       "    }\n",
       "\n",
       "    .dataframe thead th {\n",
       "        text-align: right;\n",
       "    }\n",
       "</style>\n",
       "<table border=\"1\" class=\"dataframe\">\n",
       "  <thead>\n",
       "    <tr style=\"text-align: right;\">\n",
       "      <th></th>\n",
       "      <th>user_type</th>\n",
       "      <th>member_gender</th>\n",
       "      <th>Age</th>\n",
       "      <th>start_day</th>\n",
       "      <th>day_time</th>\n",
       "      <th>distance</th>\n",
       "      <th>duration_minutes</th>\n",
       "      <th>month</th>\n",
       "      <th>bike_share_for_all_trip</th>\n",
       "      <th>start_hour</th>\n",
       "    </tr>\n",
       "  </thead>\n",
       "  <tbody>\n",
       "    <tr>\n",
       "      <th>39114</th>\n",
       "      <td>Customer</td>\n",
       "      <td>Female</td>\n",
       "      <td>31</td>\n",
       "      <td>Saturday</td>\n",
       "      <td>Morning</td>\n",
       "      <td>1.397295</td>\n",
       "      <td>12</td>\n",
       "      <td>February</td>\n",
       "      <td>No</td>\n",
       "      <td>10</td>\n",
       "    </tr>\n",
       "    <tr>\n",
       "      <th>51632</th>\n",
       "      <td>Subscriber</td>\n",
       "      <td>Female</td>\n",
       "      <td>30</td>\n",
       "      <td>Thursday</td>\n",
       "      <td>Evening</td>\n",
       "      <td>6.289936</td>\n",
       "      <td>28</td>\n",
       "      <td>February</td>\n",
       "      <td>No</td>\n",
       "      <td>17</td>\n",
       "    </tr>\n",
       "    <tr>\n",
       "      <th>181947</th>\n",
       "      <td>Subscriber</td>\n",
       "      <td>Male</td>\n",
       "      <td>31</td>\n",
       "      <td>Friday</td>\n",
       "      <td>Morning</td>\n",
       "      <td>4.100655</td>\n",
       "      <td>13</td>\n",
       "      <td>February</td>\n",
       "      <td>No</td>\n",
       "      <td>8</td>\n",
       "    </tr>\n",
       "    <tr>\n",
       "      <th>67378</th>\n",
       "      <td>Subscriber</td>\n",
       "      <td>Male</td>\n",
       "      <td>31</td>\n",
       "      <td>Wednesday</td>\n",
       "      <td>Morning</td>\n",
       "      <td>2.078748</td>\n",
       "      <td>10</td>\n",
       "      <td>February</td>\n",
       "      <td>No</td>\n",
       "      <td>7</td>\n",
       "    </tr>\n",
       "    <tr>\n",
       "      <th>46281</th>\n",
       "      <td>Subscriber</td>\n",
       "      <td>Male</td>\n",
       "      <td>34</td>\n",
       "      <td>Friday</td>\n",
       "      <td>Morning</td>\n",
       "      <td>2.208539</td>\n",
       "      <td>13</td>\n",
       "      <td>February</td>\n",
       "      <td>No</td>\n",
       "      <td>9</td>\n",
       "    </tr>\n",
       "    <tr>\n",
       "      <th>26092</th>\n",
       "      <td>Customer</td>\n",
       "      <td>Female</td>\n",
       "      <td>35</td>\n",
       "      <td>Monday</td>\n",
       "      <td>Afternoon</td>\n",
       "      <td>0.919361</td>\n",
       "      <td>32</td>\n",
       "      <td>February</td>\n",
       "      <td>No</td>\n",
       "      <td>13</td>\n",
       "    </tr>\n",
       "    <tr>\n",
       "      <th>46956</th>\n",
       "      <td>Subscriber</td>\n",
       "      <td>Female</td>\n",
       "      <td>26</td>\n",
       "      <td>Friday</td>\n",
       "      <td>Morning</td>\n",
       "      <td>2.955676</td>\n",
       "      <td>15</td>\n",
       "      <td>February</td>\n",
       "      <td>No</td>\n",
       "      <td>9</td>\n",
       "    </tr>\n",
       "    <tr>\n",
       "      <th>15253</th>\n",
       "      <td>Subscriber</td>\n",
       "      <td>Male</td>\n",
       "      <td>39</td>\n",
       "      <td>Wednesday</td>\n",
       "      <td>Morning</td>\n",
       "      <td>1.095286</td>\n",
       "      <td>3</td>\n",
       "      <td>February</td>\n",
       "      <td>No</td>\n",
       "      <td>9</td>\n",
       "    </tr>\n",
       "    <tr>\n",
       "      <th>20379</th>\n",
       "      <td>Subscriber</td>\n",
       "      <td>Male</td>\n",
       "      <td>35</td>\n",
       "      <td>Tuesday</td>\n",
       "      <td>Afternoon</td>\n",
       "      <td>0.000000</td>\n",
       "      <td>9</td>\n",
       "      <td>February</td>\n",
       "      <td>No</td>\n",
       "      <td>12</td>\n",
       "    </tr>\n",
       "    <tr>\n",
       "      <th>164556</th>\n",
       "      <td>Subscriber</td>\n",
       "      <td>Male</td>\n",
       "      <td>28</td>\n",
       "      <td>Tuesday</td>\n",
       "      <td>Morning</td>\n",
       "      <td>0.551479</td>\n",
       "      <td>2</td>\n",
       "      <td>February</td>\n",
       "      <td>No</td>\n",
       "      <td>8</td>\n",
       "    </tr>\n",
       "    <tr>\n",
       "      <th>1314</th>\n",
       "      <td>Subscriber</td>\n",
       "      <td>Male</td>\n",
       "      <td>36</td>\n",
       "      <td>Thursday</td>\n",
       "      <td>Evening</td>\n",
       "      <td>3.587143</td>\n",
       "      <td>18</td>\n",
       "      <td>February</td>\n",
       "      <td>No</td>\n",
       "      <td>19</td>\n",
       "    </tr>\n",
       "    <tr>\n",
       "      <th>40480</th>\n",
       "      <td>Subscriber</td>\n",
       "      <td>Male</td>\n",
       "      <td>21</td>\n",
       "      <td>Friday</td>\n",
       "      <td>Night</td>\n",
       "      <td>1.163189</td>\n",
       "      <td>17</td>\n",
       "      <td>February</td>\n",
       "      <td>No</td>\n",
       "      <td>20</td>\n",
       "    </tr>\n",
       "    <tr>\n",
       "      <th>113469</th>\n",
       "      <td>Subscriber</td>\n",
       "      <td>Male</td>\n",
       "      <td>62</td>\n",
       "      <td>Tuesday</td>\n",
       "      <td>Afternoon</td>\n",
       "      <td>0.352675</td>\n",
       "      <td>2</td>\n",
       "      <td>February</td>\n",
       "      <td>No</td>\n",
       "      <td>12</td>\n",
       "    </tr>\n",
       "    <tr>\n",
       "      <th>29399</th>\n",
       "      <td>Subscriber</td>\n",
       "      <td>Female</td>\n",
       "      <td>34</td>\n",
       "      <td>Monday</td>\n",
       "      <td>Morning</td>\n",
       "      <td>1.208310</td>\n",
       "      <td>6</td>\n",
       "      <td>February</td>\n",
       "      <td>No</td>\n",
       "      <td>7</td>\n",
       "    </tr>\n",
       "    <tr>\n",
       "      <th>121241</th>\n",
       "      <td>Subscriber</td>\n",
       "      <td>Male</td>\n",
       "      <td>26</td>\n",
       "      <td>Monday</td>\n",
       "      <td>Afternoon</td>\n",
       "      <td>1.961526</td>\n",
       "      <td>12</td>\n",
       "      <td>February</td>\n",
       "      <td>No</td>\n",
       "      <td>15</td>\n",
       "    </tr>\n",
       "    <tr>\n",
       "      <th>11335</th>\n",
       "      <td>Customer</td>\n",
       "      <td>Male</td>\n",
       "      <td>28</td>\n",
       "      <td>Wednesday</td>\n",
       "      <td>Evening</td>\n",
       "      <td>2.797825</td>\n",
       "      <td>16</td>\n",
       "      <td>February</td>\n",
       "      <td>No</td>\n",
       "      <td>18</td>\n",
       "    </tr>\n",
       "    <tr>\n",
       "      <th>154040</th>\n",
       "      <td>Subscriber</td>\n",
       "      <td>Male</td>\n",
       "      <td>37</td>\n",
       "      <td>Wednesday</td>\n",
       "      <td>Morning</td>\n",
       "      <td>2.653077</td>\n",
       "      <td>14</td>\n",
       "      <td>February</td>\n",
       "      <td>No</td>\n",
       "      <td>10</td>\n",
       "    </tr>\n",
       "  </tbody>\n",
       "</table>\n",
       "</div>"
      ],
      "text/plain": [
       "         user_type member_gender  Age  start_day   day_time  distance  \\\n",
       "39114     Customer        Female   31   Saturday    Morning  1.397295   \n",
       "51632   Subscriber        Female   30   Thursday    Evening  6.289936   \n",
       "181947  Subscriber          Male   31     Friday    Morning  4.100655   \n",
       "67378   Subscriber          Male   31  Wednesday    Morning  2.078748   \n",
       "46281   Subscriber          Male   34     Friday    Morning  2.208539   \n",
       "26092     Customer        Female   35     Monday  Afternoon  0.919361   \n",
       "46956   Subscriber        Female   26     Friday    Morning  2.955676   \n",
       "15253   Subscriber          Male   39  Wednesday    Morning  1.095286   \n",
       "20379   Subscriber          Male   35    Tuesday  Afternoon  0.000000   \n",
       "164556  Subscriber          Male   28    Tuesday    Morning  0.551479   \n",
       "1314    Subscriber          Male   36   Thursday    Evening  3.587143   \n",
       "40480   Subscriber          Male   21     Friday      Night  1.163189   \n",
       "113469  Subscriber          Male   62    Tuesday  Afternoon  0.352675   \n",
       "29399   Subscriber        Female   34     Monday    Morning  1.208310   \n",
       "121241  Subscriber          Male   26     Monday  Afternoon  1.961526   \n",
       "11335     Customer          Male   28  Wednesday    Evening  2.797825   \n",
       "154040  Subscriber          Male   37  Wednesday    Morning  2.653077   \n",
       "\n",
       "        duration_minutes     month bike_share_for_all_trip  start_hour  \n",
       "39114                 12  February                      No          10  \n",
       "51632                 28  February                      No          17  \n",
       "181947                13  February                      No           8  \n",
       "67378                 10  February                      No           7  \n",
       "46281                 13  February                      No           9  \n",
       "26092                 32  February                      No          13  \n",
       "46956                 15  February                      No           9  \n",
       "15253                  3  February                      No           9  \n",
       "20379                  9  February                      No          12  \n",
       "164556                 2  February                      No           8  \n",
       "1314                  18  February                      No          19  \n",
       "40480                 17  February                      No          20  \n",
       "113469                 2  February                      No          12  \n",
       "29399                  6  February                      No           7  \n",
       "121241                12  February                      No          15  \n",
       "11335                 16  February                      No          18  \n",
       "154040                14  February                      No          10  "
      ]
     },
     "execution_count": 164,
     "metadata": {},
     "output_type": "execute_result"
    }
   ],
   "source": [
    "# clean_df.head(7)\n",
    "# clean_df.tail(7)\n",
    "clean_df.sample(17)"
   ]
  },
  {
   "cell_type": "code",
   "execution_count": 165,
   "metadata": {},
   "outputs": [],
   "source": [
    "# save the clean dataset for future use\n",
    "clean_df.to_csv('Ford_GoBike(2019_feb).csv', index=False)"
   ]
  },
  {
   "cell_type": "code",
   "execution_count": null,
   "metadata": {},
   "outputs": [],
   "source": []
  },
  {
   "cell_type": "markdown",
   "metadata": {},
   "source": [
    "## Univariate Exploration"
   ]
  },
  {
   "cell_type": "code",
   "execution_count": 166,
   "metadata": {},
   "outputs": [],
   "source": [
    "# explore how distance of ride distribution looks like,\n",
    "# how riders took rides relative to distance they wanted to cover"
   ]
  },
  {
   "cell_type": "code",
   "execution_count": 167,
   "metadata": {},
   "outputs": [],
   "source": [
    "# first lets set the default colour and method to avoid duplicated code\n",
    "def x_y_t(xL,yL,title):\n",
    "    plt.title(title, fontsize=16)\n",
    "    plt.xlabel(xL, fontsize=12)\n",
    "    plt.ylabel(yL, fontsize=12)"
   ]
  },
  {
   "cell_type": "markdown",
   "metadata": {},
   "source": [
    "##### Can we check distance commonly implored for the Bike Service ?\n",
    "\n",
    "> To do this we'll plot a Distance versus Ride Frequency "
   ]
  },
  {
   "cell_type": "code",
   "execution_count": 168,
   "metadata": {},
   "outputs": [
    {
     "data": {
      "image/png": "[encoded data removed]",
      "text/plain": [
       "<Figure size 576x432 with 1 Axes>"
      ]
     },
     "metadata": {
      "needs_background": "light"
     },
     "output_type": "display_data"
    }
   ],
   "source": [
    "plt.figure(figsize=[8, 6])\n",
    "clean_df.distance.hist(bins=50, log=True)\n",
    "plt.grid(b=None)\n",
    "x_y_t('Distance in meters', 'Rides Frequency','Distance completed while using Bike Service' )"
   ]
  },
  {
   "cell_type": "markdown",
   "metadata": {},
   "source": [
    "from the plot above, the plot is skewed mor to the left, thus we observe that most riders used Ford GoBike for less than 10km journeys"
   ]
  },
  {
   "cell_type": "markdown",
   "metadata": {},
   "source": [
    "##### can we also explore the amount of time the riders spent before completing their rides while making use of the services?\n",
    "\n",
    "> we'll plot a time verus rides freqeuncy graph to accomplish this"
   ]
  },
  {
   "cell_type": "code",
   "execution_count": 169,
   "metadata": {},
   "outputs": [
    {
     "data": {
      "image/png": "[encoded data removed]",
      "text/plain": [
       "<Figure size 576x432 with 1 Axes>"
      ]
     },
     "metadata": {
      "needs_background": "light"
     },
     "output_type": "display_data"
    }
   ],
   "source": [
    "plt.figure(figsize=[8, 6])\n",
    "clean_df.duration_minutes.hist(bins=50, log=True)\n",
    "plt.grid(b=None)\n",
    "x_y_t('Time in minutes', 'Rides Frequency','Number of rides completed in minutes' )"
   ]
  },
  {
   "cell_type": "markdown",
   "metadata": {},
   "source": [
    "> from the Above plot, most rides were completed in the first 3 to 6 hours (200 - 400 minutes)!"
   ]
  },
  {
   "cell_type": "markdown",
   "metadata": {},
   "source": [
    "#### Week Analysis\n",
    "\n",
    "> next is can we check the days with the highest number bike services demand??\n",
    "\n",
    "> we'll plot a Day of the week versus rides frequency plot to solve this"
   ]
  },
  {
   "cell_type": "code",
   "execution_count": 170,
   "metadata": {},
   "outputs": [
    {
     "data": {
      "image/png": "[encoded data removed]",
      "text/plain": [
       "<Figure size 576x432 with 1 Axes>"
      ]
     },
     "metadata": {
      "needs_background": "light"
     },
     "output_type": "display_data"
    }
   ],
   "source": [
    "# plot a graph to see how many rides were taken on different weekdays\n",
    "plt.figure(figsize=[8, 6])\n",
    "clean_df.groupby('start_day').count().sort_values('duration_minutes', ascending=False).duration_minutes.plot(kind='bar')\n",
    "x_y_t('Day of week', 'Number of rides','Number of rides on days of week' )"
   ]
  },
  {
   "cell_type": "markdown",
   "metadata": {},
   "source": [
    "from the above plot, saturdays and sundays were the least days where the bike services wasn't in demand and its quite understanable cos its falls within the weekend, while Thursday and Tuesday possesing the highest demand "
   ]
  },
  {
   "cell_type": "markdown",
   "metadata": {},
   "source": [
    "###### Now we know the days with the highest demand, next thing is can  we check what time of the day demand had higher activities?\n",
    "\n",
    "> next is to plot a time of the Day graph versus Rides Frequency chart to solve this"
   ]
  },
  {
   "cell_type": "code",
   "execution_count": 171,
   "metadata": {},
   "outputs": [
    {
     "data": {
      "image/png": "[encoded data removed]",
      "text/plain": [
       "<Figure size 576x432 with 1 Axes>"
      ]
     },
     "metadata": {
      "needs_background": "light"
     },
     "output_type": "display_data"
    }
   ],
   "source": [
    "# plot a graph to see how many rides were taken on different weekdays\n",
    "plt.figure(figsize=[8, 6])\n",
    "clean_df.groupby('day_time').count().sort_values('duration_minutes', ascending=False).duration_minutes.plot(kind='bar')\n",
    "x_y_t('Time of the Day', 'Number of rides','Number of rides on days of week' )"
   ]
  },
  {
   "cell_type": "markdown",
   "metadata": {},
   "source": [
    "Morning times are have the highest traffic / Demand as people are trying to get somewhere, while the Afternoon and Evening times are almost evenly distributed signifying different close times from work during weekdays."
   ]
  },
  {
   "cell_type": "markdown",
   "metadata": {},
   "source": [
    "##### Riders Insight\n",
    "\n",
    "> can we check the the proportion of customer versus active Subcribers ??  "
   ]
  },
  {
   "cell_type": "code",
   "execution_count": 172,
   "metadata": {},
   "outputs": [
    {
     "data": {
      "image/png": "[encoded data removed]",
      "text/plain": [
       "<Figure size 576x360 with 1 Axes>"
      ]
     },
     "metadata": {
      "needs_background": "light"
     },
     "output_type": "display_data"
    }
   ],
   "source": [
    "plt.figure(figsize=[8,5])\n",
    "base_color = sb.color_palette()[0]\n",
    "sb.countplot(data = clean_df, x = 'user_type', color = base_color)\n",
    "plt.title('Number of Trips by User Type')\n",
    "plt.xlabel('User Type')\n",
    "\n",
    "n_points = clean_df.shape[0]\n",
    "user_counts = clean_df['user_type'].value_counts()\n",
    "locs, labels = plt.xticks()\n",
    "\n",
    "for loc, label in zip(locs, labels):\n",
    "    count = user_counts[label.get_text()]\n",
    "    pct_string = '{:0.1f}%'.format(100*count/n_points)\n",
    "    plt.text(loc, count-8, pct_string, ha='center', color='b')\n",
    "\n",
    "plt.show()"
   ]
  },
  {
   "cell_type": "markdown",
   "metadata": {},
   "source": [
    "the above data clearly shows 90.5% o riders/ users were Subcribers with 9.5% for customers... most customers enjoy the services and are therefore subcribe to the GoBike Services!!"
   ]
  },
  {
   "cell_type": "code",
   "execution_count": 173,
   "metadata": {},
   "outputs": [],
   "source": [
    "# binsize = 10\n",
    "# bins = np.arange(0, clean_df['duration_minutes'].max()+binsize, binsize)\n",
    "\n",
    "# plt.figure(figsize=[8, 5])\n",
    "# plt.hist(data = clean_df, x = 'duration_minutes', bins = bins)\n",
    "# plt.xlim(0, 100)\n",
    "# plt.xlabel('Trip Duration (minutes)')\n",
    "# plt.title('Distribution of Trip Duration');"
   ]
  },
  {
   "cell_type": "markdown",
   "metadata": {},
   "source": [
    "###### Up next, we want to zero in to the gender distribution of both customers and subcribers"
   ]
  },
  {
   "cell_type": "code",
   "execution_count": 174,
   "metadata": {},
   "outputs": [
    {
     "data": {
      "image/png": "[encoded data removed]",
      "text/plain": [
       "<Figure size 576x360 with 1 Axes>"
      ]
     },
     "metadata": {
      "needs_background": "light"
     },
     "output_type": "display_data"
    }
   ],
   "source": [
    "#bar plot of Gender\n",
    "plt.figure(figsize=[8, 5])\n",
    "\n",
    "base_color = sb.color_palette()[0]\n",
    "sb.countplot(data = clean_df, x = 'member_gender', color = base_color)\n",
    "plt.title('Number of Trips by Gender')\n",
    "plt.xlabel('Gender')\n",
    "\n",
    "n_points = clean_df.shape[0]\n",
    "gender_counts = clean_df['member_gender'].value_counts()\n",
    "locs, labels = plt.xticks()\n",
    "\n",
    "for loc, label in zip(locs, labels):\n",
    "    count = gender_counts[label.get_text()]\n",
    "    pct_string = '{:0.1f}%'.format(100*count/n_points)\n",
    "    plt.text(loc, count-8, pct_string, ha='center', color='b')\n",
    "\n",
    "plt.show()"
   ]
  },
  {
   "cell_type": "markdown",
   "metadata": {},
   "source": [
    "this plot shows users are more of the Male gender(74.6%) and 23.3% of Female while  LGBtQ+ / no identity people might be among the others "
   ]
  },
  {
   "cell_type": "markdown",
   "metadata": {},
   "source": [
    "> we want to also know the popular age group between our customers and subribers...."
   ]
  },
  {
   "cell_type": "code",
   "execution_count": 175,
   "metadata": {},
   "outputs": [
    {
     "data": {
      "image/png": "[encoded data removed]",
      "text/plain": [
       "<Figure size 576x360 with 1 Axes>"
      ]
     },
     "metadata": {
      "needs_background": "light"
     },
     "output_type": "display_data"
    }
   ],
   "source": [
    "binsize = 5\n",
    "bins = np.arange(0, clean_df['Age'].max()+binsize, binsize)\n",
    "\n",
    "plt.figure(figsize=[8, 5])\n",
    "plt.hist(data = clean_df, x = 'Age', bins = bins)\n",
    "plt.xlim(0, 90)\n",
    "plt.xlabel('Age of User')\n",
    "plt.title('Distribution of User Age');"
   ]
  },
  {
   "cell_type": "markdown",
   "metadata": {},
   "source": [
    "we can observe that most users are between their mid 20s to mid 30s"
   ]
  },
  {
   "cell_type": "markdown",
   "metadata": {},
   "source": [
    "## Bivariate Exploration\n"
   ]
  },
  {
   "cell_type": "markdown",
   "metadata": {},
   "source": [
    "###### Can we isolate the an age group and view their activities and how long they took to complete their trip??"
   ]
  },
  {
   "cell_type": "code",
   "execution_count": 176,
   "metadata": {},
   "outputs": [],
   "source": [
    "def Ax_Ay_At(xL,yL,title):\n",
    "    plt.title(title)\n",
    "    plt.xlabel(xL)\n",
    "    plt.ylabel(yL)"
   ]
  },
  {
   "cell_type": "code",
   "execution_count": 177,
   "metadata": {},
   "outputs": [
    {
     "data": {
      "image/png": "[encoded data removed]",
      "text/plain": [
       "<Figure size 864x576 with 1 Axes>"
      ]
     },
     "metadata": {
      "needs_background": "light"
     },
     "output_type": "display_data"
    }
   ],
   "source": [
    "# scatter plot of duration vs. age\n",
    "plt.figure(figsize = [12, 8])\n",
    "plt.scatter(data = clean_df, x = 'Age', y = 'duration_minutes', alpha = 0.4)\n",
    "plt.xlim(18, 60)\n",
    "Ax_Ay_At('Age','Trip Duration in minutes','Trip Duration VS User Age')"
   ]
  },
  {
   "cell_type": "markdown",
   "metadata": {},
   "source": [
    "> When we take the 18 - 60 years old age bracket, we can see that most trip duration lasted under 200 minutes, across the board with ligth occurences after 200 minutes "
   ]
  },
  {
   "cell_type": "code",
   "execution_count": null,
   "metadata": {},
   "outputs": [],
   "source": []
  },
  {
   "cell_type": "code",
   "execution_count": 178,
   "metadata": {},
   "outputs": [
    {
     "data": {
      "text/plain": [
       "Text(0, 0.5, 'Duration in minutes')"
      ]
     },
     "execution_count": 178,
     "metadata": {},
     "output_type": "execute_result"
    },
    {
     "data": {
      "image/png": "[encoded data removed]",
      "text/plain": [
       "<Figure size 720x432 with 1 Axes>"
      ]
     },
     "metadata": {
      "needs_background": "light"
     },
     "output_type": "display_data"
    }
   ],
   "source": [
    "# due to the distance outliers the relation between distance and duration_minutes is not as clear.\n",
    "# Lets drop the outliers and create a plot \n",
    "df_dis_dur = clean_df.query(\"distance < 20\")\n",
    "plt.figure(figsize=[10, 6])\n",
    "plt.scatter(data = df_dis_dur, x = 'distance', y = 'duration_minutes', alpha = 0.3)\n",
    "x_y_t('Distance in km', 'Duration in minutes', 'Duration vs Distance')"
   ]
  },
  {
   "cell_type": "code",
   "execution_count": 207,
   "metadata": {},
   "outputs": [
    {
     "data": {
      "image/png": "[encoded data removed]",
      "text/plain": [
       "<Figure size 864x576 with 1 Axes>"
      ]
     },
     "metadata": {
      "needs_background": "light"
     },
     "output_type": "display_data"
    }
   ],
   "source": [
    "# plot a graph to see what time of the day rides are taken for each day of the week\n",
    "day =[\"Monday\", \"Tuesday\", \"Wednesday\", \"Thursday\", \"Friday\", \"Saturday\", \"Sunday\"]\n",
    "plt.figure(figsize=[12, 8])\n",
    "sb.countplot(data = clean_df, x = 'start_day', order= day, hue = 'day_time')\n",
    "x_y_t('Days of week', 'Number of rides', 'Number of rides each day of week and time of the day')\n",
    "plt.legend(title = 'Time of the day');"
   ]
  },
  {
   "cell_type": "code",
   "execution_count": 208,
   "metadata": {},
   "outputs": [
    {
     "data": {
      "image/png": "[encoded data removed]",
      "text/plain": [
       "<Figure size 864x576 with 1 Axes>"
      ]
     },
     "metadata": {
      "needs_background": "light"
     },
     "output_type": "display_data"
    }
   ],
   "source": [
    "# plot a graph to see how different user types ride each day of week\n",
    "plt.figure(figsize=[12, 8])\n",
    "sb.countplot(data = clean_df, x = 'start_day',order= day, hue = 'user_type')\n",
    "x_y_t('Type of user', 'Number of rides', 'Number of rides on different weekday by user type')\n",
    "plt.legend(title = 'Type of user');"
   ]
  },
  {
   "cell_type": "code",
   "execution_count": 181,
   "metadata": {},
   "outputs": [
    {
     "data": {
      "image/png": "[encoded data removed]",
      "text/plain": [
       "<Figure size 576x576 with 2 Axes>"
      ]
     },
     "metadata": {
      "needs_background": "light"
     },
     "output_type": "display_data"
    }
   ],
   "source": [
    "plt.figure(figsize=(8,8))\n",
    "ax = sb.heatmap(clean_df.corr(), cmap = 'RdBu',  square=True, vmin=-1, vmax=1, annot=True, fmt = '.3f');\n",
    "bottom, top = ax.get_ylim()\n",
    "ax.set_ylim(bottom + 0.5, top - 0.5)\n",
    "plt.title('Correlation b/w features');"
   ]
  },
  {
   "cell_type": "code",
   "execution_count": 182,
   "metadata": {},
   "outputs": [
    {
     "data": {
      "image/png": "[encoded data removed]",
      "text/plain": [
       "<Figure size 432x288 with 1 Axes>"
      ]
     },
     "metadata": {
      "needs_background": "light"
     },
     "output_type": "display_data"
    }
   ],
   "source": [
    "clean_df.groupby('user_type').duration_minutes.mean().plot(kind='barh');\n",
    "plt.title('Mean Ride duration for User');\n",
    "plt.xlabel('Mean Ride duration');"
   ]
  },
  {
   "cell_type": "code",
   "execution_count": 183,
   "metadata": {},
   "outputs": [
    {
     "data": {
      "image/png": "[encoded data removed]",
      "text/plain": [
       "<Figure size 576x432 with 1 Axes>"
      ]
     },
     "metadata": {
      "needs_background": "light"
     },
     "output_type": "display_data"
    }
   ],
   "source": [
    "plt.figure(figsize=(8,6))\n",
    "sb.countplot(data = clean_df, x = 'start_hour', hue='user_type');\n",
    "plt.ylabel('No. of Rides');\n",
    "plt.title('Ride Distribution');"
   ]
  },
  {
   "cell_type": "code",
   "execution_count": 184,
   "metadata": {},
   "outputs": [
    {
     "data": {
      "image/png": "[encoded data removed]",
      "text/plain": [
       "<Figure size 1080x720 with 2 Axes>"
      ]
     },
     "metadata": {
      "needs_background": "light"
     },
     "output_type": "display_data"
    }
   ],
   "source": [
    "plt.figure(figsize=(15,10))\n",
    "plt.subplot(2, 1, 1)\n",
    "sb.countplot(data = clean_df, x='start_hour', hue= 'start_day', palette = 'Blues');\n",
    "\n",
    "Ax_Ay_At('Hour', 'No. of Rides', 'Relation b/w Rides and Week, Hour')\n",
    "\n",
    "plt.subplot(2, 1, 2)\n",
    "sb.countplot(data = clean_df, x='start_hour', hue='user_type', palette = 'Greens');\n",
    "Ax_Ay_At('Hour', 'No. of Rides', 'Relation b/w Rides and user type, Hour')"
   ]
  },
  {
   "cell_type": "code",
   "execution_count": null,
   "metadata": {},
   "outputs": [],
   "source": []
  },
  {
   "cell_type": "code",
   "execution_count": 185,
   "metadata": {},
   "outputs": [
    {
     "data": {
      "image/png": "[encoded data removed]",
      "text/plain": [
       "<Figure size 432x288 with 1 Axes>"
      ]
     },
     "metadata": {
      "needs_background": "light"
     },
     "output_type": "display_data"
    }
   ],
   "source": [
    "#will take a subset of the data where duaration was less than an hour.\n",
    "clean_df = clean_df.query(\"duration_minutes < 60\")\n",
    "base_color = sb.color_palette()[0]\n",
    "sb.violinplot(data=clean_df, x='user_type', y='duration_minutes', color=base_color, inner='quartile')\n",
    "Ax_Ay_At('User Type', 'No. of Rides''Duration (minutes)', 'Duration Against User Type')"
   ]
  },
  {
   "cell_type": "code",
   "execution_count": 186,
   "metadata": {},
   "outputs": [
    {
     "data": {
      "text/html": [
       "<div>\n",
       "<style scoped>\n",
       "    .dataframe tbody tr th:only-of-type {\n",
       "        vertical-align: middle;\n",
       "    }\n",
       "\n",
       "    .dataframe tbody tr th {\n",
       "        vertical-align: top;\n",
       "    }\n",
       "\n",
       "    .dataframe thead th {\n",
       "        text-align: right;\n",
       "    }\n",
       "</style>\n",
       "<table border=\"1\" class=\"dataframe\">\n",
       "  <thead>\n",
       "    <tr style=\"text-align: right;\">\n",
       "      <th></th>\n",
       "      <th>count</th>\n",
       "      <th>mean</th>\n",
       "      <th>std</th>\n",
       "      <th>min</th>\n",
       "      <th>25%</th>\n",
       "      <th>50%</th>\n",
       "      <th>75%</th>\n",
       "      <th>max</th>\n",
       "    </tr>\n",
       "    <tr>\n",
       "      <th>user_type</th>\n",
       "      <th></th>\n",
       "      <th></th>\n",
       "      <th></th>\n",
       "      <th></th>\n",
       "      <th></th>\n",
       "      <th></th>\n",
       "      <th></th>\n",
       "      <th></th>\n",
       "    </tr>\n",
       "  </thead>\n",
       "  <tbody>\n",
       "    <tr>\n",
       "      <th>Customer</th>\n",
       "      <td>15864.0</td>\n",
       "      <td>14.500630</td>\n",
       "      <td>9.752067</td>\n",
       "      <td>1.0</td>\n",
       "      <td>8.0</td>\n",
       "      <td>12.0</td>\n",
       "      <td>19.0</td>\n",
       "      <td>59.0</td>\n",
       "    </tr>\n",
       "    <tr>\n",
       "      <th>Subscriber</th>\n",
       "      <td>157702.0</td>\n",
       "      <td>9.345233</td>\n",
       "      <td>6.949555</td>\n",
       "      <td>1.0</td>\n",
       "      <td>5.0</td>\n",
       "      <td>8.0</td>\n",
       "      <td>12.0</td>\n",
       "      <td>59.0</td>\n",
       "    </tr>\n",
       "  </tbody>\n",
       "</table>\n",
       "</div>"
      ],
      "text/plain": [
       "               count       mean       std  min  25%   50%   75%   max\n",
       "user_type                                                            \n",
       "Customer     15864.0  14.500630  9.752067  1.0  8.0  12.0  19.0  59.0\n",
       "Subscriber  157702.0   9.345233  6.949555  1.0  5.0   8.0  12.0  59.0"
      ]
     },
     "execution_count": 186,
     "metadata": {},
     "output_type": "execute_result"
    }
   ],
   "source": [
    "clean_df.groupby('user_type')['duration_minutes'].describe()"
   ]
  },
  {
   "cell_type": "code",
   "execution_count": 187,
   "metadata": {},
   "outputs": [
    {
     "data": {
      "image/png": "[encoded data removed]",
      "text/plain": [
       "<Figure size 432x288 with 1 Axes>"
      ]
     },
     "metadata": {
      "needs_background": "light"
     },
     "output_type": "display_data"
    }
   ],
   "source": [
    "base_color = sb.color_palette()[0]\n",
    "sb.violinplot(data= clean_df, x='member_gender', y='duration_minutes', color=base_color, inner='quartile')\n",
    "Ax_Ay_At('Gender', 'Duration (minutes)', 'Duration Against User Gender')"
   ]
  },
  {
   "cell_type": "code",
   "execution_count": 188,
   "metadata": {},
   "outputs": [
    {
     "data": {
      "text/plain": [
       "Text(0.5, 1.0, 'Age against User Type')"
      ]
     },
     "execution_count": 188,
     "metadata": {},
     "output_type": "execute_result"
    },
    {
     "data": {
      "image/png": "[encoded data removed]",
      "text/plain": [
       "<Figure size 432x288 with 1 Axes>"
      ]
     },
     "metadata": {
      "needs_background": "light"
     },
     "output_type": "display_data"
    }
   ],
   "source": [
    "sb.boxplot(data=clean_df, x='user_type',y='Age',color=base_color)\n",
    "Ax_Ay_At('User Type', 'Age', 'Age against User Type')"
   ]
  },
  {
   "cell_type": "code",
   "execution_count": 189,
   "metadata": {},
   "outputs": [
    {
     "data": {
      "text/html": [
       "<div>\n",
       "<style scoped>\n",
       "    .dataframe tbody tr th:only-of-type {\n",
       "        vertical-align: middle;\n",
       "    }\n",
       "\n",
       "    .dataframe tbody tr th {\n",
       "        vertical-align: top;\n",
       "    }\n",
       "\n",
       "    .dataframe thead th {\n",
       "        text-align: right;\n",
       "    }\n",
       "</style>\n",
       "<table border=\"1\" class=\"dataframe\">\n",
       "  <thead>\n",
       "    <tr style=\"text-align: right;\">\n",
       "      <th></th>\n",
       "      <th>count</th>\n",
       "      <th>mean</th>\n",
       "      <th>std</th>\n",
       "      <th>min</th>\n",
       "      <th>25%</th>\n",
       "      <th>50%</th>\n",
       "      <th>75%</th>\n",
       "      <th>max</th>\n",
       "    </tr>\n",
       "    <tr>\n",
       "      <th>user_type</th>\n",
       "      <th></th>\n",
       "      <th></th>\n",
       "      <th></th>\n",
       "      <th></th>\n",
       "      <th></th>\n",
       "      <th></th>\n",
       "      <th></th>\n",
       "      <th></th>\n",
       "    </tr>\n",
       "  </thead>\n",
       "  <tbody>\n",
       "    <tr>\n",
       "      <th>Customer</th>\n",
       "      <td>15864.0</td>\n",
       "      <td>33.644793</td>\n",
       "      <td>9.461973</td>\n",
       "      <td>18.0</td>\n",
       "      <td>27.0</td>\n",
       "      <td>32.0</td>\n",
       "      <td>38.0</td>\n",
       "      <td>141.0</td>\n",
       "    </tr>\n",
       "    <tr>\n",
       "      <th>Subscriber</th>\n",
       "      <td>157702.0</td>\n",
       "      <td>34.246617</td>\n",
       "      <td>10.178865</td>\n",
       "      <td>18.0</td>\n",
       "      <td>27.0</td>\n",
       "      <td>32.0</td>\n",
       "      <td>39.0</td>\n",
       "      <td>119.0</td>\n",
       "    </tr>\n",
       "  </tbody>\n",
       "</table>\n",
       "</div>"
      ],
      "text/plain": [
       "               count       mean        std   min   25%   50%   75%    max\n",
       "user_type                                                                \n",
       "Customer     15864.0  33.644793   9.461973  18.0  27.0  32.0  38.0  141.0\n",
       "Subscriber  157702.0  34.246617  10.178865  18.0  27.0  32.0  39.0  119.0"
      ]
     },
     "execution_count": 189,
     "metadata": {},
     "output_type": "execute_result"
    }
   ],
   "source": [
    "clean_df.groupby('user_type')['Age'].describe()"
   ]
  },
  {
   "cell_type": "code",
   "execution_count": 190,
   "metadata": {},
   "outputs": [
    {
     "data": {
      "image/png": "[encoded data removed]",
      "text/plain": [
       "<Figure size 1440x288 with 1 Axes>"
      ]
     },
     "metadata": {
      "needs_background": "light"
     },
     "output_type": "display_data"
    }
   ],
   "source": [
    "# let plot another type of plot (Point plot)\n",
    "plt.figure(figsize=[20, 4])\n",
    "\n",
    "sb.pointplot(data=clean_df, x='Age', y='duration_minutes', errwidth=0)\n",
    "plt.xticks(rotation=90)\n",
    "Ax_Ay_At('Age', 'Avg. Duration (m)', 'Average duration vs Age')"
   ]
  },
  {
   "cell_type": "code",
   "execution_count": 191,
   "metadata": {},
   "outputs": [
    {
     "data": {
      "image/png": "[encoded data removed]",
      "text/plain": [
       "<Figure size 432x288 with 1 Axes>"
      ]
     },
     "metadata": {
      "needs_background": "light"
     },
     "output_type": "display_data"
    }
   ],
   "source": [
    "# relationship between member_gender and user type\n",
    "sb.countplot(data=clean_df, x='member_gender', hue='user_type')\n",
    "plt.xlabel('Gender')\n",
    "plt.legend(title='User Type')\n",
    "plt.title('User type');"
   ]
  },
  {
   "cell_type": "code",
   "execution_count": 192,
   "metadata": {},
   "outputs": [
    {
     "data": {
      "image/png": "[encoded data removed]",
      "text/plain": [
       "<Figure size 432x288 with 2 Axes>"
      ]
     },
     "metadata": {
      "needs_background": "light"
     },
     "output_type": "display_data"
    }
   ],
   "source": [
    "sb.heatmap(clean_df[['distance', 'duration_minutes']].corr(), annot = True, fmt = '.3f',\n",
    "           cmap = 'vlag_r', center = 0)\n",
    "plt.title('Duration vs Distance');"
   ]
  },
  {
   "cell_type": "code",
   "execution_count": null,
   "metadata": {},
   "outputs": [],
   "source": []
  },
  {
   "cell_type": "markdown",
   "metadata": {},
   "source": [
    "### Some of the relationships observed in this part of the investigation. Including feature(s) of interest vary with other features in the dataset.\n",
    "\n",
    "> when we observe the mean duration plot between customers and subcribers, we notice that Customer uses the bike for more duration on average than Subscribers.\n",
    "\n",
    "> when we take into account the 'Number of rides each day of week and time of the day' plot we can see that the most active days are tuesdays wednesdays and thursdays with the Morning time having most activities, something interesting is the afternoon rides whic are fairly consistent throughout the week including weekends (saturdays and sunday) all ranging bettween over 6k to less than 8k rides, while there are always less night rides meaning riders are less likel to want a ride after 7pm in the evening.\n",
    "\n",
    "> 7AM - 9AM && 4PM - 6PM are peak times, in between that (10AM - 3PM) have a almost horizontal line in demand. while other times quite as you get further away frm these active times.\n",
    "\n",
    "> in the Duration Against User Type violin plot, there's just a little diference between both gender in times of duration of time used to complete rides. so Gender did not really affect the length of the trip duration.\n",
    "\n",
    ">In addition, we could see that a user who subscribes to the GoBike service on average takes shorter journeys than one-off customers. However as the subscriber user is more regular then the customer user is more likely to be affected by random trips."
   ]
  },
  {
   "cell_type": "markdown",
   "metadata": {},
   "source": [
    "## Multivariate Exploration"
   ]
  },
  {
   "cell_type": "code",
   "execution_count": 193,
   "metadata": {},
   "outputs": [
    {
     "data": {
      "text/plain": [
       "count    173566.000000\n",
       "mean         34.191610\n",
       "std          10.116912\n",
       "min          18.000000\n",
       "25%          27.000000\n",
       "50%          32.000000\n",
       "75%          39.000000\n",
       "max         141.000000\n",
       "Name: Age, dtype: float64"
      ]
     },
     "execution_count": 193,
     "metadata": {},
     "output_type": "execute_result"
    }
   ],
   "source": [
    "clean_df.Age.describe()"
   ]
  },
  {
   "cell_type": "code",
   "execution_count": 194,
   "metadata": {},
   "outputs": [
    {
     "data": {
      "text/plain": [
       "119    53\n",
       "71     51\n",
       "76     30\n",
       "18     29\n",
       "77     21\n",
       "86     20\n",
       "73     19\n",
       "80     11\n",
       "117    11\n",
       "78      8\n",
       "118     6\n",
       "99      3\n",
       "81      3\n",
       "75      2\n",
       "85      2\n",
       "91      1\n",
       "141     1\n",
       "89      1\n",
       "109     1\n",
       "92      1\n",
       "Name: Age, dtype: int64"
      ]
     },
     "execution_count": 194,
     "metadata": {},
     "output_type": "execute_result"
    }
   ],
   "source": [
    "clean_df.Age.value_counts().tail(20)"
   ]
  },
  {
   "cell_type": "code",
   "execution_count": null,
   "metadata": {},
   "outputs": [],
   "source": []
  },
  {
   "cell_type": "code",
   "execution_count": 195,
   "metadata": {},
   "outputs": [],
   "source": [
    "#Split into groups as this may make it easier\n",
    "age_bins = [0, 19, 29, 39, 49, 59,\n",
    "            69, 79, 89, 99]\n",
    "age_labels = ['10 - 19', '20 - 29', '30 - 39', '40 - 49', '50 - 59',\n",
    "              '60 - 69', '70 - 79', '80 - 89', '90 - 99']\n",
    "\n",
    "clean_df['age_group'] = pd.cut(clean_df['Age'], bins = age_bins, labels = age_labels, right = False)"
   ]
  },
  {
   "cell_type": "code",
   "execution_count": 196,
   "metadata": {},
   "outputs": [],
   "source": [
    "#taking a subset\n",
    "clean_df_Age = clean_df[clean_df['Age']<=60]"
   ]
  },
  {
   "cell_type": "code",
   "execution_count": 197,
   "metadata": {},
   "outputs": [
    {
     "data": {
      "image/png": "[encoded data removed]",
      "text/plain": [
       "<Figure size 864x576 with 1 Axes>"
      ]
     },
     "metadata": {
      "needs_background": "light"
     },
     "output_type": "display_data"
    }
   ],
   "source": [
    "plt.figure(figsize = [12, 8])\n",
    "ax = sb.barplot(x='member_gender', y = 'duration_minutes', hue='age_group', data=clean_df_Age.sort_values(by= 'age_group'))\n",
    "plt.title('Trip Duration Across Gender and Age Group')\n",
    "plt.xlabel('Gender')\n",
    "plt.ylabel('Duration in minutes')\n",
    "leg = ax.legend()"
   ]
  },
  {
   "cell_type": "code",
   "execution_count": null,
   "metadata": {},
   "outputs": [],
   "source": []
  },
  {
   "cell_type": "code",
   "execution_count": 198,
   "metadata": {},
   "outputs": [
    {
     "data": {
      "image/png": "[encoded data removed]",
      "text/plain": [
       "<Figure size 576x576 with 1 Axes>"
      ]
     },
     "metadata": {
      "needs_background": "light"
     },
     "output_type": "display_data"
    }
   ],
   "source": [
    "plt.figure(figsize = [8, 8])\n",
    "ax = sb.barplot(x='user_type', y = 'duration_minutes', hue='age_group', data=clean_df_Age.sort_values(by= 'age_group'))\n",
    "plt.title('Trip Duration Across Gender and Age Group')\n",
    "plt.xlabel('user_type')\n",
    "plt.ylabel('Duration (minutes)')\n",
    "leg = ax.legend()"
   ]
  },
  {
   "cell_type": "code",
   "execution_count": 199,
   "metadata": {},
   "outputs": [
    {
     "data": {
      "text/html": [
       "<div>\n",
       "<style scoped>\n",
       "    .dataframe tbody tr th:only-of-type {\n",
       "        vertical-align: middle;\n",
       "    }\n",
       "\n",
       "    .dataframe tbody tr th {\n",
       "        vertical-align: top;\n",
       "    }\n",
       "\n",
       "    .dataframe thead th {\n",
       "        text-align: right;\n",
       "    }\n",
       "</style>\n",
       "<table border=\"1\" class=\"dataframe\">\n",
       "  <thead>\n",
       "    <tr style=\"text-align: right;\">\n",
       "      <th></th>\n",
       "      <th>user_type</th>\n",
       "      <th>member_gender</th>\n",
       "      <th>Age</th>\n",
       "      <th>start_day</th>\n",
       "      <th>day_time</th>\n",
       "      <th>distance</th>\n",
       "      <th>duration_minutes</th>\n",
       "      <th>month</th>\n",
       "      <th>bike_share_for_all_trip</th>\n",
       "      <th>start_hour</th>\n",
       "      <th>age_group</th>\n",
       "    </tr>\n",
       "  </thead>\n",
       "  <tbody>\n",
       "    <tr>\n",
       "      <th>4</th>\n",
       "      <td>Subscriber</td>\n",
       "      <td>Male</td>\n",
       "      <td>45</td>\n",
       "      <td>Thursday</td>\n",
       "      <td>Night</td>\n",
       "      <td>2.409301</td>\n",
       "      <td>26</td>\n",
       "      <td>February</td>\n",
       "      <td>Yes</td>\n",
       "      <td>23</td>\n",
       "      <td>40 - 49</td>\n",
       "    </tr>\n",
       "  </tbody>\n",
       "</table>\n",
       "</div>"
      ],
      "text/plain": [
       "    user_type member_gender  Age start_day day_time  distance  \\\n",
       "4  Subscriber          Male   45  Thursday    Night  2.409301   \n",
       "\n",
       "   duration_minutes     month bike_share_for_all_trip  start_hour age_group  \n",
       "4                26  February                     Yes          23   40 - 49  "
      ]
     },
     "execution_count": 199,
     "metadata": {},
     "output_type": "execute_result"
    }
   ],
   "source": [
    "clean_df.head(1)"
   ]
  },
  {
   "cell_type": "code",
   "execution_count": 200,
   "metadata": {},
   "outputs": [],
   "source": [
    "# create a data set for different user type with total distance travelled in each month\n",
    "df_distance  = clean_df.groupby(['user_type', 'start_day'])\n",
    "dis_sum = df_distance.distance.sum()\n",
    "user_type = df_distance[['user_type']].first()\n",
    "month = df_distance[['start_day']].first()\n",
    "df_distance = pd.concat([dis_sum, user_type, month], 1)"
   ]
  },
  {
   "cell_type": "code",
   "execution_count": 201,
   "metadata": {},
   "outputs": [
    {
     "data": {
      "text/html": [
       "<div>\n",
       "<style scoped>\n",
       "    .dataframe tbody tr th:only-of-type {\n",
       "        vertical-align: middle;\n",
       "    }\n",
       "\n",
       "    .dataframe tbody tr th {\n",
       "        vertical-align: top;\n",
       "    }\n",
       "\n",
       "    .dataframe thead th {\n",
       "        text-align: right;\n",
       "    }\n",
       "</style>\n",
       "<table border=\"1\" class=\"dataframe\">\n",
       "  <thead>\n",
       "    <tr style=\"text-align: right;\">\n",
       "      <th></th>\n",
       "      <th></th>\n",
       "      <th>distance</th>\n",
       "      <th>user_type</th>\n",
       "      <th>start_day</th>\n",
       "    </tr>\n",
       "    <tr>\n",
       "      <th>user_type</th>\n",
       "      <th>start_day</th>\n",
       "      <th></th>\n",
       "      <th></th>\n",
       "      <th></th>\n",
       "    </tr>\n",
       "  </thead>\n",
       "  <tbody>\n",
       "    <tr>\n",
       "      <th rowspan=\"7\" valign=\"top\">Customer</th>\n",
       "      <th>Friday</th>\n",
       "      <td>4875.308256</td>\n",
       "      <td>Customer</td>\n",
       "      <td>Friday</td>\n",
       "    </tr>\n",
       "    <tr>\n",
       "      <th>Monday</th>\n",
       "      <td>4203.020833</td>\n",
       "      <td>Customer</td>\n",
       "      <td>Monday</td>\n",
       "    </tr>\n",
       "    <tr>\n",
       "      <th>Saturday</th>\n",
       "      <td>3704.018082</td>\n",
       "      <td>Customer</td>\n",
       "      <td>Saturday</td>\n",
       "    </tr>\n",
       "    <tr>\n",
       "      <th>Sunday</th>\n",
       "      <td>3682.012421</td>\n",
       "      <td>Customer</td>\n",
       "      <td>Sunday</td>\n",
       "    </tr>\n",
       "    <tr>\n",
       "      <th>Thursday</th>\n",
       "      <td>5546.081751</td>\n",
       "      <td>Customer</td>\n",
       "      <td>Thursday</td>\n",
       "    </tr>\n",
       "    <tr>\n",
       "      <th>Tuesday</th>\n",
       "      <td>4356.376088</td>\n",
       "      <td>Customer</td>\n",
       "      <td>Tuesday</td>\n",
       "    </tr>\n",
       "    <tr>\n",
       "      <th>Wednesday</th>\n",
       "      <td>3986.773264</td>\n",
       "      <td>Customer</td>\n",
       "      <td>Wednesday</td>\n",
       "    </tr>\n",
       "    <tr>\n",
       "      <th rowspan=\"7\" valign=\"top\">Subscriber</th>\n",
       "      <th>Friday</th>\n",
       "      <td>42491.260774</td>\n",
       "      <td>Subscriber</td>\n",
       "      <td>Friday</td>\n",
       "    </tr>\n",
       "    <tr>\n",
       "      <th>Monday</th>\n",
       "      <td>38347.016288</td>\n",
       "      <td>Subscriber</td>\n",
       "      <td>Monday</td>\n",
       "    </tr>\n",
       "    <tr>\n",
       "      <th>Saturday</th>\n",
       "      <td>19227.771903</td>\n",
       "      <td>Subscriber</td>\n",
       "      <td>Saturday</td>\n",
       "    </tr>\n",
       "    <tr>\n",
       "      <th>Sunday</th>\n",
       "      <td>19176.113409</td>\n",
       "      <td>Subscriber</td>\n",
       "      <td>Sunday</td>\n",
       "    </tr>\n",
       "    <tr>\n",
       "      <th>Thursday</th>\n",
       "      <td>52195.026611</td>\n",
       "      <td>Subscriber</td>\n",
       "      <td>Thursday</td>\n",
       "    </tr>\n",
       "    <tr>\n",
       "      <th>Tuesday</th>\n",
       "      <td>47666.026905</td>\n",
       "      <td>Subscriber</td>\n",
       "      <td>Tuesday</td>\n",
       "    </tr>\n",
       "    <tr>\n",
       "      <th>Wednesday</th>\n",
       "      <td>44022.823704</td>\n",
       "      <td>Subscriber</td>\n",
       "      <td>Wednesday</td>\n",
       "    </tr>\n",
       "  </tbody>\n",
       "</table>\n",
       "</div>"
      ],
      "text/plain": [
       "                          distance   user_type  start_day\n",
       "user_type  start_day                                     \n",
       "Customer   Friday      4875.308256    Customer     Friday\n",
       "           Monday      4203.020833    Customer     Monday\n",
       "           Saturday    3704.018082    Customer   Saturday\n",
       "           Sunday      3682.012421    Customer     Sunday\n",
       "           Thursday    5546.081751    Customer   Thursday\n",
       "           Tuesday     4356.376088    Customer    Tuesday\n",
       "           Wednesday   3986.773264    Customer  Wednesday\n",
       "Subscriber Friday     42491.260774  Subscriber     Friday\n",
       "           Monday     38347.016288  Subscriber     Monday\n",
       "           Saturday   19227.771903  Subscriber   Saturday\n",
       "           Sunday     19176.113409  Subscriber     Sunday\n",
       "           Thursday   52195.026611  Subscriber   Thursday\n",
       "           Tuesday    47666.026905  Subscriber    Tuesday\n",
       "           Wednesday  44022.823704  Subscriber  Wednesday"
      ]
     },
     "execution_count": 201,
     "metadata": {},
     "output_type": "execute_result"
    }
   ],
   "source": [
    "df_distance"
   ]
  },
  {
   "cell_type": "code",
   "execution_count": 202,
   "metadata": {},
   "outputs": [
    {
     "data": {
      "text/html": [
       "<div>\n",
       "<style scoped>\n",
       "    .dataframe tbody tr th:only-of-type {\n",
       "        vertical-align: middle;\n",
       "    }\n",
       "\n",
       "    .dataframe tbody tr th {\n",
       "        vertical-align: top;\n",
       "    }\n",
       "\n",
       "    .dataframe thead th {\n",
       "        text-align: right;\n",
       "    }\n",
       "</style>\n",
       "<table border=\"1\" class=\"dataframe\">\n",
       "  <thead>\n",
       "    <tr style=\"text-align: right;\">\n",
       "      <th></th>\n",
       "      <th></th>\n",
       "      <th>duration_minutes</th>\n",
       "      <th>user_type</th>\n",
       "      <th>start_day</th>\n",
       "    </tr>\n",
       "    <tr>\n",
       "      <th>start_day</th>\n",
       "      <th>user_type</th>\n",
       "      <th></th>\n",
       "      <th></th>\n",
       "      <th></th>\n",
       "    </tr>\n",
       "  </thead>\n",
       "  <tbody>\n",
       "    <tr>\n",
       "      <th rowspan=\"2\" valign=\"top\">Friday</th>\n",
       "      <th>Customer</th>\n",
       "      <td>34643</td>\n",
       "      <td>Customer</td>\n",
       "      <td>Friday</td>\n",
       "    </tr>\n",
       "    <tr>\n",
       "      <th>Subscriber</th>\n",
       "      <td>232742</td>\n",
       "      <td>Subscriber</td>\n",
       "      <td>Friday</td>\n",
       "    </tr>\n",
       "    <tr>\n",
       "      <th rowspan=\"2\" valign=\"top\">Monday</th>\n",
       "      <th>Customer</th>\n",
       "      <td>32259</td>\n",
       "      <td>Customer</td>\n",
       "      <td>Monday</td>\n",
       "    </tr>\n",
       "    <tr>\n",
       "      <th>Subscriber</th>\n",
       "      <td>211894</td>\n",
       "      <td>Subscriber</td>\n",
       "      <td>Monday</td>\n",
       "    </tr>\n",
       "    <tr>\n",
       "      <th rowspan=\"2\" valign=\"top\">Saturday</th>\n",
       "      <th>Customer</th>\n",
       "      <td>34457</td>\n",
       "      <td>Customer</td>\n",
       "      <td>Saturday</td>\n",
       "    </tr>\n",
       "    <tr>\n",
       "      <th>Subscriber</th>\n",
       "      <td>121884</td>\n",
       "      <td>Subscriber</td>\n",
       "      <td>Saturday</td>\n",
       "    </tr>\n",
       "    <tr>\n",
       "      <th rowspan=\"2\" valign=\"top\">Sunday</th>\n",
       "      <th>Customer</th>\n",
       "      <td>36408</td>\n",
       "      <td>Customer</td>\n",
       "      <td>Sunday</td>\n",
       "    </tr>\n",
       "    <tr>\n",
       "      <th>Subscriber</th>\n",
       "      <td>121082</td>\n",
       "      <td>Subscriber</td>\n",
       "      <td>Sunday</td>\n",
       "    </tr>\n",
       "    <tr>\n",
       "      <th rowspan=\"2\" valign=\"top\">Thursday</th>\n",
       "      <th>Customer</th>\n",
       "      <td>36973</td>\n",
       "      <td>Customer</td>\n",
       "      <td>Thursday</td>\n",
       "    </tr>\n",
       "    <tr>\n",
       "      <th>Subscriber</th>\n",
       "      <td>287775</td>\n",
       "      <td>Subscriber</td>\n",
       "      <td>Thursday</td>\n",
       "    </tr>\n",
       "    <tr>\n",
       "      <th rowspan=\"2\" valign=\"top\">Tuesday</th>\n",
       "      <th>Customer</th>\n",
       "      <td>28961</td>\n",
       "      <td>Customer</td>\n",
       "      <td>Tuesday</td>\n",
       "    </tr>\n",
       "    <tr>\n",
       "      <th>Subscriber</th>\n",
       "      <td>258094</td>\n",
       "      <td>Subscriber</td>\n",
       "      <td>Tuesday</td>\n",
       "    </tr>\n",
       "    <tr>\n",
       "      <th rowspan=\"2\" valign=\"top\">Wednesday</th>\n",
       "      <th>Customer</th>\n",
       "      <td>26337</td>\n",
       "      <td>Customer</td>\n",
       "      <td>Wednesday</td>\n",
       "    </tr>\n",
       "    <tr>\n",
       "      <th>Subscriber</th>\n",
       "      <td>240291</td>\n",
       "      <td>Subscriber</td>\n",
       "      <td>Wednesday</td>\n",
       "    </tr>\n",
       "  </tbody>\n",
       "</table>\n",
       "</div>"
      ],
      "text/plain": [
       "                      duration_minutes   user_type  start_day\n",
       "start_day user_type                                          \n",
       "Friday    Customer               34643    Customer     Friday\n",
       "          Subscriber            232742  Subscriber     Friday\n",
       "Monday    Customer               32259    Customer     Monday\n",
       "          Subscriber            211894  Subscriber     Monday\n",
       "Saturday  Customer               34457    Customer   Saturday\n",
       "          Subscriber            121884  Subscriber   Saturday\n",
       "Sunday    Customer               36408    Customer     Sunday\n",
       "          Subscriber            121082  Subscriber     Sunday\n",
       "Thursday  Customer               36973    Customer   Thursday\n",
       "          Subscriber            287775  Subscriber   Thursday\n",
       "Tuesday   Customer               28961    Customer    Tuesday\n",
       "          Subscriber            258094  Subscriber    Tuesday\n",
       "Wednesday Customer               26337    Customer  Wednesday\n",
       "          Subscriber            240291  Subscriber  Wednesday"
      ]
     },
     "execution_count": 202,
     "metadata": {},
     "output_type": "execute_result"
    }
   ],
   "source": [
    "# create a data set for different user type with total duration in minutes on each weekday\n",
    "df_duration  = clean_df.groupby(['start_day', 'user_type'])\n",
    "dur_sum = df_duration.duration_minutes.sum()\n",
    "user_type = df_duration[['user_type']].first()\n",
    "day = df_duration[['start_day']].first()\n",
    "df_duration = pd.concat([dur_sum, user_type, day], 1)\n",
    "df_duration"
   ]
  },
  {
   "cell_type": "code",
   "execution_count": 203,
   "metadata": {},
   "outputs": [
    {
     "data": {
      "image/png": "[encoded data removed]",
      "text/plain": [
       "<Figure size 864x576 with 1 Axes>"
      ]
     },
     "metadata": {
      "needs_background": "light"
     },
     "output_type": "display_data"
    }
   ],
   "source": [
    "# plot a graph to see how different user types ride each Day of the week\n",
    "plt.figure(figsize=[12, 8])\n",
    "sb.countplot(data = clean_df.query('user_type == \"Subscriber\"'), x = 'start_day', order= day, hue = 'day_time')\n",
    "plt.xlabel('Days of the week', fontsize=12)\n",
    "plt.ylabel('Number of rides', fontsize=12)\n",
    "plt.title('Number of rides for a week on a daily bases by subscribers', fontsize=16)\n",
    "plt.legend(title = 'Time of the Day');"
   ]
  },
  {
   "cell_type": "code",
   "execution_count": 204,
   "metadata": {},
   "outputs": [
    {
     "data": {
      "image/png": "[encoded data removed]",
      "text/plain": [
       "<Figure size 864x576 with 1 Axes>"
      ]
     },
     "metadata": {
      "needs_background": "light"
     },
     "output_type": "display_data"
    }
   ],
   "source": [
    "# plot a graph to see how different user types ride each day of the week\n",
    "plt.figure(figsize=[12, 8])\n",
    "sb.countplot(data = clean_df.query('user_type == \"Customer\"'), x = 'start_day', order= day, hue = 'day_time')\n",
    "plt.xlabel('Days of the week', fontsize=12)\n",
    "plt.ylabel('Number of rides', fontsize=12)\n",
    "plt.title('Number of rides every month on a day of week by Customers', fontsize=16)\n",
    "plt.legend(title = 'Time of the Day');"
   ]
  },
  {
   "cell_type": "code",
   "execution_count": 205,
   "metadata": {},
   "outputs": [],
   "source": [
    "clean_df.to_csv('for_exlporation_analysis.csv', index=False)"
   ]
  },
  {
   "cell_type": "markdown",
   "metadata": {},
   "source": [
    "#### Some of the relationships observed in the Multivariate Exploration:\n",
    "\n",
    "> when we group Gender by Ages, Across both male and female within member_gender, users between the age of 10 and 19 took trips that lasted longer than the other ages groups. dues to youthful vigour, exuberance, fitness level etc. also this same age group (10 to 19 year old) who were one off customers took the longest trips. This could be due to the individual using it for recreational purposes or going to school as examples\n",
    "\n",
    "> The further analysis strengthened the initial observation of short duration rides and shorter distances. Also subscribers using the bike more than customers. The weekdays account for most of the rides. \n",
    "\n",
    "> The customer has the highest duration and the male customer has the highest proportion and the customer has the highest duration and the other gender is riding more in the basis of start day of week\n",
    "\n",
    "> Something interesting is The spike in demand for bikes by Customers during saturday and Sunday Afternoon alongside friday mornings and its high drop in subcribers during same time in weekends . Also it looks like Tuesdays, thursdays and Fridays mornings have the highest demands in general.\n",
    "\n",
    "> Also older age groups (50 - 69) took  more time to complete their rides across genders. You could assume that those in retirement have more time to spare to take longer trips."
   ]
  },
  {
   "cell_type": "markdown",
   "metadata": {},
   "source": [
    "### Conclusions:\n",
    "After the analysis we can make following observations:  \n",
    "\n",
    "- Most of the users are subscribers.\n",
    "\n",
    "- Ridership is almost constant on weekdays (Mon-Fri) then decreses on weekends.\n",
    "\n",
    "- Highest bike demands on 8:00 and 17:00 on weekdays, suggests that users might office commuters.\n",
    "\n",
    "- Customer uses the bike for more duration on average than Subscribers.\n",
    "\n",
    "- The no. of rides by customer increases as the no. of rides by subscribers decreases. At 14:00 the subscribers ridership is min (local) while the customer ridership is at maximum.\n",
    "\n",
    "- On weekdays ridership increased at 8:00, and 17:00 while on weekends the ridership increases between 11:00 to 15:00\n",
    "\n",
    "- Also distance and the duration have a very small correlation, customers ride longer than the subscribers. Saturday and sundays are the days with longer ride duration and the female customers average ride duration is the highest."
   ]
  },
  {
   "cell_type": "markdown",
   "metadata": {},
   "source": [
    "\n",
    "\n"
   ]
  }
 ],
 "metadata": {
  "kernelspec": {
   "display_name": "Python 3 (ipykernel)",
   "language": "python",
   "name": "python3"
  },
  "language_info": {
   "codemirror_mode": {
    "name": "ipython",
    "version": 3
   },
   "file_extension": ".py",
   "mimetype": "text/x-python",
   "name": "python",
   "nbconvert_exporter": "python",
   "pygments_lexer": "ipython3",
   "version": "3.9.12"
  }
 },
 "nbformat": 4,
 "nbformat_minor": 2
}
